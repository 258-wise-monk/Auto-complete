{
 "cells": [
  {
   "cell_type": "code",
   "execution_count": 0,
   "metadata": {
    "colab": {},
    "colab_type": "code",
    "id": "XAEl634aEN6e"
   },
   "outputs": [],
   "source": [
    "from numpy import array\n",
    "from pickle import dump\n",
    "from keras.preprocessing.text import Tokenizer\n",
    "from keras.utils import to_categorical\n",
    "from keras.models import Sequential\n",
    "from keras.layers import Dense\n",
    "from keras.layers import LSTM\n",
    "from keras.layers import Embedding\n",
    "from keras.callbacks import EarlyStopping, ModelCheckpoint"
   ]
  },
  {
   "cell_type": "code",
   "execution_count": 5,
   "metadata": {
    "colab": {
     "base_uri": "https://localhost:8080/",
     "height": 34
    },
    "colab_type": "code",
    "executionInfo": {
     "elapsed": 1285,
     "status": "ok",
     "timestamp": 1552988701750,
     "user": {
      "displayName": "Tseh Lee",
      "photoUrl": "",
      "userId": "00006482450783520423"
     },
     "user_tz": 420
    },
    "id": "LW29hRrUEN6j",
    "outputId": "9f4275b6-c36e-482a-a66a-6ff02c557366"
   },
   "outputs": [
    {
     "name": "stdout",
     "output_type": "stream",
     "text": [
      "['/job:localhost/replica:0/task:0/device:GPU:0']\n"
     ]
    }
   ],
   "source": [
    "from keras import backend as K\n",
    "#GPU utilize monitor\n",
    "print(K.tensorflow_backend._get_available_gpus())"
   ]
  },
  {
   "cell_type": "code",
   "execution_count": 0,
   "metadata": {
    "colab": {},
    "colab_type": "code",
    "id": "6Haz0SVbEN6m"
   },
   "outputs": [],
   "source": [
    "# load doc into memory\n",
    "def load_doc(filename):\n",
    "    # open the file as read only\n",
    "    file = open(filename, 'r')\n",
    "    # read all text\n",
    "    text = file.read()\n",
    "    # close the file\n",
    "    file.close()\n",
    "    return text"
   ]
  },
  {
   "cell_type": "code",
   "execution_count": 16,
   "metadata": {
    "colab": {
     "base_uri": "https://localhost:8080/",
     "height": 350
    },
    "colab_type": "code",
    "executionInfo": {
     "elapsed": 754,
     "status": "error",
     "timestamp": 1552988581420,
     "user": {
      "displayName": "Tseh Lee",
      "photoUrl": "",
      "userId": "00006482450783520423"
     },
     "user_tz": 420
    },
    "id": "HhQ-y4ZiEN6p",
    "outputId": "b1a30609-1a58-481b-84b8-9a3d52fd1a0a"
   },
   "outputs": [
    {
     "ename": "FileNotFoundError",
     "evalue": "ignored",
     "output_type": "error",
     "traceback": [
      "\u001b[0;31m---------------------------------------------------------------------------\u001b[0m",
      "\u001b[0;31mFileNotFoundError\u001b[0m                         Traceback (most recent call last)",
      "\u001b[0;32m<ipython-input-16-099603f377d1>\u001b[0m in \u001b[0;36m<module>\u001b[0;34m()\u001b[0m\n\u001b[1;32m      1\u001b[0m \u001b[0min_filename\u001b[0m \u001b[0;34m=\u001b[0m \u001b[0;34m'train_set.txt'\u001b[0m\u001b[0;34m\u001b[0m\u001b[0;34m\u001b[0m\u001b[0m\n\u001b[0;32m----> 2\u001b[0;31m \u001b[0mdoc\u001b[0m \u001b[0;34m=\u001b[0m \u001b[0mload_doc\u001b[0m\u001b[0;34m(\u001b[0m\u001b[0min_filename\u001b[0m\u001b[0;34m)\u001b[0m\u001b[0;34m\u001b[0m\u001b[0;34m\u001b[0m\u001b[0m\n\u001b[0m\u001b[1;32m      3\u001b[0m \u001b[0;31m#use first 1000000 lenth for training, make the model undercontrol,Unique Tokens will be 9395\u001b[0m\u001b[0;34m\u001b[0m\u001b[0;34m\u001b[0m\u001b[0;34m\u001b[0m\u001b[0m\n\u001b[1;32m      4\u001b[0m \u001b[0mdoc\u001b[0m \u001b[0;34m=\u001b[0m \u001b[0mdoc\u001b[0m\u001b[0;34m[\u001b[0m\u001b[0;36m0\u001b[0m\u001b[0;34m:\u001b[0m\u001b[0;36m1000000\u001b[0m\u001b[0;34m]\u001b[0m\u001b[0;34m\u001b[0m\u001b[0;34m\u001b[0m\u001b[0m\n\u001b[1;32m      5\u001b[0m \u001b[0mprint\u001b[0m\u001b[0;34m(\u001b[0m\u001b[0mlen\u001b[0m\u001b[0;34m(\u001b[0m\u001b[0mdoc\u001b[0m\u001b[0;34m)\u001b[0m\u001b[0;34m)\u001b[0m\u001b[0;34m\u001b[0m\u001b[0;34m\u001b[0m\u001b[0m\n",
      "\u001b[0;32m<ipython-input-15-4e049e6631e6>\u001b[0m in \u001b[0;36mload_doc\u001b[0;34m(filename)\u001b[0m\n\u001b[1;32m      1\u001b[0m \u001b[0;32mdef\u001b[0m \u001b[0mload_doc\u001b[0m\u001b[0;34m(\u001b[0m\u001b[0mfilename\u001b[0m\u001b[0;34m)\u001b[0m\u001b[0;34m:\u001b[0m\u001b[0;34m\u001b[0m\u001b[0;34m\u001b[0m\u001b[0m\n\u001b[1;32m      2\u001b[0m     \u001b[0;31m# open the file as read only\u001b[0m\u001b[0;34m\u001b[0m\u001b[0;34m\u001b[0m\u001b[0;34m\u001b[0m\u001b[0m\n\u001b[0;32m----> 3\u001b[0;31m     \u001b[0mfile\u001b[0m \u001b[0;34m=\u001b[0m \u001b[0mopen\u001b[0m\u001b[0;34m(\u001b[0m\u001b[0mfilename\u001b[0m\u001b[0;34m,\u001b[0m \u001b[0;34m'r'\u001b[0m\u001b[0;34m)\u001b[0m\u001b[0;34m\u001b[0m\u001b[0;34m\u001b[0m\u001b[0m\n\u001b[0m\u001b[1;32m      4\u001b[0m     \u001b[0;31m# read all text\u001b[0m\u001b[0;34m\u001b[0m\u001b[0;34m\u001b[0m\u001b[0;34m\u001b[0m\u001b[0m\n\u001b[1;32m      5\u001b[0m     \u001b[0mtext\u001b[0m \u001b[0;34m=\u001b[0m \u001b[0mfile\u001b[0m\u001b[0;34m.\u001b[0m\u001b[0mread\u001b[0m\u001b[0;34m(\u001b[0m\u001b[0;34m)\u001b[0m\u001b[0;34m\u001b[0m\u001b[0;34m\u001b[0m\u001b[0m\n",
      "\u001b[0;31mFileNotFoundError\u001b[0m: [Errno 2] No such file or directory: 'train_set.txt'"
     ]
    }
   ],
   "source": [
    "# load document\n",
    "in_filename = '/Google_drive/My Drive/Auto-complete/train_set.txt'\n",
    "doc = load_doc(in_filename)\n",
    "#use first 1000000 lenth for training, make the model undercontrol,Unique Tokens will be 9395\n",
    "doc = doc[0:1000000]\n",
    "print(len(doc))\n",
    "print(doc[:200])"
   ]
  },
  {
   "cell_type": "code",
   "execution_count": 0,
   "metadata": {
    "colab": {},
    "colab_type": "code",
    "id": "6vRJd6w_EN6s"
   },
   "outputs": [],
   "source": [
    "import string\n",
    "\n",
    "# turn a doc into clean tokens\n",
    "def clean_doc(doc):\n",
    "    tokens = doc.split()\n",
    "    # remove remaining tokens that are not alphabetic\n",
    "    tokens = [word for word in tokens if word.isalpha()]\n",
    "    # make lower case\n",
    "    tokens = [word.lower() for word in tokens]\n",
    "    return tokens"
   ]
  },
  {
   "cell_type": "code",
   "execution_count": 0,
   "metadata": {
    "colab": {},
    "colab_type": "code",
    "id": "l9FTfRVyEN6u"
   },
   "outputs": [],
   "source": [
    "# clean document\n",
    "tokens = clean_doc(doc)\n",
    "print(tokens[:200])\n",
    "print('Total Tokens: %d' % len(tokens))\n",
    "print('Unique Tokens: %d' % len(set(tokens)))"
   ]
  },
  {
   "cell_type": "code",
   "execution_count": 0,
   "metadata": {
    "colab": {},
    "colab_type": "code",
    "id": "AiTEOamHEN6x"
   },
   "outputs": [],
   "source": [
    "# organize into sequences of tokens\n",
    "length = 50 + 1\n",
    "sequences = list()\n",
    "for i in range(length, len(tokens)):\n",
    "    # select sequence of tokens\n",
    "    seq = tokens[i-length:i]\n",
    "    # convert into a line\n",
    "    line = ' '.join(seq)\n",
    "    # store\n",
    "    sequences.append(line)\n",
    "print('Total Sequences: %d' % len(sequences))"
   ]
  },
  {
   "cell_type": "code",
   "execution_count": 0,
   "metadata": {
    "colab": {},
    "colab_type": "code",
    "id": "F-Yhcrs_EN60"
   },
   "outputs": [],
   "source": [
    "# save tokens to file, one dialog per line\n",
    "def save_doc(lines, filename):\n",
    "    data = '\\n'.join(lines)\n",
    "    file = open(filename, 'w')\n",
    "    file.write(data)\n",
    "    file.close()"
   ]
  },
  {
   "cell_type": "code",
   "execution_count": 0,
   "metadata": {
    "colab": {},
    "colab_type": "code",
    "id": "B0ptfPO1EN63"
   },
   "outputs": [],
   "source": [
    "# save sequences to file\n",
    "out_filename = 'email_sequences.txt'\n",
    "save_doc(sequences, out_filename)"
   ]
  },
  {
   "cell_type": "code",
   "execution_count": 0,
   "metadata": {
    "colab": {},
    "colab_type": "code",
    "id": "luEX2BnQEN66"
   },
   "outputs": [],
   "source": [
    "# load doc into memory\n",
    "def load_doc(filename):\n",
    "    # open the file as read only\n",
    "    file = open(filename, 'r')\n",
    "    # read all text\n",
    "    text = file.read()\n",
    "    # close the file\n",
    "    file.close()\n",
    "    return text"
   ]
  },
  {
   "cell_type": "code",
   "execution_count": 0,
   "metadata": {
    "colab": {},
    "colab_type": "code",
    "id": "OdQ1_0EeEN68"
   },
   "outputs": [],
   "source": [
    "# load\n",
    "in_filename = '/Google_drive/My Drive/Auto-complete/email_sequences.txt'\n",
    "doc = load_doc(in_filename)\n",
    "lines = doc.split('\\n')"
   ]
  },
  {
   "cell_type": "code",
   "execution_count": 0,
   "metadata": {
    "colab": {},
    "colab_type": "code",
    "id": "vJTbC8RpEN6-"
   },
   "outputs": [],
   "source": [
    "# integer encode sequences of words\n",
    "tokenizer = Tokenizer(num_words = 12345)\n",
    "tokenizer.fit_on_texts(lines)\n",
    "sequences = tokenizer.texts_to_sequences(lines)\n",
    "# vocabulary size\n",
    "vocab_size = len(tokenizer.word_index) + 1"
   ]
  },
  {
   "cell_type": "code",
   "execution_count": 0,
   "metadata": {
    "colab": {},
    "colab_type": "code",
    "id": "w795Y0UyEN7A"
   },
   "outputs": [],
   "source": [
    "# separate into input and output\n",
    "sequences = array(sequences)\n",
    "X, y = sequences[:,:-1], sequences[:,-1]\n",
    "y = to_categorical(y, num_classes=vocab_size)\n",
    "seq_length = X.shape[1]"
   ]
  },
  {
   "cell_type": "code",
   "execution_count": 10,
   "metadata": {
    "colab": {
     "base_uri": "https://localhost:8080/",
     "height": 34
    },
    "colab_type": "code",
    "executionInfo": {
     "elapsed": 21247,
     "status": "ok",
     "timestamp": 1552988730654,
     "user": {
      "displayName": "Tseh Lee",
      "photoUrl": "",
      "userId": "00006482450783520423"
     },
     "user_tz": 420
    },
    "id": "uNW__wfEEN7C",
    "outputId": "4dd9b13f-bbfb-4e7a-fd19-be2a73811fa2"
   },
   "outputs": [
    {
     "data": {
      "text/plain": [
       "(179773, 50)"
      ]
     },
     "execution_count": 10,
     "metadata": {
      "tags": []
     },
     "output_type": "execute_result"
    }
   ],
   "source": [
    "X.shape"
   ]
  },
  {
   "cell_type": "code",
   "execution_count": 11,
   "metadata": {
    "colab": {
     "base_uri": "https://localhost:8080/",
     "height": 34
    },
    "colab_type": "code",
    "executionInfo": {
     "elapsed": 21241,
     "status": "ok",
     "timestamp": 1552988730655,
     "user": {
      "displayName": "Tseh Lee",
      "photoUrl": "",
      "userId": "00006482450783520423"
     },
     "user_tz": 420
    },
    "id": "QQzil2X3EN7F",
    "outputId": "8b10a2bd-0df1-4401-8b6a-59f8baf82e60"
   },
   "outputs": [
    {
     "data": {
      "text/plain": [
       "(179773, 9396)"
      ]
     },
     "execution_count": 11,
     "metadata": {
      "tags": []
     },
     "output_type": "execute_result"
    }
   ],
   "source": [
    "y.shape"
   ]
  },
  {
   "cell_type": "code",
   "execution_count": 0,
   "metadata": {
    "colab": {},
    "colab_type": "code",
    "id": "TrWAy5OYRp57"
   },
   "outputs": [],
   "source": [
    "#partial validation data\n",
    "x_val = X[:20000]\n",
    "partial_x_train = X[20000:]\n",
    "\n",
    "y_val = y[:20000]\n",
    "partial_y_train = y[20000:]"
   ]
  },
  {
   "cell_type": "code",
   "execution_count": 13,
   "metadata": {
    "colab": {
     "base_uri": "https://localhost:8080/",
     "height": 374
    },
    "colab_type": "code",
    "executionInfo": {
     "elapsed": 22060,
     "status": "ok",
     "timestamp": 1552988731486,
     "user": {
      "displayName": "Tseh Lee",
      "photoUrl": "",
      "userId": "00006482450783520423"
     },
     "user_tz": 420
    },
    "id": "1wLjKMN8EN7I",
    "outputId": "73ebbb08-b531-4874-aa46-9b337a37a30c"
   },
   "outputs": [
    {
     "name": "stdout",
     "output_type": "stream",
     "text": [
      "WARNING:tensorflow:From /usr/local/lib/python3.6/dist-packages/tensorflow/python/framework/op_def_library.py:263: colocate_with (from tensorflow.python.framework.ops) is deprecated and will be removed in a future version.\n",
      "Instructions for updating:\n",
      "Colocations handled automatically by placer.\n",
      "_________________________________________________________________\n",
      "Layer (type)                 Output Shape              Param #   \n",
      "=================================================================\n",
      "embedding_1 (Embedding)      (None, 50, 50)            469800    \n",
      "_________________________________________________________________\n",
      "lstm_1 (LSTM)                (None, 50, 100)           60400     \n",
      "_________________________________________________________________\n",
      "lstm_2 (LSTM)                (None, 100)               80400     \n",
      "_________________________________________________________________\n",
      "dense_1 (Dense)              (None, 100)               10100     \n",
      "_________________________________________________________________\n",
      "dense_2 (Dense)              (None, 9396)              948996    \n",
      "=================================================================\n",
      "Total params: 1,569,696\n",
      "Trainable params: 1,569,696\n",
      "Non-trainable params: 0\n",
      "_________________________________________________________________\n",
      "None\n"
     ]
    }
   ],
   "source": [
    "# define model\n",
    "model = Sequential()\n",
    "model.add(Embedding(vocab_size, 50, input_length=seq_length))\n",
    "model.add(LSTM(100, return_sequences=True))\n",
    "model.add(LSTM(100))\n",
    "model.add(Dense(100, activation='relu'))\n",
    "model.add(Dense(vocab_size, activation='softmax'))\n",
    "print(model.summary())"
   ]
  },
  {
   "cell_type": "code",
   "execution_count": 0,
   "metadata": {
    "colab": {},
    "colab_type": "code",
    "id": "q-YuC-S4VCNw"
   },
   "outputs": [],
   "source": [
    "# Set callback functions to early stop training and save the best model so far\n",
    "callbacks = [EarlyStopping(monitor='val_loss', patience=2),\n",
    "             ModelCheckpoint(filepath='best_model.h5', monitor='val_loss', save_best_only=True)]"
   ]
  },
  {
   "cell_type": "code",
   "execution_count": 23,
   "metadata": {
    "colab": {
     "base_uri": "https://localhost:8080/",
     "height": 2601
    },
    "colab_type": "code",
    "executionInfo": {
     "elapsed": 23554249,
     "status": "ok",
     "timestamp": 1553012440694,
     "user": {
      "displayName": "Tseh Lee",
      "photoUrl": "",
      "userId": "00006482450783520423"
     },
     "user_tz": 420
    },
    "id": "b-55P6agEN7L",
    "outputId": "f00e6f3e-cd8d-494c-842e-f0d737665418"
   },
   "outputs": [
    {
     "name": "stdout",
     "output_type": "stream",
     "text": [
      "WARNING:tensorflow:From /usr/local/lib/python3.6/dist-packages/tensorflow/python/ops/math_ops.py:3066: to_int32 (from tensorflow.python.ops.math_ops) is deprecated and will be removed in a future version.\n",
      "Instructions for updating:\n",
      "Use tf.cast instead.\n",
      "Train on 159773 samples, validate on 20000 samples\n",
      "Epoch 1/100\n",
      "159773/159773 [==============================] - 315s 2ms/step - loss: 6.8764 - acc: 0.0513 - val_loss: 6.2932 - val_acc: 0.0865\n",
      "Epoch 2/100\n",
      "159773/159773 [==============================] - 310s 2ms/step - loss: 6.3812 - acc: 0.0873 - val_loss: 5.9351 - val_acc: 0.1351\n",
      "Epoch 3/100\n",
      "159773/159773 [==============================] - 308s 2ms/step - loss: 6.0072 - acc: 0.1249 - val_loss: 5.6289 - val_acc: 0.1568\n",
      "Epoch 4/100\n",
      "159773/159773 [==============================] - 312s 2ms/step - loss: 5.7508 - acc: 0.1424 - val_loss: 5.4540 - val_acc: 0.1665\n",
      "Epoch 5/100\n",
      "159773/159773 [==============================] - 306s 2ms/step - loss: 5.5033 - acc: 0.1590 - val_loss: 5.2025 - val_acc: 0.1872\n",
      "Epoch 6/100\n",
      "159773/159773 [==============================] - 309s 2ms/step - loss: 5.2187 - acc: 0.1768 - val_loss: 4.9825 - val_acc: 0.1971\n",
      "Epoch 7/100\n",
      "159773/159773 [==============================] - 317s 2ms/step - loss: 4.9307 - acc: 0.1990 - val_loss: 4.7482 - val_acc: 0.2114\n",
      "Epoch 8/100\n",
      "159773/159773 [==============================] - 323s 2ms/step - loss: 4.6584 - acc: 0.2198 - val_loss: 4.5321 - val_acc: 0.2241\n",
      "Epoch 9/100\n",
      "159773/159773 [==============================] - 323s 2ms/step - loss: 4.4061 - acc: 0.2390 - val_loss: 4.3192 - val_acc: 0.2424\n",
      "Epoch 10/100\n",
      "159773/159773 [==============================] - 323s 2ms/step - loss: 4.1807 - acc: 0.2589 - val_loss: 4.1260 - val_acc: 0.2601\n",
      "Epoch 11/100\n",
      "159773/159773 [==============================] - 329s 2ms/step - loss: 3.9701 - acc: 0.2781 - val_loss: 3.9659 - val_acc: 0.2834\n",
      "Epoch 12/100\n",
      "159773/159773 [==============================] - 331s 2ms/step - loss: 3.7873 - acc: 0.2974 - val_loss: 3.8185 - val_acc: 0.2948\n",
      "Epoch 13/100\n",
      "159773/159773 [==============================] - 320s 2ms/step - loss: 3.6222 - acc: 0.3148 - val_loss: 3.6846 - val_acc: 0.3127\n",
      "Epoch 14/100\n",
      "159773/159773 [==============================] - 315s 2ms/step - loss: 3.4741 - acc: 0.3332 - val_loss: 3.5757 - val_acc: 0.3256\n",
      "Epoch 15/100\n",
      "159773/159773 [==============================] - 310s 2ms/step - loss: 3.3400 - acc: 0.3512 - val_loss: 3.4797 - val_acc: 0.3410\n",
      "Epoch 16/100\n",
      "159773/159773 [==============================] - 318s 2ms/step - loss: 3.2810 - acc: 0.3623 - val_loss: 3.4005 - val_acc: 0.3531\n",
      "Epoch 17/100\n",
      "159773/159773 [==============================] - 319s 2ms/step - loss: 3.1218 - acc: 0.3831 - val_loss: 3.2999 - val_acc: 0.3660\n",
      "Epoch 18/100\n",
      "159773/159773 [==============================] - 320s 2ms/step - loss: 3.1027 - acc: 0.3879 - val_loss: 3.2950 - val_acc: 0.3735\n",
      "Epoch 19/100\n",
      "159773/159773 [==============================] - 327s 2ms/step - loss: 3.0013 - acc: 0.4024 - val_loss: 3.2182 - val_acc: 0.3852\n",
      "Epoch 20/100\n",
      "159773/159773 [==============================] - 321s 2ms/step - loss: 2.9854 - acc: 0.4048 - val_loss: 3.0936 - val_acc: 0.4004\n",
      "Epoch 21/100\n",
      "159773/159773 [==============================] - 319s 2ms/step - loss: 2.7914 - acc: 0.4330 - val_loss: 3.0323 - val_acc: 0.4177\n",
      "Epoch 22/100\n",
      "159773/159773 [==============================] - 325s 2ms/step - loss: 2.7042 - acc: 0.4475 - val_loss: 2.9611 - val_acc: 0.4255\n",
      "Epoch 23/100\n",
      "159773/159773 [==============================] - 330s 2ms/step - loss: 2.6149 - acc: 0.4623 - val_loss: 2.8601 - val_acc: 0.4435\n",
      "Epoch 24/100\n",
      "159773/159773 [==============================] - 332s 2ms/step - loss: 2.5394 - acc: 0.4740 - val_loss: 2.8153 - val_acc: 0.4491\n",
      "Epoch 25/100\n",
      "159773/159773 [==============================] - 331s 2ms/step - loss: 2.4747 - acc: 0.4855 - val_loss: 2.7500 - val_acc: 0.4677\n",
      "Epoch 26/100\n",
      "159773/159773 [==============================] - 333s 2ms/step - loss: 2.4097 - acc: 0.4973 - val_loss: 2.6910 - val_acc: 0.4788\n",
      "Epoch 27/100\n",
      "159773/159773 [==============================] - 327s 2ms/step - loss: 2.3824 - acc: 0.5037 - val_loss: 2.6579 - val_acc: 0.4858\n",
      "Epoch 28/100\n",
      "159773/159773 [==============================] - 329s 2ms/step - loss: 2.3020 - acc: 0.5150 - val_loss: 2.5940 - val_acc: 0.4934\n",
      "Epoch 29/100\n",
      "159773/159773 [==============================] - 330s 2ms/step - loss: 2.2265 - acc: 0.5304 - val_loss: 2.5503 - val_acc: 0.5038\n",
      "Epoch 30/100\n",
      "159773/159773 [==============================] - 321s 2ms/step - loss: 2.1727 - acc: 0.5394 - val_loss: 2.5111 - val_acc: 0.5109\n",
      "Epoch 31/100\n",
      "159773/159773 [==============================] - 327s 2ms/step - loss: 2.1255 - acc: 0.5476 - val_loss: 2.4550 - val_acc: 0.5222\n",
      "Epoch 32/100\n",
      "159773/159773 [==============================] - 318s 2ms/step - loss: 2.0783 - acc: 0.5556 - val_loss: 2.4420 - val_acc: 0.5229\n",
      "Epoch 33/100\n",
      "159773/159773 [==============================] - 318s 2ms/step - loss: 2.0296 - acc: 0.5647 - val_loss: 2.4028 - val_acc: 0.5312\n",
      "Epoch 34/100\n",
      "159773/159773 [==============================] - 326s 2ms/step - loss: 1.9834 - acc: 0.5734 - val_loss: 2.3813 - val_acc: 0.5374\n",
      "Epoch 35/100\n",
      "159773/159773 [==============================] - 325s 2ms/step - loss: 1.9404 - acc: 0.5814 - val_loss: 2.3670 - val_acc: 0.5397\n",
      "Epoch 36/100\n",
      "159773/159773 [==============================] - 318s 2ms/step - loss: 1.8940 - acc: 0.5902 - val_loss: 2.2748 - val_acc: 0.5626\n",
      "Epoch 37/100\n",
      "159773/159773 [==============================] - 318s 2ms/step - loss: 1.8535 - acc: 0.5974 - val_loss: 2.2369 - val_acc: 0.5647\n",
      "Epoch 38/100\n",
      "159773/159773 [==============================] - 319s 2ms/step - loss: 1.8060 - acc: 0.6064 - val_loss: 2.2201 - val_acc: 0.5707\n",
      "Epoch 39/100\n",
      "159773/159773 [==============================] - 318s 2ms/step - loss: 1.7668 - acc: 0.6133 - val_loss: 2.1682 - val_acc: 0.5792\n",
      "Epoch 40/100\n",
      "159773/159773 [==============================] - 316s 2ms/step - loss: 1.7226 - acc: 0.6224 - val_loss: 2.1432 - val_acc: 0.5865\n",
      "Epoch 41/100\n",
      "159773/159773 [==============================] - 316s 2ms/step - loss: 1.6856 - acc: 0.6298 - val_loss: 2.1123 - val_acc: 0.5899\n",
      "Epoch 42/100\n",
      "159773/159773 [==============================] - 315s 2ms/step - loss: 1.6430 - acc: 0.6373 - val_loss: 2.0903 - val_acc: 0.5945\n",
      "Epoch 43/100\n",
      "159773/159773 [==============================] - 315s 2ms/step - loss: 1.6065 - acc: 0.6457 - val_loss: 2.0456 - val_acc: 0.6061\n",
      "Epoch 44/100\n",
      "159773/159773 [==============================] - 316s 2ms/step - loss: 1.5666 - acc: 0.6531 - val_loss: 2.0109 - val_acc: 0.6105\n",
      "Epoch 45/100\n",
      "159773/159773 [==============================] - 317s 2ms/step - loss: 1.5307 - acc: 0.6616 - val_loss: 1.9736 - val_acc: 0.6206\n",
      "Epoch 46/100\n",
      "159773/159773 [==============================] - 315s 2ms/step - loss: 1.4955 - acc: 0.6691 - val_loss: 1.9583 - val_acc: 0.6243\n",
      "Epoch 47/100\n",
      "159773/159773 [==============================] - 316s 2ms/step - loss: 1.4720 - acc: 0.6725 - val_loss: 1.9254 - val_acc: 0.6314\n",
      "Epoch 48/100\n",
      "159773/159773 [==============================] - 315s 2ms/step - loss: 1.4243 - acc: 0.6823 - val_loss: 1.8987 - val_acc: 0.6367\n",
      "Epoch 49/100\n",
      "159773/159773 [==============================] - 317s 2ms/step - loss: 1.3930 - acc: 0.6886 - val_loss: 1.8714 - val_acc: 0.6407\n",
      "Epoch 50/100\n",
      "159773/159773 [==============================] - 318s 2ms/step - loss: 1.3658 - acc: 0.6953 - val_loss: 1.8538 - val_acc: 0.6463\n",
      "Epoch 51/100\n",
      "159773/159773 [==============================] - 317s 2ms/step - loss: 1.3355 - acc: 0.7012 - val_loss: 1.8434 - val_acc: 0.6510\n",
      "Epoch 52/100\n",
      "159773/159773 [==============================] - 317s 2ms/step - loss: 1.3080 - acc: 0.7066 - val_loss: 1.7922 - val_acc: 0.6585\n",
      "Epoch 53/100\n",
      "159773/159773 [==============================] - 316s 2ms/step - loss: 1.2711 - acc: 0.7137 - val_loss: 1.7810 - val_acc: 0.6601\n",
      "Epoch 54/100\n",
      "159773/159773 [==============================] - 319s 2ms/step - loss: 1.2495 - acc: 0.7189 - val_loss: 1.7648 - val_acc: 0.6640\n",
      "Epoch 55/100\n",
      "159773/159773 [==============================] - 315s 2ms/step - loss: 1.2200 - acc: 0.7250 - val_loss: 1.7438 - val_acc: 0.6673\n",
      "Epoch 56/100\n",
      "159773/159773 [==============================] - 314s 2ms/step - loss: 1.1940 - acc: 0.7305 - val_loss: 1.7257 - val_acc: 0.6749\n",
      "Epoch 57/100\n",
      "159773/159773 [==============================] - 314s 2ms/step - loss: 1.1711 - acc: 0.7349 - val_loss: 1.6894 - val_acc: 0.6798\n",
      "Epoch 58/100\n",
      "159773/159773 [==============================] - 313s 2ms/step - loss: 1.1424 - acc: 0.7409 - val_loss: 1.6760 - val_acc: 0.6875\n",
      "Epoch 59/100\n",
      "159773/159773 [==============================] - 312s 2ms/step - loss: 1.1175 - acc: 0.7462 - val_loss: 1.6818 - val_acc: 0.6858\n",
      "Epoch 60/100\n",
      "159773/159773 [==============================] - 310s 2ms/step - loss: 1.0952 - acc: 0.7510 - val_loss: 1.6443 - val_acc: 0.6925\n",
      "Epoch 61/100\n",
      "159773/159773 [==============================] - 309s 2ms/step - loss: 1.0771 - acc: 0.7536 - val_loss: 1.6302 - val_acc: 0.6944\n",
      "Epoch 62/100\n",
      "159773/159773 [==============================] - 309s 2ms/step - loss: 1.0496 - acc: 0.7602 - val_loss: 1.5980 - val_acc: 0.7003\n",
      "Epoch 63/100\n",
      "159773/159773 [==============================] - 310s 2ms/step - loss: 1.0289 - acc: 0.7638 - val_loss: 1.6319 - val_acc: 0.6955\n",
      "Epoch 64/100\n",
      "159773/159773 [==============================] - 315s 2ms/step - loss: 1.0253 - acc: 0.7644 - val_loss: 1.5800 - val_acc: 0.7097\n",
      "Epoch 65/100\n",
      "159773/159773 [==============================] - 323s 2ms/step - loss: 0.9807 - acc: 0.7753 - val_loss: 1.5617 - val_acc: 0.7120\n",
      "Epoch 66/100\n",
      "159773/159773 [==============================] - 323s 2ms/step - loss: 0.9617 - acc: 0.7799 - val_loss: 1.5476 - val_acc: 0.7154\n",
      "Epoch 67/100\n",
      "159773/159773 [==============================] - 320s 2ms/step - loss: 0.9479 - acc: 0.7813 - val_loss: 1.5366 - val_acc: 0.7193\n",
      "Epoch 68/100\n",
      "159773/159773 [==============================] - 322s 2ms/step - loss: 0.9339 - acc: 0.7847 - val_loss: 1.5301 - val_acc: 0.7176\n",
      "Epoch 69/100\n",
      "159773/159773 [==============================] - 313s 2ms/step - loss: 0.9086 - acc: 0.7901 - val_loss: 1.4914 - val_acc: 0.7300\n",
      "Epoch 70/100\n",
      "159773/159773 [==============================] - 316s 2ms/step - loss: 0.8948 - acc: 0.7932 - val_loss: 1.5071 - val_acc: 0.7239\n",
      "Epoch 71/100\n",
      "159773/159773 [==============================] - 312s 2ms/step - loss: 0.8801 - acc: 0.7954 - val_loss: 1.4595 - val_acc: 0.7308\n",
      "Epoch 72/100\n",
      "159773/159773 [==============================] - 311s 2ms/step - loss: 0.8596 - acc: 0.8005 - val_loss: 1.4541 - val_acc: 0.7364\n",
      "Epoch 73/100\n",
      "159773/159773 [==============================] - 312s 2ms/step - loss: 0.8428 - acc: 0.8038 - val_loss: 1.4550 - val_acc: 0.7368\n",
      "Epoch 74/100\n",
      "159773/159773 [==============================] - 310s 2ms/step - loss: 0.8736 - acc: 0.7968 - val_loss: 1.6876 - val_acc: 0.6933\n"
     ]
    }
   ],
   "source": [
    "# compile model\n",
    "model.compile(loss='categorical_crossentropy', optimizer='adam', metrics=['accuracy'])\n",
    "# fit model\n",
    "history = model.fit(partial_x_train, partial_y_train, \n",
    "                    batch_size=128, \n",
    "                    epochs=100, \n",
    "                    callbacks = callbacks, \n",
    "                    validation_data=(x_val, y_val),verbose=1)"
   ]
  },
  {
   "cell_type": "code",
   "execution_count": 24,
   "metadata": {
    "colab": {
     "base_uri": "https://localhost:8080/",
     "height": 376
    },
    "colab_type": "code",
    "executionInfo": {
     "elapsed": 23554415,
     "status": "ok",
     "timestamp": 1553012440883,
     "user": {
      "displayName": "Tseh Lee",
      "photoUrl": "",
      "userId": "00006482450783520423"
     },
     "user_tz": 420
    },
    "id": "TSXBnwbFEN7O",
    "outputId": "7eb09ce4-a226-4bcc-e55c-b4b5677c6133"
   },
   "outputs": [
    {
     "data": {
      "image/png": "[encoded data removed]",
      "text/plain": [
       "<Figure size 576x396 with 1 Axes>"
      ]
     },
     "metadata": {
      "tags": []
     },
     "output_type": "display_data"
    }
   ],
   "source": [
    "import matplotlib.pyplot as plt\n",
    "\n",
    "acc = history.history['acc']\n",
    "val_acc = history.history['val_acc']\n",
    "loss = history.history['loss']\n",
    "val_loss = history.history['val_loss']\n",
    "\n",
    "epochs = range(1, len(acc) + 1)\n",
    "\n",
    "# \"bo\" is for \"blue dot\"\n",
    "plt.plot(epochs, loss, 'bo', label='Training loss')\n",
    "# b is for \"solid blue line\"\n",
    "plt.plot(epochs, val_loss, 'b', label='Validation loss')\n",
    "plt.title('Training and validation loss')\n",
    "plt.xlabel('Epochs')\n",
    "plt.ylabel('Loss')\n",
    "plt.legend()\n",
    "\n",
    "plt.show()"
   ]
  },
  {
   "cell_type": "code",
   "execution_count": 1,
   "metadata": {
    "colab": {
     "base_uri": "https://localhost:8080/",
     "height": 180
    },
    "colab_type": "code",
    "executionInfo": {
     "elapsed": 404,
     "status": "error",
     "timestamp": 1553022319766,
     "user": {
      "displayName": "Tseh Lee",
      "photoUrl": "",
      "userId": "00006482450783520423"
     },
     "user_tz": 420
    },
    "id": "tY6oocMFV8U-",
    "outputId": "678f3e10-5df3-4e3b-e13c-30b05bfc323d"
   },
   "outputs": [
    {
     "ename": "NameError",
     "evalue": "ignored",
     "output_type": "error",
     "traceback": [
      "\u001b[0;31m---------------------------------------------------------------------------\u001b[0m",
      "\u001b[0;31mNameError\u001b[0m                                 Traceback (most recent call last)",
      "\u001b[0;32m<ipython-input-1-fc51a3f187a7>\u001b[0m in \u001b[0;36m<module>\u001b[0;34m()\u001b[0m\n\u001b[0;32m----> 1\u001b[0;31m \u001b[0mhistory_dict\u001b[0m \u001b[0;34m=\u001b[0m \u001b[0mhistory\u001b[0m\u001b[0;34m.\u001b[0m\u001b[0mhistory\u001b[0m\u001b[0;34m\u001b[0m\u001b[0;34m\u001b[0m\u001b[0m\n\u001b[0m\u001b[1;32m      2\u001b[0m \u001b[0mhistory_dict\u001b[0m\u001b[0;34m.\u001b[0m\u001b[0mkeys\u001b[0m\u001b[0;34m(\u001b[0m\u001b[0;34m)\u001b[0m\u001b[0;34m\u001b[0m\u001b[0;34m\u001b[0m\u001b[0m\n",
      "\u001b[0;31mNameError\u001b[0m: name 'history' is not defined"
     ]
    }
   ],
   "source": [
    "history_dict = history.history\n",
    "history_dict.keys()"
   ]
  },
  {
   "cell_type": "code",
   "execution_count": 25,
   "metadata": {
    "colab": {
     "base_uri": "https://localhost:8080/",
     "height": 248
    },
    "colab_type": "code",
    "executionInfo": {
     "elapsed": 23557367,
     "status": "error",
     "timestamp": 1553012443846,
     "user": {
      "displayName": "Tseh Lee",
      "photoUrl": "",
      "userId": "00006482450783520423"
     },
     "user_tz": 420
    },
    "id": "PUbWXce_EN7R",
    "outputId": "c5b1eb8e-8feb-4bec-adfa-323bf835aafb"
   },
   "outputs": [
    {
     "ename": "NameError",
     "evalue": "ignored",
     "output_type": "error",
     "traceback": [
      "\u001b[0;31m---------------------------------------------------------------------------\u001b[0m",
      "\u001b[0;31mNameError\u001b[0m                                 Traceback (most recent call last)",
      "\u001b[0;32m<ipython-input-25-0066d087cefa>\u001b[0m in \u001b[0;36m<module>\u001b[0;34m()\u001b[0m\n\u001b[1;32m      1\u001b[0m \u001b[0mplt\u001b[0m\u001b[0;34m.\u001b[0m\u001b[0mclf\u001b[0m\u001b[0;34m(\u001b[0m\u001b[0;34m)\u001b[0m   \u001b[0;31m# clear figure\u001b[0m\u001b[0;34m\u001b[0m\u001b[0;34m\u001b[0m\u001b[0m\n\u001b[0;32m----> 2\u001b[0;31m \u001b[0macc_values\u001b[0m \u001b[0;34m=\u001b[0m \u001b[0mhistory_dict\u001b[0m\u001b[0;34m[\u001b[0m\u001b[0;34m'acc'\u001b[0m\u001b[0;34m]\u001b[0m\u001b[0;34m\u001b[0m\u001b[0;34m\u001b[0m\u001b[0m\n\u001b[0m\u001b[1;32m      3\u001b[0m \u001b[0mval_acc_values\u001b[0m \u001b[0;34m=\u001b[0m \u001b[0mhistory_dict\u001b[0m\u001b[0;34m[\u001b[0m\u001b[0;34m'val_acc'\u001b[0m\u001b[0;34m]\u001b[0m\u001b[0;34m\u001b[0m\u001b[0;34m\u001b[0m\u001b[0m\n\u001b[1;32m      4\u001b[0m \u001b[0;34m\u001b[0m\u001b[0m\n\u001b[1;32m      5\u001b[0m \u001b[0mplt\u001b[0m\u001b[0;34m.\u001b[0m\u001b[0mplot\u001b[0m\u001b[0;34m(\u001b[0m\u001b[0mepochs\u001b[0m\u001b[0;34m,\u001b[0m \u001b[0macc\u001b[0m\u001b[0;34m,\u001b[0m \u001b[0;34m'bo'\u001b[0m\u001b[0;34m,\u001b[0m \u001b[0mlabel\u001b[0m\u001b[0;34m=\u001b[0m\u001b[0;34m'Training acc'\u001b[0m\u001b[0;34m)\u001b[0m\u001b[0;34m\u001b[0m\u001b[0;34m\u001b[0m\u001b[0m\n",
      "\u001b[0;31mNameError\u001b[0m: name 'history_dict' is not defined"
     ]
    },
    {
     "data": {
      "text/plain": [
       "<Figure size 576x396 with 0 Axes>"
      ]
     },
     "metadata": {
      "tags": []
     },
     "output_type": "display_data"
    }
   ],
   "source": [
    "plt.clf()   # clear figure\n",
    "acc_values = history_dict['acc']\n",
    "val_acc_values = history_dict['val_acc']\n",
    "\n",
    "plt.plot(epochs, acc, 'bo', label='Training acc')\n",
    "plt.plot(epochs, val_acc, 'b', label='Validation acc')\n",
    "plt.title('Training and validation accuracy')\n",
    "plt.xlabel('Epochs')\n",
    "plt.ylabel('Accuracy')\n",
    "plt.legend()\n",
    "\n",
    "plt.show()"
   ]
  },
  {
   "cell_type": "code",
   "execution_count": 0,
   "metadata": {
    "colab": {},
    "colab_type": "code",
    "id": "zvog7zdLEN7S"
   },
   "outputs": [],
   "source": [
    "# save the model to file\n",
    "model.save('model_email.h5')\n",
    "# save the tokenizer\n",
    "dump(tokenizer, open('tokenizer.pkl', 'wb'))"
   ]
  },
  {
   "cell_type": "code",
   "execution_count": 0,
   "metadata": {
    "colab": {},
    "colab_type": "code",
    "id": "PyeHe5tYEN7U"
   },
   "outputs": [],
   "source": []
  }
 ],
 "metadata": {
  "accelerator": "GPU",
  "colab": {
   "collapsed_sections": [],
   "name": "Copy of email_genarator.ipynb",
   "provenance": [],
   "version": "0.3.2"
  },
  "kernelspec": {
   "display_name": "Python 3",
   "language": "python",
   "name": "python3"
  },
  "language_info": {
   "codemirror_mode": {
    "name": "ipython",
    "version": 3
   },
   "file_extension": ".py",
   "mimetype": "text/x-python",
   "name": "python",
   "nbconvert_exporter": "python",
   "pygments_lexer": "ipython3",
   "version": "3.6.8"
  },
  "varInspector": {
   "cols": {
    "lenName": 16,
    "lenType": 16,
    "lenVar": 40
   },
   "kernels_config": {
    "python": {
     "delete_cmd_postfix": "",
     "delete_cmd_prefix": "del ",
     "library": "var_list.py",
     "varRefreshCmd": "print(var_dic_list())"
    },
    "r": {
     "delete_cmd_postfix": ") ",
     "delete_cmd_prefix": "rm(",
     "library": "var_list.r",
     "varRefreshCmd": "cat(var_dic_list()) "
    }
   },
   "types_to_exclude": [
    "module",
    "function",
    "builtin_function_or_method",
    "instance",
    "_Feature"
   ],
   "window_display": false
  }
 },
 "nbformat": 4,
 "nbformat_minor": 1
}
