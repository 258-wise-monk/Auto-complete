{
 "cells": [
  {
   "cell_type": "code",
   "execution_count": 1,
   "metadata": {},
   "outputs": [
    {
     "name": "stderr",
     "output_type": "stream",
     "text": [
      "Using TensorFlow backend.\n"
     ]
    }
   ],
   "source": [
    "from numpy import array\n",
    "from pickle import dump\n",
    "from keras.preprocessing.text import Tokenizer\n",
    "from keras.utils import to_categorical\n",
    "from keras.models import Sequential\n",
    "from keras.layers import Dense\n",
    "from keras.layers import LSTM\n",
    "from keras.layers import Embedding\n",
    "from keras.callbacks import EarlyStopping, ModelCheckpoint"
   ]
  },
  {
   "cell_type": "code",
   "execution_count": 2,
   "metadata": {},
   "outputs": [
    {
     "name": "stdout",
     "output_type": "stream",
     "text": [
      "['/job:localhost/replica:0/task:0/device:GPU:0']\n"
     ]
    }
   ],
   "source": [
    "from keras import backend as K\n",
    "#GPU utilize monitor\n",
    "print(K.tensorflow_backend._get_available_gpus())"
   ]
  },
  {
   "cell_type": "code",
   "execution_count": 3,
   "metadata": {},
   "outputs": [],
   "source": [
    "# load doc into memory\n",
    "def load_doc(filename):\n",
    "    # open the file as read only\n",
    "    file = open(filename, 'r')\n",
    "    # read all text\n",
    "    text = file.read()\n",
    "    # close the file\n",
    "    file.close()\n",
    "    return text"
   ]
  },
  {
   "cell_type": "code",
   "execution_count": 4,
   "metadata": {},
   "outputs": [
    {
     "name": "stdout",
     "output_type": "stream",
     "text": [
      "1000000\n",
      "\"Here be our forecast\"\n",
      "\"Traveling to have a business meet take the fun out of the trip Especially if you have to prepare a presentation I would suggest hold the business plan meet here then take a tri\n"
     ]
    }
   ],
   "source": [
    "# load document\n",
    "in_filename = 'train_set.txt'\n",
    "doc = load_doc(in_filename)\n",
    "#use first 1000000 lenth for training, make the model undercontrol,Unique Tokens will be 9395\n",
    "doc = doc[0:1000000]\n",
    "print(len(doc))\n",
    "print(doc[:200])"
   ]
  },
  {
   "cell_type": "code",
   "execution_count": 5,
   "metadata": {},
   "outputs": [],
   "source": [
    "import string\n",
    "\n",
    "# turn a doc into clean tokens\n",
    "def clean_doc(doc):\n",
    "    tokens = doc.split()\n",
    "    # remove remaining tokens that are not alphabetic\n",
    "    tokens = [word for word in tokens if word.isalpha()]\n",
    "    # make lower case\n",
    "    tokens = [word.lower() for word in tokens]\n",
    "    return tokens"
   ]
  },
  {
   "cell_type": "code",
   "execution_count": 6,
   "metadata": {},
   "outputs": [
    {
     "name": "stdout",
     "output_type": "stream",
     "text": [
      "['be', 'our', 'to', 'have', 'a', 'business', 'meet', 'take', 'the', 'fun', 'out', 'of', 'the', 'trip', 'especially', 'if', 'you', 'have', 'to', 'prepare', 'a', 'presentation', 'i', 'would', 'suggest', 'hold', 'the', 'business', 'plan', 'meet', 'here', 'then', 'take', 'a', 'trip', 'without', 'any', 'formal', 'business', 'meet', 'i', 'would', 'even', 'try', 'and', 'get', 'some', 'honest', 'opinions', 'on', 'whether', 'a', 'trip', 'be', 'even', 'desire', 'or', 'necessary', 'as', 'far', 'as', 'the', 'business', 'meet', 'i', 'think', 'it', 'would', 'be', 'more', 'productive', 'to', 'try', 'and', 'stimulate', 'discussions', 'across', 'the', 'different', 'group', 'about', 'what', 'be', 'work', 'and', 'what', 'be', 'not', 'too', 'often', 'the', 'presenter', 'speak', 'and', 'the', 'others', 'be', 'quiet', 'just', 'wait', 'for', 'their', 'turn', 'the', 'meet', 'might', 'be', 'better', 'if', 'hold', 'in', 'a', 'round', 'table', 'discussion', 'format', 'my', 'suggestion', 'for', 'where', 'to', 'go', 'be', 'austin', 'play', 'golf', 'and', 'rent', 'a', 'ski', 'boat', 'and', 'jet', 'ski', 's', 'flying', 'somewhere', 'take', 'too', 'much', 'successful', 'way', 'to', 'can', 'you', 'send', 'me', 'a', 'schedule', 'of', 'the', 'salary', 'and', 'level', 'of', 'everyone', 'in', 'the', 'schedule', 'group', 'plus', 'your', 'thoughts', 'on', 'any', 'change', 'that', 'need', 'to', 'be', 'make', 'patti', 's', 'for', 'example', 's', 'shoot', 'for', 'tuesday', 'how', 'about', 'either', 'next', 'tuesday', 'or', 'thursday', 'cc', 'the', 'follow', 'distribution', 'list', 'with', 'update', 'phillip', 'allen', 'pallen', 'enron', 'com', 'mike', 'grigsby']\n",
      "Total Tokens: 179824\n",
      "Unique Tokens: 9395\n"
     ]
    }
   ],
   "source": [
    "# clean document\n",
    "tokens = clean_doc(doc)\n",
    "print(tokens[:200])\n",
    "print('Total Tokens: %d' % len(tokens))\n",
    "print('Unique Tokens: %d' % len(set(tokens)))"
   ]
  },
  {
   "cell_type": "code",
   "execution_count": 7,
   "metadata": {},
   "outputs": [
    {
     "name": "stdout",
     "output_type": "stream",
     "text": [
      "Total Sequences: 179773\n"
     ]
    }
   ],
   "source": [
    "# organize into sequences of tokens\n",
    "length = 50 + 1\n",
    "sequences = list()\n",
    "for i in range(length, len(tokens)):\n",
    "    # select sequence of tokens\n",
    "    seq = tokens[i-length:i]\n",
    "    # convert into a line\n",
    "    line = ' '.join(seq)\n",
    "    # store\n",
    "    sequences.append(line)\n",
    "print('Total Sequences: %d' % len(sequences))"
   ]
  },
  {
   "cell_type": "code",
   "execution_count": 8,
   "metadata": {},
   "outputs": [],
   "source": [
    "# save tokens to file, one dialog per line\n",
    "def save_doc(lines, filename):\n",
    "    data = '\\n'.join(lines)\n",
    "    file = open(filename, 'w')\n",
    "    file.write(data)\n",
    "    file.close()"
   ]
  },
  {
   "cell_type": "code",
   "execution_count": 9,
   "metadata": {},
   "outputs": [],
   "source": [
    "# save sequences to file\n",
    "out_filename = 'email_sequences.txt'\n",
    "save_doc(sequences, out_filename)"
   ]
  },
  {
   "cell_type": "code",
   "execution_count": 10,
   "metadata": {},
   "outputs": [],
   "source": [
    "# load doc into memory\n",
    "def load_doc(filename):\n",
    "    # open the file as read only\n",
    "    file = open(filename, 'r')\n",
    "    # read all text\n",
    "    text = file.read()\n",
    "    # close the file\n",
    "    file.close()\n",
    "    return text"
   ]
  },
  {
   "cell_type": "code",
   "execution_count": 11,
   "metadata": {},
   "outputs": [],
   "source": [
    "# load\n",
    "in_filename = 'email_sequences.txt'\n",
    "doc = load_doc(in_filename)\n",
    "lines = doc.split('\\n')"
   ]
  },
  {
   "cell_type": "code",
   "execution_count": 12,
   "metadata": {},
   "outputs": [],
   "source": [
    "# integer encode sequences of words\n",
    "tokenizer = Tokenizer(num_words = 12345)\n",
    "tokenizer.fit_on_texts(lines)\n",
    "sequences = tokenizer.texts_to_sequences(lines)\n",
    "# vocabulary size\n",
    "vocab_size = len(tokenizer.word_index) + 1"
   ]
  },
  {
   "cell_type": "code",
   "execution_count": 13,
   "metadata": {},
   "outputs": [],
   "source": [
    "# separate into input and output\n",
    "sequences = array(sequences)\n",
    "X, y = sequences[:,:-1], sequences[:,-1]\n",
    "y = to_categorical(y, num_classes=vocab_size)\n",
    "seq_length = X.shape[1]"
   ]
  },
  {
   "cell_type": "code",
   "execution_count": 14,
   "metadata": {},
   "outputs": [
    {
     "data": {
      "text/plain": [
       "(179773, 50)"
      ]
     },
     "execution_count": 14,
     "metadata": {},
     "output_type": "execute_result"
    }
   ],
   "source": [
    "X.shape"
   ]
  },
  {
   "cell_type": "code",
   "execution_count": 15,
   "metadata": {},
   "outputs": [
    {
     "data": {
      "text/plain": [
       "(179773, 9396)"
      ]
     },
     "execution_count": 15,
     "metadata": {},
     "output_type": "execute_result"
    }
   ],
   "source": [
    "y.shape"
   ]
  },
  {
   "cell_type": "code",
   "execution_count": 16,
   "metadata": {},
   "outputs": [],
   "source": [
    "#partial validation data\n",
    "x_val = X[:35000]\n",
    "partial_x_train = X[35000:]\n",
    "\n",
    "y_val = y[:35000]\n",
    "partial_y_train = y[35000:]"
   ]
  },
  {
   "cell_type": "code",
   "execution_count": 17,
   "metadata": {},
   "outputs": [
    {
     "name": "stdout",
     "output_type": "stream",
     "text": [
      "WARNING:tensorflow:From d:\\Anaconda3\\lib\\site-packages\\tensorflow\\python\\framework\\op_def_library.py:263: colocate_with (from tensorflow.python.framework.ops) is deprecated and will be removed in a future version.\n",
      "Instructions for updating:\n",
      "Colocations handled automatically by placer.\n",
      "_________________________________________________________________\n",
      "Layer (type)                 Output Shape              Param #   \n",
      "=================================================================\n",
      "embedding_1 (Embedding)      (None, 50, 50)            469800    \n",
      "_________________________________________________________________\n",
      "lstm_1 (LSTM)                (None, 50, 100)           60400     \n",
      "_________________________________________________________________\n",
      "lstm_2 (LSTM)                (None, 100)               80400     \n",
      "_________________________________________________________________\n",
      "dense_1 (Dense)              (None, 100)               10100     \n",
      "_________________________________________________________________\n",
      "dense_2 (Dense)              (None, 9396)              948996    \n",
      "=================================================================\n",
      "Total params: 1,569,696\n",
      "Trainable params: 1,569,696\n",
      "Non-trainable params: 0\n",
      "_________________________________________________________________\n",
      "None\n"
     ]
    }
   ],
   "source": [
    "# define model\n",
    "model = Sequential()\n",
    "model.add(Embedding(vocab_size, 50, input_length=seq_length))\n",
    "model.add(LSTM(100, return_sequences=True))\n",
    "model.add(LSTM(100))\n",
    "model.add(Dense(100, activation='relu'))\n",
    "model.add(Dense(vocab_size, activation='softmax'))\n",
    "print(model.summary())"
   ]
  },
  {
   "cell_type": "code",
   "execution_count": 18,
   "metadata": {},
   "outputs": [],
   "source": [
    "# Set callback functions to early stop training and save the best model so far\n",
    "callbacks = [EarlyStopping(monitor='val_loss', patience=2),\n",
    "             ModelCheckpoint(filepath='best_model.h5', monitor='val_loss', save_best_only=True)]"
   ]
  },
  {
   "cell_type": "code",
   "execution_count": 19,
   "metadata": {},
   "outputs": [
    {
     "name": "stdout",
     "output_type": "stream",
     "text": [
      "WARNING:tensorflow:From d:\\Anaconda3\\lib\\site-packages\\tensorflow\\python\\ops\\math_ops.py:3066: to_int32 (from tensorflow.python.ops.math_ops) is deprecated and will be removed in a future version.\n",
      "Instructions for updating:\n",
      "Use tf.cast instead.\n",
      "Train on 144773 samples, validate on 35000 samples\n",
      "Epoch 1/150\n",
      "144773/144773 [==============================] - 99s 687us/step - loss: 7.0154 - acc: 0.0415 - val_loss: 6.5876 - val_acc: 0.0621\n",
      "Epoch 2/150\n",
      "144773/144773 [==============================] - 96s 661us/step - loss: 6.6147 - acc: 0.0621 - val_loss: 6.3915 - val_acc: 0.0849\n",
      "Epoch 3/150\n",
      "144773/144773 [==============================] - 94s 651us/step - loss: 6.3434 - acc: 0.0840 - val_loss: 5.8712 - val_acc: 0.1224\n",
      "Epoch 4/150\n",
      "144773/144773 [==============================] - 94s 649us/step - loss: 6.0888 - acc: 0.1052 - val_loss: 5.6417 - val_acc: 0.1500\n",
      "Epoch 5/150\n",
      "144773/144773 [==============================] - 94s 653us/step - loss: 5.8053 - acc: 0.1307 - val_loss: 5.4074 - val_acc: 0.1691\n",
      "Epoch 6/150\n",
      "144773/144773 [==============================] - 95s 654us/step - loss: 5.5518 - acc: 0.1475 - val_loss: 5.2493 - val_acc: 0.1805\n",
      "Epoch 7/150\n",
      "144773/144773 [==============================] - 93s 645us/step - loss: 5.3420 - acc: 0.1603 - val_loss: 5.0798 - val_acc: 0.1921\n",
      "Epoch 8/150\n",
      "144773/144773 [==============================] - 94s 646us/step - loss: 5.1456 - acc: 0.1731 - val_loss: 4.9266 - val_acc: 0.2034\n",
      "Epoch 9/150\n",
      "144773/144773 [==============================] - 93s 644us/step - loss: 4.9794 - acc: 0.1859 - val_loss: 4.8396 - val_acc: 0.2069\n",
      "Epoch 10/150\n",
      "144773/144773 [==============================] - 94s 647us/step - loss: 4.8083 - acc: 0.1994 - val_loss: 4.7116 - val_acc: 0.2166\n",
      "Epoch 11/150\n",
      "144773/144773 [==============================] - 94s 646us/step - loss: 4.6483 - acc: 0.2134 - val_loss: 4.6119 - val_acc: 0.2219\n",
      "Epoch 12/150\n",
      "144773/144773 [==============================] - 94s 648us/step - loss: 4.5032 - acc: 0.2244 - val_loss: 4.5033 - val_acc: 0.2304\n",
      "Epoch 13/150\n",
      "144773/144773 [==============================] - 94s 646us/step - loss: 4.3663 - acc: 0.2380 - val_loss: 4.4057 - val_acc: 0.2353\n",
      "Epoch 14/150\n",
      "144773/144773 [==============================] - 94s 649us/step - loss: 4.2344 - acc: 0.2492 - val_loss: 4.3001 - val_acc: 0.2471\n",
      "Epoch 15/150\n",
      "144773/144773 [==============================] - 96s 663us/step - loss: 4.1136 - acc: 0.2607 - val_loss: 4.2050 - val_acc: 0.2529\n",
      "Epoch 16/150\n",
      "144773/144773 [==============================] - 94s 651us/step - loss: 4.0080 - acc: 0.2719 - val_loss: 4.1212 - val_acc: 0.2634\n",
      "Epoch 17/150\n",
      "144773/144773 [==============================] - 94s 646us/step - loss: 3.9046 - acc: 0.2830 - val_loss: 4.0331 - val_acc: 0.2755\n",
      "Epoch 18/150\n",
      "144773/144773 [==============================] - 93s 644us/step - loss: 3.8117 - acc: 0.2926 - val_loss: 3.9716 - val_acc: 0.2799\n",
      "Epoch 19/150\n",
      "144773/144773 [==============================] - 94s 650us/step - loss: 3.7253 - acc: 0.3045 - val_loss: 3.8917 - val_acc: 0.2912\n",
      "Epoch 20/150\n",
      "144773/144773 [==============================] - 94s 646us/step - loss: 3.6492 - acc: 0.3137 - val_loss: 3.8349 - val_acc: 0.3024\n",
      "Epoch 21/150\n",
      "144773/144773 [==============================] - 93s 645us/step - loss: 3.5677 - acc: 0.3255 - val_loss: 3.7495 - val_acc: 0.3135\n",
      "Epoch 22/150\n",
      "144773/144773 [==============================] - 94s 649us/step - loss: 3.4934 - acc: 0.3357 - val_loss: 3.6985 - val_acc: 0.3211\n",
      "Epoch 23/150\n",
      "144773/144773 [==============================] - 94s 648us/step - loss: 3.4238 - acc: 0.3444 - val_loss: 3.6364 - val_acc: 0.3288\n",
      "Epoch 24/150\n",
      "144773/144773 [==============================] - 94s 652us/step - loss: 3.3620 - acc: 0.3531 - val_loss: 3.5936 - val_acc: 0.3337\n",
      "Epoch 25/150\n",
      "144773/144773 [==============================] - 96s 661us/step - loss: 3.3023 - acc: 0.3623 - val_loss: 3.5244 - val_acc: 0.3429\n",
      "Epoch 26/150\n",
      "144773/144773 [==============================] - 94s 650us/step - loss: 3.2460 - acc: 0.3692 - val_loss: 3.5406 - val_acc: 0.3423\n",
      "Epoch 27/150\n",
      "144773/144773 [==============================] - 94s 647us/step - loss: 3.2036 - acc: 0.3754 - val_loss: 3.4498 - val_acc: 0.3561\n",
      "Epoch 28/150\n",
      "144773/144773 [==============================] - 93s 644us/step - loss: 3.1396 - acc: 0.3848 - val_loss: 3.5081 - val_acc: 0.3493\n",
      "Epoch 29/150\n",
      "144773/144773 [==============================] - 93s 645us/step - loss: 3.0927 - acc: 0.3915 - val_loss: 3.3752 - val_acc: 0.3686\n",
      "Epoch 30/150\n",
      "144773/144773 [==============================] - 94s 647us/step - loss: 3.0437 - acc: 0.3993 - val_loss: 3.3328 - val_acc: 0.3767\n",
      "Epoch 31/150\n",
      "144773/144773 [==============================] - 93s 644us/step - loss: 2.9964 - acc: 0.4058 - val_loss: 3.2902 - val_acc: 0.3802\n",
      "Epoch 32/150\n",
      "144773/144773 [==============================] - 93s 645us/step - loss: 2.9526 - acc: 0.4125 - val_loss: 3.2331 - val_acc: 0.3936\n",
      "Epoch 33/150\n",
      "144773/144773 [==============================] - 93s 644us/step - loss: 2.9151 - acc: 0.4184 - val_loss: 3.2071 - val_acc: 0.3933\n",
      "Epoch 34/150\n",
      "144773/144773 [==============================] - 95s 656us/step - loss: 2.8982 - acc: 0.4225 - val_loss: 3.2433 - val_acc: 0.3977\n",
      "Epoch 35/150\n",
      "144773/144773 [==============================] - 95s 654us/step - loss: 3.2484 - acc: 0.3905 - val_loss: 3.3802 - val_acc: 0.3759\n"
     ]
    }
   ],
   "source": [
    "# compile model\n",
    "model.compile(loss='categorical_crossentropy', optimizer='adam', metrics=['accuracy'])\n",
    "# fit model\n",
    "history = model.fit(partial_x_train, partial_y_train, \n",
    "                    batch_size=256, \n",
    "                    epochs=150, \n",
    "                    callbacks=callbacks, \n",
    "                    validation_data=(x_val, y_val),verbose=1)"
   ]
  },
  {
   "cell_type": "code",
   "execution_count": 20,
   "metadata": {},
   "outputs": [
    {
     "data": {
      "text/plain": [
       "<Figure size 640x480 with 1 Axes>"
      ]
     },
     "metadata": {},
     "output_type": "display_data"
    }
   ],
   "source": [
    "import matplotlib.pyplot as plt\n",
    "\n",
    "acc = history.history['acc']\n",
    "val_acc = history.history['val_acc']\n",
    "loss = history.history['loss']\n",
    "val_loss = history.history['val_loss']\n",
    "\n",
    "epochs = range(1, len(acc) + 1)\n",
    "\n",
    "# \"bo\" is for \"blue dot\"\n",
    "plt.plot(epochs, loss, 'bo', label='Training loss')\n",
    "# b is for \"solid blue line\"\n",
    "plt.plot(epochs, val_loss, 'b', label='Validation loss')\n",
    "plt.title('Training and validation loss')\n",
    "plt.xlabel('Epochs')\n",
    "plt.ylabel('Loss')\n",
    "plt.legend()\n",
    "\n",
    "plt.show()"
   ]
  },
  {
   "cell_type": "code",
   "execution_count": 21,
   "metadata": {},
   "outputs": [
    {
     "ename": "NameError",
     "evalue": "name 'history_dict' is not defined",
     "output_type": "error",
     "traceback": [
      "\u001b[1;31m---------------------------------------------------------------------------\u001b[0m",
      "\u001b[1;31mNameError\u001b[0m                                 Traceback (most recent call last)",
      "\u001b[1;32m<ipython-input-21-0066d087cefa>\u001b[0m in \u001b[0;36m<module>\u001b[1;34m\u001b[0m\n\u001b[0;32m      1\u001b[0m \u001b[0mplt\u001b[0m\u001b[1;33m.\u001b[0m\u001b[0mclf\u001b[0m\u001b[1;33m(\u001b[0m\u001b[1;33m)\u001b[0m   \u001b[1;31m# clear figure\u001b[0m\u001b[1;33m\u001b[0m\u001b[1;33m\u001b[0m\u001b[0m\n\u001b[1;32m----> 2\u001b[1;33m \u001b[0macc_values\u001b[0m \u001b[1;33m=\u001b[0m \u001b[0mhistory_dict\u001b[0m\u001b[1;33m[\u001b[0m\u001b[1;34m'acc'\u001b[0m\u001b[1;33m]\u001b[0m\u001b[1;33m\u001b[0m\u001b[1;33m\u001b[0m\u001b[0m\n\u001b[0m\u001b[0;32m      3\u001b[0m \u001b[0mval_acc_values\u001b[0m \u001b[1;33m=\u001b[0m \u001b[0mhistory_dict\u001b[0m\u001b[1;33m[\u001b[0m\u001b[1;34m'val_acc'\u001b[0m\u001b[1;33m]\u001b[0m\u001b[1;33m\u001b[0m\u001b[1;33m\u001b[0m\u001b[0m\n\u001b[0;32m      4\u001b[0m \u001b[1;33m\u001b[0m\u001b[0m\n\u001b[0;32m      5\u001b[0m \u001b[0mplt\u001b[0m\u001b[1;33m.\u001b[0m\u001b[0mplot\u001b[0m\u001b[1;33m(\u001b[0m\u001b[0mepochs\u001b[0m\u001b[1;33m,\u001b[0m \u001b[0macc\u001b[0m\u001b[1;33m,\u001b[0m \u001b[1;34m'bo'\u001b[0m\u001b[1;33m,\u001b[0m \u001b[0mlabel\u001b[0m\u001b[1;33m=\u001b[0m\u001b[1;34m'Training acc'\u001b[0m\u001b[1;33m)\u001b[0m\u001b[1;33m\u001b[0m\u001b[1;33m\u001b[0m\u001b[0m\n",
      "\u001b[1;31mNameError\u001b[0m: name 'history_dict' is not defined"
     ]
    },
    {
     "data": {
      "text/plain": [
       "<Figure size 432x288 with 0 Axes>"
      ]
     },
     "metadata": {},
     "output_type": "display_data"
    }
   ],
   "source": [
    "plt.clf()   # clear figure\n",
    "acc_values = history_dict['acc']\n",
    "val_acc_values = history_dict['val_acc']\n",
    "\n",
    "plt.plot(epochs, acc, 'bo', label='Training acc')\n",
    "plt.plot(epochs, val_acc, 'b', label='Validation acc')\n",
    "plt.title('Training and validation accuracy')\n",
    "plt.xlabel('Epochs')\n",
    "plt.ylabel('Accuracy')\n",
    "plt.legend()\n",
    "\n",
    "plt.show()"
   ]
  },
  {
   "cell_type": "code",
   "execution_count": null,
   "metadata": {},
   "outputs": [],
   "source": [
    "# save the model to file\n",
    "model.save('model_email_05920.h5')\n",
    "# save the tokenizer\n",
    "dump(tokenizer, open('tokenizer05920.pkl', 'wb'))"
   ]
  },
  {
   "cell_type": "code",
   "execution_count": null,
   "metadata": {},
   "outputs": [],
   "source": []
  }
 ],
 "metadata": {
  "kernelspec": {
   "display_name": "Python 3",
   "language": "python",
   "name": "python3"
  },
  "language_info": {
   "codemirror_mode": {
    "name": "ipython",
    "version": 3
   },
   "file_extension": ".py",
   "mimetype": "text/x-python",
   "name": "python",
   "nbconvert_exporter": "python",
   "pygments_lexer": "ipython3",
   "version": "3.6.8"
  },
  "varInspector": {
   "cols": {
    "lenName": 16,
    "lenType": 16,
    "lenVar": 40
   },
   "kernels_config": {
    "python": {
     "delete_cmd_postfix": "",
     "delete_cmd_prefix": "del ",
     "library": "var_list.py",
     "varRefreshCmd": "print(var_dic_list())"
    },
    "r": {
     "delete_cmd_postfix": ") ",
     "delete_cmd_prefix": "rm(",
     "library": "var_list.r",
     "varRefreshCmd": "cat(var_dic_list()) "
    }
   },
   "types_to_exclude": [
    "module",
    "function",
    "builtin_function_or_method",
    "instance",
    "_Feature"
   ],
   "window_display": false
  }
 },
 "nbformat": 4,
 "nbformat_minor": 2
}
