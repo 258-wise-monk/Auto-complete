{
 "cells": [
  {
   "cell_type": "markdown",
   "metadata": {},
   "source": [
    "# CMPE257 Project1: E-mail Autocomplete Project"
   ]
  },
  {
   "cell_type": "markdown",
   "metadata": {},
   "source": [
    "#### Yuhua He - Data preparation, preprocessing(tf-idf), K-means algorithm, Elbow method\n",
    "#### Yuanzhe Li - Finding business model, preprocessing(stemming), Testing\n",
    "#### Samuel Yang - Data prepraration, Documentation, preprocessing(feature extraction), Testing"
   ]
  },
  {
   "cell_type": "markdown",
   "metadata": {},
   "source": [
    "### What story is the data telling us?\n",
    "\n",
    "#### In this group assignment, the business objective we are focusing on, is the \"Smart Email Compose\" project. We are using the Enron email dataset, which has the \"file\" column and \"message\" column, after servel feature extracting process, we can extract more features like \"file name\", \"message body\", from\", \"to\", \"message id\". So, the data is basically show what we need. It provides several thousands of messages body with completely different structure. For example, some of the messages greeting messgae that comes up with the \"hello\" word frequently, and some don't. In order to recognize it, we try to apply the tf-tdf technique to find out the frequency of each words. "
   ]
  },
  {
   "cell_type": "markdown",
   "metadata": {},
   "source": [
    "### What business problem can be solved using the data?\n",
    "\n",
    "#### From what we do and trying to processing the data, \"Content Discovery\" can be solved easily. After we appliedK-means cluserting algorithm, we can divided all the data into several clusters where has similar words. More importantly, by applying machine-learning algorithm, we can further categorized emails into 4 major groups, which is am essential observation for our project. We also apply the eblow method to interprete and validate the consistency within cluster analysis designed to find appropriate amount of clusters we need in this situation."
   ]
  },
  {
   "cell_type": "code",
   "execution_count": 1,
   "metadata": {},
   "outputs": [
    {
     "name": "stderr",
     "output_type": "stream",
     "text": [
      "d:\\Anaconda3\\lib\\site-packages\\gensim\\utils.py:1197: UserWarning: detected Windows; aliasing chunkize to chunkize_serial\n",
      "  warnings.warn(\"detected Windows; aliasing chunkize to chunkize_serial\")\n"
     ]
    }
   ],
   "source": [
    "#import Library\n",
    "\n",
    "import email, re\n",
    "import string\n",
    "import numpy as np\n",
    "import pandas as pd\n",
    "import matplotlib.pyplot as plt\n",
    "from sklearn.feature_extraction.text import TfidfVectorizer, CountVectorizer\n",
    "from sklearn.cluster import KMeans\n",
    "from sklearn.decomposition import PCA\n",
    "from sklearn.decomposition import  LatentDirichletAllocation\n",
    "from scipy.spatial.distance import cdist\n",
    "from nltk.corpus import stopwords\n",
    "from nltk.stem.wordnet import WordNetLemmatizer\n",
    "import gensim\n",
    "from gensim import corpora\n",
    "from gensim.utils import simple_preprocess"
   ]
  },
  {
   "cell_type": "markdown",
   "metadata": {},
   "source": [
    "## Strong initial dataset (Enron Email Dataset):"
   ]
  },
  {
   "cell_type": "code",
   "execution_count": 2,
   "metadata": {},
   "outputs": [
    {
     "name": "stdout",
     "output_type": "stream",
     "text": [
      "(6325, 5) (30000, 2)\n"
     ]
    }
   ],
   "source": [
    "# Read the data into a DataFrame\n",
    "emails_enrich_df = pd.read_csv('rdany_conversations_2016-03-01.csv')\n",
    "emails_df = pd.read_csv('D:\\FreeDownloads\\enron-email-dataset\\emails.csv',nrows = 30000, error_bad_lines = False)\n",
    "print(emails_enrich_df.shape, emails_df.shape)"
   ]
  },
  {
   "cell_type": "markdown",
   "metadata": {},
   "source": [
    "## Data Enrichment (Coversation Dataset):"
   ]
  },
  {
   "cell_type": "code",
   "execution_count": 3,
   "metadata": {},
   "outputs": [
    {
     "data": {
      "text/html": [
       "<div>\n",
       "<style scoped>\n",
       "    .dataframe tbody tr th:only-of-type {\n",
       "        vertical-align: middle;\n",
       "    }\n",
       "\n",
       "    .dataframe tbody tr th {\n",
       "        vertical-align: top;\n",
       "    }\n",
       "\n",
       "    .dataframe thead th {\n",
       "        text-align: right;\n",
       "    }\n",
       "</style>\n",
       "<table border=\"1\" class=\"dataframe\">\n",
       "  <thead>\n",
       "    <tr style=\"text-align: right;\">\n",
       "      <th></th>\n",
       "      <th>source</th>\n",
       "      <th>text</th>\n",
       "      <th>date</th>\n",
       "      <th>hashed_message_id</th>\n",
       "      <th>hashed_chat_id</th>\n",
       "    </tr>\n",
       "  </thead>\n",
       "  <tbody>\n",
       "    <tr>\n",
       "      <th>0</th>\n",
       "      <td>human</td>\n",
       "      <td>[START]</td>\n",
       "      <td>0</td>\n",
       "      <td>fce1649c457fcd02600f0f1aece46c1a88d3258fdfc2d8...</td>\n",
       "      <td>b71a7a6e3eae414113fd7c6d3fc3e13b50fd5fbf335b95...</td>\n",
       "    </tr>\n",
       "    <tr>\n",
       "      <th>1</th>\n",
       "      <td>robot</td>\n",
       "      <td>Hi there, how are you!? 😁😁</td>\n",
       "      <td>23789</td>\n",
       "      <td>8601139615d43330986f3f27b78bcf0212d2a4f1e4a4d7...</td>\n",
       "      <td>b71a7a6e3eae414113fd7c6d3fc3e13b50fd5fbf335b95...</td>\n",
       "    </tr>\n",
       "    <tr>\n",
       "      <th>2</th>\n",
       "      <td>human</td>\n",
       "      <td>Oh, thanks! I'm fine. This is an evening in my...</td>\n",
       "      <td>41177</td>\n",
       "      <td>a2eb7031aa536c89231517fc71ea3315c89ca50fef155b...</td>\n",
       "      <td>b71a7a6e3eae414113fd7c6d3fc3e13b50fd5fbf335b95...</td>\n",
       "    </tr>\n",
       "    <tr>\n",
       "      <th>3</th>\n",
       "      <td>robot</td>\n",
       "      <td>😄 here is afternoon!</td>\n",
       "      <td>41598</td>\n",
       "      <td>e0ac851c9ff34cd39a7e490fb9021163b8be6df097737f...</td>\n",
       "      <td>b71a7a6e3eae414113fd7c6d3fc3e13b50fd5fbf335b95...</td>\n",
       "    </tr>\n",
       "    <tr>\n",
       "      <th>4</th>\n",
       "      <td>human</td>\n",
       "      <td>How do you feel today? Tell me something about...</td>\n",
       "      <td>41629</td>\n",
       "      <td>0d2937ef1d5e806d46b78f2264bee44f9cbad0d68e4ce2...</td>\n",
       "      <td>b71a7a6e3eae414113fd7c6d3fc3e13b50fd5fbf335b95...</td>\n",
       "    </tr>\n",
       "  </tbody>\n",
       "</table>\n",
       "</div>"
      ],
      "text/plain": [
       "  source                                               text   date  \\\n",
       "0  human                                            [START]      0   \n",
       "1  robot                         Hi there, how are you!? 😁😁  23789   \n",
       "2  human  Oh, thanks! I'm fine. This is an evening in my...  41177   \n",
       "3  robot                               😄 here is afternoon!  41598   \n",
       "4  human  How do you feel today? Tell me something about...  41629   \n",
       "\n",
       "                                   hashed_message_id  \\\n",
       "0  fce1649c457fcd02600f0f1aece46c1a88d3258fdfc2d8...   \n",
       "1  8601139615d43330986f3f27b78bcf0212d2a4f1e4a4d7...   \n",
       "2  a2eb7031aa536c89231517fc71ea3315c89ca50fef155b...   \n",
       "3  e0ac851c9ff34cd39a7e490fb9021163b8be6df097737f...   \n",
       "4  0d2937ef1d5e806d46b78f2264bee44f9cbad0d68e4ce2...   \n",
       "\n",
       "                                      hashed_chat_id  \n",
       "0  b71a7a6e3eae414113fd7c6d3fc3e13b50fd5fbf335b95...  \n",
       "1  b71a7a6e3eae414113fd7c6d3fc3e13b50fd5fbf335b95...  \n",
       "2  b71a7a6e3eae414113fd7c6d3fc3e13b50fd5fbf335b95...  \n",
       "3  b71a7a6e3eae414113fd7c6d3fc3e13b50fd5fbf335b95...  \n",
       "4  b71a7a6e3eae414113fd7c6d3fc3e13b50fd5fbf335b95...  "
      ]
     },
     "execution_count": 3,
     "metadata": {},
     "output_type": "execute_result"
    }
   ],
   "source": [
    "emails_enrich_df.head()"
   ]
  },
  {
   "cell_type": "code",
   "execution_count": 4,
   "metadata": {},
   "outputs": [],
   "source": [
    "#Helper functions\n",
    "\n",
    "def get_email_text(email):\n",
    "    '''To get the content from email objects'''\n",
    "    email_contents = []\n",
    "    for email_object in email.walk():\n",
    "        if email_object.get_content_type() == 'text/plain':\n",
    "            email_contents.append(email_object.get_payload())\n",
    "    return ''.join(email_contents)\n",
    "\n",
    "def split_email_addresses(line):\n",
    "    '''To separate multiple email addresses'''\n",
    "    if line:\n",
    "        addrs = line.split(',')\n",
    "        addrs = frozenset(map(lambda x: x.strip(), addrs))\n",
    "    else:\n",
    "        addrs = None\n",
    "    return addrs"
   ]
  },
  {
   "cell_type": "markdown",
   "metadata": {},
   "source": [
    "## Preprocessing:"
   ]
  },
  {
   "cell_type": "code",
   "execution_count": 5,
   "metadata": {},
   "outputs": [
    {
     "name": "stdout",
     "output_type": "stream",
     "text": [
      "(30000, 12)\n"
     ]
    },
    {
     "data": {
      "text/html": [
       "<div>\n",
       "<style scoped>\n",
       "    .dataframe tbody tr th:only-of-type {\n",
       "        vertical-align: middle;\n",
       "    }\n",
       "\n",
       "    .dataframe tbody tr th {\n",
       "        vertical-align: top;\n",
       "    }\n",
       "\n",
       "    .dataframe thead th {\n",
       "        text-align: right;\n",
       "    }\n",
       "</style>\n",
       "<table border=\"1\" class=\"dataframe\">\n",
       "  <thead>\n",
       "    <tr style=\"text-align: right;\">\n",
       "      <th></th>\n",
       "      <th>Date</th>\n",
       "      <th>From</th>\n",
       "      <th>To</th>\n",
       "      <th>Subject</th>\n",
       "      <th>X-From</th>\n",
       "      <th>X-To</th>\n",
       "      <th>X-cc</th>\n",
       "      <th>X-bcc</th>\n",
       "      <th>X-Folder</th>\n",
       "      <th>X-Origin</th>\n",
       "      <th>X-FileName</th>\n",
       "      <th>content</th>\n",
       "    </tr>\n",
       "    <tr>\n",
       "      <th>Message-ID</th>\n",
       "      <th></th>\n",
       "      <th></th>\n",
       "      <th></th>\n",
       "      <th></th>\n",
       "      <th></th>\n",
       "      <th></th>\n",
       "      <th></th>\n",
       "      <th></th>\n",
       "      <th></th>\n",
       "      <th></th>\n",
       "      <th></th>\n",
       "      <th></th>\n",
       "    </tr>\n",
       "  </thead>\n",
       "  <tbody>\n",
       "    <tr>\n",
       "      <th>&lt;18782981.1075855378110.JavaMail.evans@thyme&gt;</th>\n",
       "      <td>2001-05-14 16:39:00-07:00</td>\n",
       "      <td>(phillip.allen@enron.com)</td>\n",
       "      <td>(tim.belden@enron.com)</td>\n",
       "      <td></td>\n",
       "      <td>Phillip K Allen</td>\n",
       "      <td>Tim Belden &lt;Tim Belden/Enron@EnronXGate&gt;</td>\n",
       "      <td></td>\n",
       "      <td></td>\n",
       "      <td>\\Phillip_Allen_Jan2002_1\\Allen, Phillip K.\\'Se...</td>\n",
       "      <td>Allen-P</td>\n",
       "      <td>pallen (Non-Privileged).pst</td>\n",
       "      <td>Here is our forecast\\n\\n</td>\n",
       "    </tr>\n",
       "    <tr>\n",
       "      <th>&lt;15464986.1075855378456.JavaMail.evans@thyme&gt;</th>\n",
       "      <td>2001-05-04 13:51:00-07:00</td>\n",
       "      <td>(phillip.allen@enron.com)</td>\n",
       "      <td>(john.lavorato@enron.com)</td>\n",
       "      <td>Re:</td>\n",
       "      <td>Phillip K Allen</td>\n",
       "      <td>John J Lavorato &lt;John J Lavorato/ENRON@enronXg...</td>\n",
       "      <td></td>\n",
       "      <td></td>\n",
       "      <td>\\Phillip_Allen_Jan2002_1\\Allen, Phillip K.\\'Se...</td>\n",
       "      <td>Allen-P</td>\n",
       "      <td>pallen (Non-Privileged).pst</td>\n",
       "      <td>Traveling to have a business meeting takes the...</td>\n",
       "    </tr>\n",
       "    <tr>\n",
       "      <th>&lt;24216240.1075855687451.JavaMail.evans@thyme&gt;</th>\n",
       "      <td>2000-10-18 03:00:00-07:00</td>\n",
       "      <td>(phillip.allen@enron.com)</td>\n",
       "      <td>(leah.arsdall@enron.com)</td>\n",
       "      <td>Re: test</td>\n",
       "      <td>Phillip K Allen</td>\n",
       "      <td>Leah Van Arsdall</td>\n",
       "      <td></td>\n",
       "      <td></td>\n",
       "      <td>\\Phillip_Allen_Dec2000\\Notes Folders\\'sent mail</td>\n",
       "      <td>Allen-P</td>\n",
       "      <td>pallen.nsf</td>\n",
       "      <td>test successful.  way to go!!!</td>\n",
       "    </tr>\n",
       "    <tr>\n",
       "      <th>&lt;13505866.1075863688222.JavaMail.evans@thyme&gt;</th>\n",
       "      <td>2000-10-23 06:13:00-07:00</td>\n",
       "      <td>(phillip.allen@enron.com)</td>\n",
       "      <td>(randall.gay@enron.com)</td>\n",
       "      <td></td>\n",
       "      <td>Phillip K Allen</td>\n",
       "      <td>Randall L Gay</td>\n",
       "      <td></td>\n",
       "      <td></td>\n",
       "      <td>\\Phillip_Allen_Dec2000\\Notes Folders\\'sent mail</td>\n",
       "      <td>Allen-P</td>\n",
       "      <td>pallen.nsf</td>\n",
       "      <td>Randy,\\n\\n Can you send me a schedule of the s...</td>\n",
       "    </tr>\n",
       "    <tr>\n",
       "      <th>&lt;30922949.1075863688243.JavaMail.evans@thyme&gt;</th>\n",
       "      <td>2000-08-31 05:07:00-07:00</td>\n",
       "      <td>(phillip.allen@enron.com)</td>\n",
       "      <td>(greg.piper@enron.com)</td>\n",
       "      <td>Re: Hello</td>\n",
       "      <td>Phillip K Allen</td>\n",
       "      <td>Greg Piper</td>\n",
       "      <td></td>\n",
       "      <td></td>\n",
       "      <td>\\Phillip_Allen_Dec2000\\Notes Folders\\'sent mail</td>\n",
       "      <td>Allen-P</td>\n",
       "      <td>pallen.nsf</td>\n",
       "      <td>Let's shoot for Tuesday at 11:45.</td>\n",
       "    </tr>\n",
       "  </tbody>\n",
       "</table>\n",
       "</div>"
      ],
      "text/plain": [
       "                                                                    Date  \\\n",
       "Message-ID                                                                 \n",
       "<18782981.1075855378110.JavaMail.evans@thyme>  2001-05-14 16:39:00-07:00   \n",
       "<15464986.1075855378456.JavaMail.evans@thyme>  2001-05-04 13:51:00-07:00   \n",
       "<24216240.1075855687451.JavaMail.evans@thyme>  2000-10-18 03:00:00-07:00   \n",
       "<13505866.1075863688222.JavaMail.evans@thyme>  2000-10-23 06:13:00-07:00   \n",
       "<30922949.1075863688243.JavaMail.evans@thyme>  2000-08-31 05:07:00-07:00   \n",
       "\n",
       "                                                                    From  \\\n",
       "Message-ID                                                                 \n",
       "<18782981.1075855378110.JavaMail.evans@thyme>  (phillip.allen@enron.com)   \n",
       "<15464986.1075855378456.JavaMail.evans@thyme>  (phillip.allen@enron.com)   \n",
       "<24216240.1075855687451.JavaMail.evans@thyme>  (phillip.allen@enron.com)   \n",
       "<13505866.1075863688222.JavaMail.evans@thyme>  (phillip.allen@enron.com)   \n",
       "<30922949.1075863688243.JavaMail.evans@thyme>  (phillip.allen@enron.com)   \n",
       "\n",
       "                                                                      To  \\\n",
       "Message-ID                                                                 \n",
       "<18782981.1075855378110.JavaMail.evans@thyme>     (tim.belden@enron.com)   \n",
       "<15464986.1075855378456.JavaMail.evans@thyme>  (john.lavorato@enron.com)   \n",
       "<24216240.1075855687451.JavaMail.evans@thyme>   (leah.arsdall@enron.com)   \n",
       "<13505866.1075863688222.JavaMail.evans@thyme>    (randall.gay@enron.com)   \n",
       "<30922949.1075863688243.JavaMail.evans@thyme>     (greg.piper@enron.com)   \n",
       "\n",
       "                                                 Subject           X-From  \\\n",
       "Message-ID                                                                  \n",
       "<18782981.1075855378110.JavaMail.evans@thyme>             Phillip K Allen   \n",
       "<15464986.1075855378456.JavaMail.evans@thyme>        Re:  Phillip K Allen   \n",
       "<24216240.1075855687451.JavaMail.evans@thyme>   Re: test  Phillip K Allen   \n",
       "<13505866.1075863688222.JavaMail.evans@thyme>             Phillip K Allen   \n",
       "<30922949.1075863688243.JavaMail.evans@thyme>  Re: Hello  Phillip K Allen   \n",
       "\n",
       "                                                                                            X-To  \\\n",
       "Message-ID                                                                                         \n",
       "<18782981.1075855378110.JavaMail.evans@thyme>           Tim Belden <Tim Belden/Enron@EnronXGate>   \n",
       "<15464986.1075855378456.JavaMail.evans@thyme>  John J Lavorato <John J Lavorato/ENRON@enronXg...   \n",
       "<24216240.1075855687451.JavaMail.evans@thyme>                                   Leah Van Arsdall   \n",
       "<13505866.1075863688222.JavaMail.evans@thyme>                                      Randall L Gay   \n",
       "<30922949.1075863688243.JavaMail.evans@thyme>                                         Greg Piper   \n",
       "\n",
       "                                              X-cc X-bcc  \\\n",
       "Message-ID                                                 \n",
       "<18782981.1075855378110.JavaMail.evans@thyme>              \n",
       "<15464986.1075855378456.JavaMail.evans@thyme>              \n",
       "<24216240.1075855687451.JavaMail.evans@thyme>              \n",
       "<13505866.1075863688222.JavaMail.evans@thyme>              \n",
       "<30922949.1075863688243.JavaMail.evans@thyme>              \n",
       "\n",
       "                                                                                        X-Folder  \\\n",
       "Message-ID                                                                                         \n",
       "<18782981.1075855378110.JavaMail.evans@thyme>  \\Phillip_Allen_Jan2002_1\\Allen, Phillip K.\\'Se...   \n",
       "<15464986.1075855378456.JavaMail.evans@thyme>  \\Phillip_Allen_Jan2002_1\\Allen, Phillip K.\\'Se...   \n",
       "<24216240.1075855687451.JavaMail.evans@thyme>    \\Phillip_Allen_Dec2000\\Notes Folders\\'sent mail   \n",
       "<13505866.1075863688222.JavaMail.evans@thyme>    \\Phillip_Allen_Dec2000\\Notes Folders\\'sent mail   \n",
       "<30922949.1075863688243.JavaMail.evans@thyme>    \\Phillip_Allen_Dec2000\\Notes Folders\\'sent mail   \n",
       "\n",
       "                                              X-Origin  \\\n",
       "Message-ID                                               \n",
       "<18782981.1075855378110.JavaMail.evans@thyme>  Allen-P   \n",
       "<15464986.1075855378456.JavaMail.evans@thyme>  Allen-P   \n",
       "<24216240.1075855687451.JavaMail.evans@thyme>  Allen-P   \n",
       "<13505866.1075863688222.JavaMail.evans@thyme>  Allen-P   \n",
       "<30922949.1075863688243.JavaMail.evans@thyme>  Allen-P   \n",
       "\n",
       "                                                                X-FileName  \\\n",
       "Message-ID                                                                   \n",
       "<18782981.1075855378110.JavaMail.evans@thyme>  pallen (Non-Privileged).pst   \n",
       "<15464986.1075855378456.JavaMail.evans@thyme>  pallen (Non-Privileged).pst   \n",
       "<24216240.1075855687451.JavaMail.evans@thyme>                   pallen.nsf   \n",
       "<13505866.1075863688222.JavaMail.evans@thyme>                   pallen.nsf   \n",
       "<30922949.1075863688243.JavaMail.evans@thyme>                   pallen.nsf   \n",
       "\n",
       "                                                                                         content  \n",
       "Message-ID                                                                                        \n",
       "<18782981.1075855378110.JavaMail.evans@thyme>                          Here is our forecast\\n\\n   \n",
       "<15464986.1075855378456.JavaMail.evans@thyme>  Traveling to have a business meeting takes the...  \n",
       "<24216240.1075855687451.JavaMail.evans@thyme>                     test successful.  way to go!!!  \n",
       "<13505866.1075863688222.JavaMail.evans@thyme>  Randy,\\n\\n Can you send me a schedule of the s...  \n",
       "<30922949.1075863688243.JavaMail.evans@thyme>                Let's shoot for Tuesday at 11:45.    "
      ]
     },
     "execution_count": 5,
     "metadata": {},
     "output_type": "execute_result"
    }
   ],
   "source": [
    "# Parse the emails into a list email objects\n",
    "messages = list(map(email.message_from_string, emails_df['message']))\n",
    "emails_df.drop('message', axis=1, inplace=True)\n",
    "\n",
    "# Get fields from parsed email objects\n",
    "keys = messages[0].keys()\n",
    "for key in keys:\n",
    "    emails_df[key] = [doc[key] for doc in messages]\n",
    "\n",
    "# Parse content from emails\n",
    "emails_df['content'] = list(map(get_email_text, messages))\n",
    "\n",
    "#rename\n",
    "emails_enrich_df = emails_enrich_df.rename(index = str, columns = {\"text\" : \"content\"})\n",
    "\n",
    "enriched_df = emails_df['content'].append(emails_enrich_df['content'], ignore_index = True).copy()\n",
    "\n",
    "#emails_df['content'].to_csv('content.csv', index = False, header = True)\n",
    "# Split multiple email addresses\n",
    "emails_df['From'] = emails_df['From'].map(split_email_addresses)\n",
    "emails_df['To'] = emails_df['To'].map(split_email_addresses)\n",
    "\n",
    "# Set index and drop columns with two few values\n",
    "emails_df = emails_df.set_index('Message-ID')\\\n",
    "    .drop(['file', 'Mime-Version', 'Content-Type', 'Content-Transfer-Encoding'], axis=1)\n",
    "\n",
    "# Parse datetime\n",
    "emails_df['Date'] = pd.to_datetime(emails_df['Date'], infer_datetime_format=True)\n",
    "print(emails_df.shape)\n",
    "emails_df.head()"
   ]
  },
  {
   "cell_type": "code",
   "execution_count": 6,
   "metadata": {},
   "outputs": [
    {
     "name": "stdout",
     "output_type": "stream",
     "text": [
      "36325\n"
     ]
    }
   ],
   "source": [
    "print(enriched_df.size)\n",
    "enriched_df.head()\n",
    "enriched_df=enriched_df.to_frame()"
   ]
  },
  {
   "cell_type": "code",
   "execution_count": 7,
   "metadata": {},
   "outputs": [],
   "source": [
    "#Helper function - Removing stop words, removel unimpotant words.\n",
    "\n",
    "def clean(text):\n",
    "    stop = set(stopwords.words('english'))\n",
    "    stop.update(('http', 'www', 'com' ))\n",
    "    exclude = set(string.punctuation) \n",
    "    lemma = WordNetLemmatizer()\n",
    "    dash_pat = re.compile(\"--+.+--+\", flags = re.DOTALL)\n",
    "    star_pat = re.compile('\\*\\*+.+\\*\\*+', flags = re.DOTALL)\n",
    "    uscore_pat = re.compile(\" __+.+__+\", flags = re.DOTALL)\n",
    "    equals_pat = re.compile(\"==+.+==+\", flags = re.DOTALL)\n",
    "    to_pat = re.compile(r'^To:.*\\n?',flags = re.MULTILINE)\n",
    "    cc_pat = re.compile(r'^cc:.*\\n?',flags = re.MULTILINE)\n",
    "    subject_pat = re.compile(r'^Subject:.*\\n?', flags = re.MULTILINE)\n",
    "    nochar_pat = re.compile(r'[^a-zA-Z]')\n",
    "    shortkiller = re.compile('\\b\\w{1,3}\\b')\n",
    "    text = text.rstrip()\n",
    "    text = dash_pat.sub(' ', text)\n",
    "    text = star_pat.sub(' ', text)\n",
    "    text = uscore_pat.sub(' ', text)\n",
    "    text = to_pat.sub('', text)\n",
    "    text = cc_pat.sub('', text)\n",
    "    text = subject_pat.sub('', text)\n",
    "    text = equals_pat.sub(' ', text)\n",
    "    text = nochar_pat.sub(' ', text)\n",
    "    text = shortkiller.sub(' ', text)\n",
    "    stop_free = \" \".join([i for i in text.lower().split() if((i not in stop) and (not i.isdigit()))])\n",
    "    #punc_free = ' '.join(ch for ch in stop_free.split() if ch not in exclude)\n",
    "    shortkill = ' '.join(ch for ch in stop_free.split() if len(ch) > 2)\n",
    "    normalized = \" \".join(lemma.lemmatize(word, pos='v') for word in shortkill.split())\n",
    "    \n",
    "    return normalized"
   ]
  },
  {
   "cell_type": "code",
   "execution_count": 8,
   "metadata": {},
   "outputs": [
    {
     "data": {
      "text/html": [
       "<div>\n",
       "<style scoped>\n",
       "    .dataframe tbody tr th:only-of-type {\n",
       "        vertical-align: middle;\n",
       "    }\n",
       "\n",
       "    .dataframe tbody tr th {\n",
       "        vertical-align: top;\n",
       "    }\n",
       "\n",
       "    .dataframe thead th {\n",
       "        text-align: right;\n",
       "    }\n",
       "</style>\n",
       "<table border=\"1\" class=\"dataframe\">\n",
       "  <thead>\n",
       "    <tr style=\"text-align: right;\">\n",
       "      <th></th>\n",
       "      <th>content</th>\n",
       "    </tr>\n",
       "  </thead>\n",
       "  <tbody>\n",
       "    <tr>\n",
       "      <th>0</th>\n",
       "      <td>Here is our forecast\\n\\n</td>\n",
       "    </tr>\n",
       "    <tr>\n",
       "      <th>1</th>\n",
       "      <td>Traveling to have a business meeting takes the...</td>\n",
       "    </tr>\n",
       "    <tr>\n",
       "      <th>2</th>\n",
       "      <td>test successful.  way to go!!!</td>\n",
       "    </tr>\n",
       "    <tr>\n",
       "      <th>3</th>\n",
       "      <td>Randy,\\n\\n Can you send me a schedule of the s...</td>\n",
       "    </tr>\n",
       "    <tr>\n",
       "      <th>4</th>\n",
       "      <td>Let's shoot for Tuesday at 11:45.</td>\n",
       "    </tr>\n",
       "  </tbody>\n",
       "</table>\n",
       "</div>"
      ],
      "text/plain": [
       "                                             content\n",
       "0                          Here is our forecast\\n\\n \n",
       "1  Traveling to have a business meeting takes the...\n",
       "2                     test successful.  way to go!!!\n",
       "3  Randy,\\n\\n Can you send me a schedule of the s...\n",
       "4                Let's shoot for Tuesday at 11:45.  "
      ]
     },
     "execution_count": 8,
     "metadata": {},
     "output_type": "execute_result"
    }
   ],
   "source": [
    "enriched_df.reindex()\n",
    "enriched_df.head()"
   ]
  },
  {
   "cell_type": "code",
   "execution_count": 9,
   "metadata": {},
   "outputs": [
    {
     "data": {
      "text/plain": [
       "pandas.core.frame.DataFrame"
      ]
     },
     "execution_count": 9,
     "metadata": {},
     "output_type": "execute_result"
    }
   ],
   "source": [
    "#enriched_df[enriched_df.index.duplicated()]\n",
    "#enriched_df = pd.DataFrame({\"index\": enriched_df.index, \"content\" : enriched_df.values})\n",
    "type(enriched_df)"
   ]
  },
  {
   "cell_type": "code",
   "execution_count": 10,
   "metadata": {},
   "outputs": [
    {
     "name": "stdout",
     "output_type": "stream",
     "text": [
      "After drop: (28945, 1)\n"
     ]
    }
   ],
   "source": [
    "#Drop rows have too less words\n",
    "enriched_df = enriched_df[enriched_df['content'].apply(lambda x: len(x.split()) > 10)]\n",
    "print(\"After drop:\", enriched_df.shape)"
   ]
  },
  {
   "cell_type": "markdown",
   "metadata": {},
   "source": [
    "## Bag of Words Model"
   ]
  },
  {
   "cell_type": "markdown",
   "metadata": {},
   "source": [
    "### BoW is a really useful model for the data-preparation process especially for text data. "
   ]
  },
  {
   "cell_type": "code",
   "execution_count": 11,
   "metadata": {},
   "outputs": [
    {
     "name": "stdout",
     "output_type": "stream",
     "text": [
      "['able', 'accept', 'access', 'accord', 'account', 'across', 'act', 'action', 'active', 'activities', 'activity', 'actually', 'add', 'addition', 'additional', 'address', 'advance', 'advise', 'afternoon', 'agent', 'ago', 'agree', 'agreement', 'air', 'align', 'allen', 'allow', 'along', 'already', 'also', 'although', 'always', 'america', 'american', 'amount', 'analysis', 'analyst', 'analysts', 'anderson', 'andy', 'announce', 'another', 'answer', 'anum', 'anyone', 'anything', 'aol', 'appear', 'application', 'applications', 'apply', 'appreciate', 'appropriate', 'approval', 'approve', 'april', 'area', 'areas', 'arial', 'arnold', 'around', 'article', 'ask', 'asp', 'assets', 'assistant', 'associate', 'assume', 'attach', 'attempt', 'attend', 'audit', 'august', 'austin', 'available', 'average', 'away', 'back', 'bad', 'balance', 'ball', 'bank', 'barry', 'base', 'basis', 'bass', 'baughman', 'beck', 'become', 'begin', 'believe', 'benefit', 'best', 'beth', 'better', 'bgcolor', 'bid', 'big', 'bigplanet', 'bill']\n"
     ]
    }
   ],
   "source": [
    "#cleaning all numeric data\n",
    "enriched_df = enriched_df.replace('\\d+', 'NUM', regex=True)\n",
    "\n",
    "#initialize the Vectorizer\n",
    "count_vec = CountVectorizer(max_features=1000, lowercase=True, ngram_range=(1,1),analyzer = \"word\")\n",
    "\n",
    "# learn the vocab and parse them as features based on the given params.\n",
    "count_occurs = count_vec.fit_transform(enriched_df['content'].apply(clean))\n",
    "\n",
    "# printing first hundred features\n",
    "print(count_vec.get_feature_names()[:100])"
   ]
  },
  {
   "cell_type": "code",
   "execution_count": 12,
   "metadata": {},
   "outputs": [
    {
     "name": "stdout",
     "output_type": "stream",
     "text": [
      "             Word  Count\n",
      "547          meet      5\n",
      "121      business      4\n",
      "988         would      3\n",
      "883          take      3\n",
      "930          trip      3\n",
      "405          hold      2\n",
      "931           try      2\n",
      "303          even      2\n",
      "695  presentation      1\n",
      "882         table      1\n"
     ]
    }
   ],
   "source": [
    "count_occur_df = pd.DataFrame((count, word) for word, count in zip(count_occurs.toarray().tolist()[0], count_vec.get_feature_names()))\n",
    "\n",
    "count_occur_df.columns = ['Word', 'Count']\n",
    "count_occur_df.sort_values('Count', ascending=False, inplace=True)\n",
    "print(count_occur_df.head(10))"
   ]
  },
  {
   "cell_type": "markdown",
   "metadata": {},
   "source": [
    "## Linear Regression (with BoW model):"
   ]
  },
  {
   "cell_type": "markdown",
   "metadata": {},
   "source": [
    "#### In order to perform linear regression model, besides combining with BoW, we also need to use LabelEncoder to convert string to numeric data"
   ]
  },
  {
   "cell_type": "code",
   "execution_count": 13,
   "metadata": {},
   "outputs": [
    {
     "name": "stdout",
     "output_type": "stream",
     "text": [
      "(1000,)\n",
      "(1000,)\n"
     ]
    }
   ],
   "source": [
    "from sklearn import preprocessing\n",
    "\n",
    "le = preprocessing.LabelEncoder()\n",
    "X = le.fit(count_occur_df['Word']).transform(count_occur_df['Word'])\n",
    "y = count_occur_df['Count']\n",
    "print(X.shape)\n",
    "print(y.shape)"
   ]
  },
  {
   "cell_type": "code",
   "execution_count": 14,
   "metadata": {},
   "outputs": [],
   "source": [
    "#Data Split\n",
    "from sklearn.model_selection import train_test_split\n",
    "\n",
    "X_train, X_test, y_train, y_test = train_test_split(X, y, test_size=0.4, random_state=101)"
   ]
  },
  {
   "cell_type": "code",
   "execution_count": 15,
   "metadata": {},
   "outputs": [
    {
     "data": {
      "image/png": "[encoded data removed]",
      "text/plain": [
       "<Figure size 432x288 with 1 Axes>"
      ]
     },
     "metadata": {
      "needs_background": "light"
     },
     "output_type": "display_data"
    }
   ],
   "source": [
    "from sklearn.linear_model import LinearRegression\n",
    "lm = LinearRegression()\n",
    "lm.fit(X_train[:, None],y_train)\n",
    "\n",
    "predictions = lm.predict(X_test[:, None])\n",
    "plt.scatter(y_test,predictions)\n",
    "\n",
    "plt.plot(X_test, predictions,color='red')\n",
    "plt.show()"
   ]
  },
  {
   "cell_type": "markdown",
   "metadata": {},
   "source": [
    "#### From the graph above we can see the words basically will all be like the \"here\", \"is\", \"our\", etc. Those words comes out frequently as a comparison to other words, so it will be useful for us to making a predictions that those words will more likely to appear after several patterns."
   ]
  },
  {
   "cell_type": "markdown",
   "metadata": {},
   "source": [
    "## Decision Tree:"
   ]
  },
  {
   "cell_type": "code",
   "execution_count": 16,
   "metadata": {},
   "outputs": [],
   "source": [
    "from sklearn.tree import DecisionTreeClassifier # Import Decision Tree Classifier\n",
    "from sklearn import metrics #Import scikit-learn metrics module for accuracy calculation"
   ]
  },
  {
   "cell_type": "code",
   "execution_count": 17,
   "metadata": {},
   "outputs": [],
   "source": [
    "dt = DecisionTreeClassifier()\n",
    "dt = dt.fit(X_train[:, None],y_train)\n",
    "y_pred = dt.predict(X_test[:, None])"
   ]
  },
  {
   "cell_type": "markdown",
   "metadata": {},
   "source": [
    "### Evaluating the Decision Tree model:"
   ]
  },
  {
   "cell_type": "code",
   "execution_count": 18,
   "metadata": {},
   "outputs": [
    {
     "name": "stdout",
     "output_type": "stream",
     "text": [
      "Accuracy: 0.9225\n"
     ]
    }
   ],
   "source": [
    "print(\"Accuracy:\",metrics.accuracy_score(y_test, y_pred))"
   ]
  },
  {
   "cell_type": "markdown",
   "metadata": {},
   "source": [
    "#### The this model gives us a 92.75% accuracy, which is a really high accuracy. But, there's a chance of being \"overfitting\" since we only use the Hold-out Validation. To furthermore test the model's performance, we should use Cross-Validation just in case."
   ]
  },
  {
   "cell_type": "markdown",
   "metadata": {},
   "source": [
    "### Cross-Validation (for Decision Tree Model):"
   ]
  },
  {
   "cell_type": "code",
   "execution_count": 19,
   "metadata": {},
   "outputs": [
    {
     "name": "stdout",
     "output_type": "stream",
     "text": [
      "CV scores mean: 0.5624747218234614\n"
     ]
    },
    {
     "name": "stderr",
     "output_type": "stream",
     "text": [
      "d:\\Anaconda3\\lib\\site-packages\\sklearn\\model_selection\\_split.py:652: Warning: The least populated class in y has only 1 members, which is too few. The minimum number of members in any class cannot be less than n_splits=10.\n",
      "  % (min_groups, self.n_splits)), Warning)\n"
     ]
    }
   ],
   "source": [
    "from sklearn.model_selection import cross_val_score\n",
    "scores = cross_val_score(dt, X[:,None], y, cv=10)\n",
    "print(\"CV scores mean: {}\".format(scores.mean()))"
   ]
  },
  {
   "cell_type": "markdown",
   "metadata": {},
   "source": [
    "#### From the mean of the CV scores above, we can conclude that the model is overfitting. To prevent overfitting in the Decision Tree Model, \"Pruning\" is a really good way to start with."
   ]
  },
  {
   "cell_type": "markdown",
   "metadata": {},
   "source": [
    "### Pruning (Prevent Overfitting for Decision Tree Model):"
   ]
  },
  {
   "cell_type": "code",
   "execution_count": 20,
   "metadata": {},
   "outputs": [],
   "source": [
    "dt_after_pruning = DecisionTreeClassifier(class_weight=None, criterion='gini', max_depth=5,\n",
    "            max_features=None, max_leaf_nodes=10, min_samples_leaf=5,\n",
    "            min_samples_split=2, min_weight_fraction_leaf=0.0,\n",
    "            presort=False, random_state=None, splitter='random')"
   ]
  },
  {
   "cell_type": "code",
   "execution_count": 21,
   "metadata": {},
   "outputs": [
    {
     "name": "stdout",
     "output_type": "stream",
     "text": [
      "Accuracy: 0.9475\n"
     ]
    }
   ],
   "source": [
    "dt_after_pruning = dt_after_pruning.fit(X_train[:, None],y_train)\n",
    "y_pred2 = dt_after_pruning.predict(X_test[:, None])\n",
    "print(\"Accuracy:\",metrics.accuracy_score(y_test, y_pred2))"
   ]
  },
  {
   "cell_type": "markdown",
   "metadata": {},
   "source": [
    "#### The accuracy seems pretty high, lets futhremore move on to the Cross-Validaion. "
   ]
  },
  {
   "cell_type": "code",
   "execution_count": 22,
   "metadata": {},
   "outputs": [
    {
     "name": "stdout",
     "output_type": "stream",
     "text": [
      "CV scores mean: 0.9632426746922546\n"
     ]
    },
    {
     "name": "stderr",
     "output_type": "stream",
     "text": [
      "d:\\Anaconda3\\lib\\site-packages\\sklearn\\model_selection\\_split.py:652: Warning: The least populated class in y has only 1 members, which is too few. The minimum number of members in any class cannot be less than n_splits=10.\n",
      "  % (min_groups, self.n_splits)), Warning)\n"
     ]
    }
   ],
   "source": [
    "scores = cross_val_score(dt_after_pruning, X[:,None], y, cv=10)\n",
    "print(\"CV scores mean: {}\".format(scores.mean()))"
   ]
  },
  {
   "cell_type": "markdown",
   "metadata": {},
   "source": [
    "#### After pruning, the mean of CV-scores comes to 0.96 which is really high and it also shows that the Decision Tree model is really accurate in this case. As it is really useful for us to classify the text data into categories based on the word counts. "
   ]
  },
  {
   "cell_type": "code",
   "execution_count": 23,
   "metadata": {},
   "outputs": [
    {
     "data": {
      "text/html": [
       "<div>\n",
       "<style scoped>\n",
       "    .dataframe tbody tr th:only-of-type {\n",
       "        vertical-align: middle;\n",
       "    }\n",
       "\n",
       "    .dataframe tbody tr th {\n",
       "        vertical-align: top;\n",
       "    }\n",
       "\n",
       "    .dataframe thead th {\n",
       "        text-align: right;\n",
       "    }\n",
       "</style>\n",
       "<table border=\"1\" class=\"dataframe\">\n",
       "  <thead>\n",
       "    <tr style=\"text-align: right;\">\n",
       "      <th></th>\n",
       "      <th>From</th>\n",
       "      <th>To</th>\n",
       "      <th>Date</th>\n",
       "      <th>content</th>\n",
       "      <th>clean_content</th>\n",
       "    </tr>\n",
       "    <tr>\n",
       "      <th>Message-ID</th>\n",
       "      <th></th>\n",
       "      <th></th>\n",
       "      <th></th>\n",
       "      <th></th>\n",
       "      <th></th>\n",
       "    </tr>\n",
       "  </thead>\n",
       "  <tbody>\n",
       "    <tr>\n",
       "      <th>&lt;18782981.1075855378110.JavaMail.evans@thyme&gt;</th>\n",
       "      <td>(phillip.allen@enron.com)</td>\n",
       "      <td>(tim.belden@enron.com)</td>\n",
       "      <td>2001-05-14 16:39:00-07:00</td>\n",
       "      <td>Here is our forecast\\n\\n</td>\n",
       "      <td>forecast</td>\n",
       "    </tr>\n",
       "    <tr>\n",
       "      <th>&lt;15464986.1075855378456.JavaMail.evans@thyme&gt;</th>\n",
       "      <td>(phillip.allen@enron.com)</td>\n",
       "      <td>(john.lavorato@enron.com)</td>\n",
       "      <td>2001-05-04 13:51:00-07:00</td>\n",
       "      <td>Traveling to have a business meeting takes the...</td>\n",
       "      <td>travel business meet take fun trip especially ...</td>\n",
       "    </tr>\n",
       "    <tr>\n",
       "      <th>&lt;24216240.1075855687451.JavaMail.evans@thyme&gt;</th>\n",
       "      <td>(phillip.allen@enron.com)</td>\n",
       "      <td>(leah.arsdall@enron.com)</td>\n",
       "      <td>2000-10-18 03:00:00-07:00</td>\n",
       "      <td>test successful.  way to go!!!</td>\n",
       "      <td>test successful way</td>\n",
       "    </tr>\n",
       "    <tr>\n",
       "      <th>&lt;13505866.1075863688222.JavaMail.evans@thyme&gt;</th>\n",
       "      <td>(phillip.allen@enron.com)</td>\n",
       "      <td>(randall.gay@enron.com)</td>\n",
       "      <td>2000-10-23 06:13:00-07:00</td>\n",
       "      <td>Randy,\\n\\n Can you send me a schedule of the s...</td>\n",
       "      <td>randy send schedule salary level everyone sche...</td>\n",
       "    </tr>\n",
       "    <tr>\n",
       "      <th>&lt;30922949.1075863688243.JavaMail.evans@thyme&gt;</th>\n",
       "      <td>(phillip.allen@enron.com)</td>\n",
       "      <td>(greg.piper@enron.com)</td>\n",
       "      <td>2000-08-31 05:07:00-07:00</td>\n",
       "      <td>Let's shoot for Tuesday at 11:45.</td>\n",
       "      <td>let shoot tuesday</td>\n",
       "    </tr>\n",
       "  </tbody>\n",
       "</table>\n",
       "</div>"
      ],
      "text/plain": [
       "                                                                    From  \\\n",
       "Message-ID                                                                 \n",
       "<18782981.1075855378110.JavaMail.evans@thyme>  (phillip.allen@enron.com)   \n",
       "<15464986.1075855378456.JavaMail.evans@thyme>  (phillip.allen@enron.com)   \n",
       "<24216240.1075855687451.JavaMail.evans@thyme>  (phillip.allen@enron.com)   \n",
       "<13505866.1075863688222.JavaMail.evans@thyme>  (phillip.allen@enron.com)   \n",
       "<30922949.1075863688243.JavaMail.evans@thyme>  (phillip.allen@enron.com)   \n",
       "\n",
       "                                                                      To  \\\n",
       "Message-ID                                                                 \n",
       "<18782981.1075855378110.JavaMail.evans@thyme>     (tim.belden@enron.com)   \n",
       "<15464986.1075855378456.JavaMail.evans@thyme>  (john.lavorato@enron.com)   \n",
       "<24216240.1075855687451.JavaMail.evans@thyme>   (leah.arsdall@enron.com)   \n",
       "<13505866.1075863688222.JavaMail.evans@thyme>    (randall.gay@enron.com)   \n",
       "<30922949.1075863688243.JavaMail.evans@thyme>     (greg.piper@enron.com)   \n",
       "\n",
       "                                                                    Date  \\\n",
       "Message-ID                                                                 \n",
       "<18782981.1075855378110.JavaMail.evans@thyme>  2001-05-14 16:39:00-07:00   \n",
       "<15464986.1075855378456.JavaMail.evans@thyme>  2001-05-04 13:51:00-07:00   \n",
       "<24216240.1075855687451.JavaMail.evans@thyme>  2000-10-18 03:00:00-07:00   \n",
       "<13505866.1075863688222.JavaMail.evans@thyme>  2000-10-23 06:13:00-07:00   \n",
       "<30922949.1075863688243.JavaMail.evans@thyme>  2000-08-31 05:07:00-07:00   \n",
       "\n",
       "                                                                                         content  \\\n",
       "Message-ID                                                                                         \n",
       "<18782981.1075855378110.JavaMail.evans@thyme>                          Here is our forecast\\n\\n    \n",
       "<15464986.1075855378456.JavaMail.evans@thyme>  Traveling to have a business meeting takes the...   \n",
       "<24216240.1075855687451.JavaMail.evans@thyme>                     test successful.  way to go!!!   \n",
       "<13505866.1075863688222.JavaMail.evans@thyme>  Randy,\\n\\n Can you send me a schedule of the s...   \n",
       "<30922949.1075863688243.JavaMail.evans@thyme>                Let's shoot for Tuesday at 11:45.     \n",
       "\n",
       "                                                                                   clean_content  \n",
       "Message-ID                                                                                        \n",
       "<18782981.1075855378110.JavaMail.evans@thyme>                                           forecast  \n",
       "<15464986.1075855378456.JavaMail.evans@thyme>  travel business meet take fun trip especially ...  \n",
       "<24216240.1075855687451.JavaMail.evans@thyme>                                test successful way  \n",
       "<13505866.1075863688222.JavaMail.evans@thyme>  randy send schedule salary level everyone sche...  \n",
       "<30922949.1075863688243.JavaMail.evans@thyme>                                  let shoot tuesday  "
      ]
     },
     "execution_count": 23,
     "metadata": {},
     "output_type": "execute_result"
    }
   ],
   "source": [
    "#Data cleaning, removing stop words\n",
    "\n",
    "analysis_df=emails_df[['From', 'To', 'Date','content']].dropna().copy()\n",
    "analysis_df = analysis_df.loc[analysis_df['To'].map(len) == 1]\n",
    "analysis_df[\"clean_content\"]=analysis_df.content.apply(clean)\n",
    "#analysis_df[\"clean_content\"].to_csv('clean_c.csv', index = False, header = True)\n",
    "analysis_df.head()"
   ]
  },
  {
   "cell_type": "markdown",
   "metadata": {},
   "source": [
    "## Comparing Data Before And After Preprocessing:"
   ]
  },
  {
   "cell_type": "markdown",
   "metadata": {},
   "source": [
    "### Original Data:"
   ]
  },
  {
   "cell_type": "code",
   "execution_count": 24,
   "metadata": {},
   "outputs": [
    {
     "name": "stdout",
     "output_type": "stream",
     "text": [
      "---------------------- Forwarded by Phillip K Allen/HOU/ECT on 10/16/2000 \n",
      "01:42 PM ---------------------------\n",
      "\n",
      "\n",
      "\"Buckner, Buck\" <buck.buckner@honeywell.com> on 10/12/2000 01:12:21 PM\n",
      "To: \"'Pallen@Enron.com'\" <Pallen@Enron.com>\n",
      "cc:  \n",
      "Subject: FW: fixed forward or other Collar floor gas price terms\n",
      "\n",
      "\n",
      "Phillip,\n",
      "\n",
      "> As discussed  during our phone conversation, In a Parallon 75 microturbine\n",
      "> power generation deal for a national accounts customer, I am developing a\n",
      "> proposal to sell power to customer at fixed or collar/floor price. To do\n",
      "> so I need a corresponding term gas price for same. Microturbine is an\n",
      "> onsite generation product developed by Honeywell to generate electricity\n",
      "> on customer site (degen). using natural gas. In doing so,  I need your\n",
      "> best fixed price forward gas price deal for 1, 3, 5, 7 and 10 years for\n",
      "> annual/seasonal supply to microturbines to generate fixed kWh for\n",
      "> customer. We have the opportunity to sell customer kWh 's using\n",
      "> microturbine or sell them turbines themselves. kWh deal must have limited/\n",
      "> no risk forward gas price to make deal work. Therein comes Sempra energy\n",
      "> gas trading, truly you.\n",
      ">\n",
      "> We are proposing installing 180 - 240 units across a large number of\n",
      "> stores (60-100) in San Diego.\n",
      "> Store number varies because of installation hurdles face at small percent.\n",
      ">\n",
      "> For 6-8 hours a day  Microturbine run time:\n",
      "> Gas requirement for 180 microturbines 227 - 302 MMcf per year\n",
      "> Gas requirement for 240 microturbines 302 - 403 MMcf per year\n",
      ">\n",
      "> Gas will likely be consumed from May through September, during peak\n",
      "> electric period.\n",
      "> Gas price required: Burnertip price behind (LDC) San Diego Gas & Electric\n",
      "> Need detail breakout of commodity and transport cost (firm or\n",
      "> interruptible).\n",
      ">\n",
      "> Should you have additional questions, give me a call.\n",
      "> Let me assure you, this is real deal!!\n",
      ">\n",
      "> Buck Buckner, P.E., MBA\n",
      "> Manager, Business Development and Planning\n",
      "> Big Box Retail Sales\n",
      "> Honeywell Power Systems, Inc.\n",
      "> 8725 Pan American Frwy\n",
      "> Albuquerque, NM 87113\n",
      "> 505-798-6424\n",
      "> 505-798-6050x\n",
      "> 505-220-4129\n",
      "> 888/501-3145\n",
      "> \n",
      "\n"
     ]
    }
   ],
   "source": [
    "content_simple = emails_df.content[9]\n",
    "print(content_simple)"
   ]
  },
  {
   "cell_type": "markdown",
   "metadata": {},
   "source": [
    "### Data After Preprocessing:"
   ]
  },
  {
   "cell_type": "code",
   "execution_count": 25,
   "metadata": {},
   "outputs": [
    {
     "name": "stdout",
     "output_type": "stream",
     "text": [
      "buckner buck buck buckner honeywell phillip discuss phone conversation parallon microturbine power generation deal national account customer develop proposal sell power customer fix collar floor price need correspond term gas price microturbine onsite generation product develop honeywell generate electricity customer site degen use natural gas need best fix price forward gas price deal years annual seasonal supply microturbines generate fix kwh customer opportunity sell customer kwh use microturbine sell turbines kwh deal must limit risk forward gas price make deal work therein come sempra energy gas trade truly propose instal units across large number store san diego store number vary installation hurdle face small percent hours day microturbine run time gas requirement microturbines mmcf per year gas requirement microturbines mmcf per year gas likely consume may september peak electric period gas price require burnertip price behind ldc san diego gas electric need detail breakout commodity transport cost firm interruptible additional question give call let assure real deal buck buckner mba manager business development plan big box retail sales honeywell power systems inc pan american frwy albuquerque\n"
     ]
    }
   ],
   "source": [
    "print(clean(emails_df.content[9]))"
   ]
  },
  {
   "cell_type": "code",
   "execution_count": 26,
   "metadata": {},
   "outputs": [],
   "source": [
    "wordvector = TfidfVectorizer(analyzer='word', stop_words='english', max_df=0.4, min_df=5)\n",
    "short_analysis=analysis_df.sample(5000)\n",
    "wordvector_fit = wordvector.fit_transform(short_analysis.clean_content)\n",
    "feature = wordvector.get_feature_names()"
   ]
  },
  {
   "cell_type": "markdown",
   "metadata": {},
   "source": [
    "## Elbow Method:"
   ]
  },
  {
   "cell_type": "code",
   "execution_count": 27,
   "metadata": {},
   "outputs": [
    {
     "data": {
      "image/png": "[encoded data removed]",
      "text/plain": [
       "<Figure size 432x288 with 1 Axes>"
      ]
     },
     "metadata": {
      "needs_background": "light"
     },
     "output_type": "display_data"
    }
   ],
   "source": [
    "# make elbow plot, find k\n",
    "distortions = []\n",
    "k_list = range(1, 5)\n",
    "for N in k_list:\n",
    "    clf = KMeans(n_clusters=N, \n",
    "            max_iter=50, \n",
    "            init='k-means++', \n",
    "            n_init=10)\n",
    "    labels = clf.fit_predict(wordvector_fit)\n",
    "    wordvector_fit_2d = wordvector_fit.todense()\n",
    "    distortions.append(sum(np.min(cdist(wordvector_fit_2d, clf.cluster_centers_, 'euclidean'), axis=1)) / wordvector_fit_2d.shape[0])\n",
    "\n",
    "# Plot the elbow\n",
    "plt.plot(k_list, distortions, 'bx-')\n",
    "plt.xlabel('k')\n",
    "plt.ylabel('Distortion')\n",
    "plt.title('The Elbow Method showing the optimal k')\n",
    "plt.show()\n"
   ]
  },
  {
   "cell_type": "markdown",
   "metadata": {},
   "source": [
    "## K-Means Clustering Algorithm:"
   ]
  },
  {
   "cell_type": "code",
   "execution_count": 28,
   "metadata": {},
   "outputs": [
    {
     "data": {
      "image/png": "[encoded data removed]",
      "text/plain": [
       "<Figure size 432x288 with 1 Axes>"
      ]
     },
     "metadata": {
      "needs_background": "light"
     },
     "output_type": "display_data"
    }
   ],
   "source": [
    "\n",
    "N = 4\n",
    "clf = KMeans(n_clusters=N, \n",
    "            max_iter=50, \n",
    "            init='k-means++', \n",
    "            n_init=10)\n",
    "labels = clf.fit_predict(wordvector_fit)\n",
    "\n",
    "wordvector_fit_2d = wordvector_fit.todense()\n",
    "pca = PCA(n_components=2).fit(wordvector_fit_2d)\n",
    "datapoint = pca.transform(wordvector_fit_2d)\n",
    "\n",
    "label = [\"#e05f14\", \"#e0dc14\", \"#2fe014\", \"#14d2e0\"]\n",
    "color = [label[i] for i in labels]\n",
    "plt.scatter(datapoint[:, 0], datapoint[:, 1], c=color)\n",
    "\n",
    "centroids = clf.cluster_centers_\n",
    "centroidpoint = pca.transform(centroids)\n",
    "plt.scatter(centroidpoint[:, 0], centroidpoint[:, 1], marker='^', s=150, c='#000000')\n",
    "plt.show()"
   ]
  },
  {
   "cell_type": "markdown",
   "metadata": {},
   "source": [
    "## Latent Dirichlet Allocation:"
   ]
  },
  {
   "cell_type": "markdown",
   "metadata": {},
   "source": [
    "#### LDA is useful here for us to find latent manifolds in text data. \n",
    "#### Here, we try to categorize all the data in to 10 topics, by choosing specific words and classifying them by comparing the difference between the weighs of those specific words. From the scores showing below, there are ten topics. "
   ]
  },
  {
   "cell_type": "code",
   "execution_count": 29,
   "metadata": {},
   "outputs": [
    {
     "name": "stdout",
     "output_type": "stream",
     "text": [
      "Topic: 0\n",
      "(0, '0.016*\"get\" + 0.012*\"game\" + 0.012*\"bass\" + 0.011*\"know\" + 0.009*\"eric\" + 0.008*\"go\" + 0.008*\"like\" + 0.008*\"let\" + 0.007*\"think\" + 0.007*\"make\"')\n",
      "\n",
      "Topic: 1\n",
      "(1, '0.013*\"gas\" + 0.011*\"energy\" + 0.011*\"market\" + 0.011*\"trade\" + 0.007*\"deal\" + 0.007*\"power\" + 0.006*\"cost\" + 0.006*\"would\" + 0.005*\"contract\" + 0.005*\"research\"')\n",
      "\n",
      "Topic: 2\n",
      "(2, '0.046*\"image\" + 0.010*\"new\" + 0.008*\"risk\" + 0.008*\"enron\" + 0.007*\"management\" + 0.006*\"news\" + 0.006*\"free\" + 0.006*\"sally\" + 0.006*\"operations\" + 0.006*\"report\"')\n",
      "\n",
      "Topic: 3\n",
      "(3, '0.037*\"enron\" + 0.011*\"thank\" + 0.011*\"meet\" + 0.010*\"please\" + 0.009*\"request\" + 0.009*\"sally\" + 0.007*\"work\" + 0.007*\"would\" + 0.006*\"report\" + 0.006*\"business\"')\n",
      "\n",
      "Topic: 4\n",
      "(4, '0.056*\"font\" + 0.030*\"class\" + 0.023*\"fantasy\" + 0.020*\"football\" + 0.019*\"sportsline\" + 0.018*\"league\" + 0.018*\"players\" + 0.016*\"size\" + 0.016*\"owner\" + 0.014*\"random\"')\n",
      "\n",
      "Topic: 5\n",
      "(5, '0.106*\"font\" + 0.046*\"size\" + 0.045*\"align\" + 0.027*\"right\" + 0.023*\"width\" + 0.021*\"net\" + 0.021*\"nbsp\" + 0.018*\"gif\" + 0.016*\"leave\" + 0.015*\"image\"')\n",
      "\n",
      "Topic: 6\n",
      "(6, '0.021*\"mail\" + 0.017*\"please\" + 0.011*\"send\" + 0.010*\"thank\" + 0.007*\"enron\" + 0.007*\"message\" + 0.007*\"email\" + 0.007*\"information\" + 0.007*\"use\" + 0.007*\"order\"')\n",
      "\n",
      "Topic: 7\n",
      "(7, '0.026*\"houston\" + 0.017*\"ena\" + 0.017*\"ews\" + 0.014*\"message\" + 0.013*\"enw\" + 0.011*\"london\" + 0.009*\"eel\" + 0.008*\"trade\" + 0.008*\"deal\" + 0.007*\"please\"')\n",
      "\n",
      "Topic: 8\n",
      "(8, '0.009*\"get\" + 0.008*\"think\" + 0.008*\"time\" + 0.007*\"would\" + 0.007*\"market\" + 0.006*\"price\" + 0.005*\"trade\" + 0.005*\"make\" + 0.005*\"want\" + 0.005*\"one\"')\n",
      "\n",
      "Topic: 9\n",
      "(9, '0.217*\"ect\" + 0.100*\"hou\" + 0.093*\"enron\" + 0.020*\"corp\" + 0.012*\"ees\" + 0.008*\"communications\" + 0.007*\"enronxgate\" + 0.006*\"john\" + 0.005*\"development\" + 0.005*\"david\"')\n",
      "\n"
     ]
    }
   ],
   "source": [
    "#New LDA\n",
    "text_clean=[]\n",
    "for text in short_analysis['clean_content']:\n",
    "    text_clean.append(text.split())\n",
    "dictionary = corpora.Dictionary(text_clean)\n",
    "text_term_matrix = [dictionary.doc2bow(text) for text in text_clean]\n",
    "Lda = gensim.models.ldamodel.LdaModel\n",
    "ldamodel = Lda(text_term_matrix, num_topics=10, id2word = dictionary, passes=30)\n",
    "topics = ldamodel.print_topics(num_topics=10, num_words=10)\n",
    "for i, j in enumerate(topics):\n",
    "    print(\"Topic: {}\\n{}\\n\".format(i, j))"
   ]
  },
  {
   "cell_type": "markdown",
   "metadata": {},
   "source": [
    "#### Obtaining these latent manifold is definitely a tool for us to improve our data mining becasue we can know how we will categorize the data, cleaning the data, and further more make predictions. By picking right topics here, our data can even be reduced so we can have better time complexity running the model."
   ]
  },
  {
   "cell_type": "markdown",
   "metadata": {},
   "source": [
    "## Gaussian Mixed Model (GMM):"
   ]
  },
  {
   "cell_type": "code",
   "execution_count": 30,
   "metadata": {},
   "outputs": [
    {
     "data": {
      "image/png": "[encoded data removed]",
      "text/plain": [
       "<Figure size 432x288 with 1 Axes>"
      ]
     },
     "metadata": {
      "needs_background": "light"
     },
     "output_type": "display_data"
    }
   ],
   "source": [
    "\n",
    "from sklearn.mixture import GaussianMixture\n",
    "gmm = GaussianMixture(n_components=4).fit(datapoint)\n",
    "labels = gmm.predict(datapoint)\n",
    "plt.scatter(datapoint[:, 0], datapoint[:, 1], c=labels, s=40, cmap='viridis');"
   ]
  },
  {
   "cell_type": "markdown",
   "metadata": {},
   "source": [
    "## Sentiment Analysis"
   ]
  },
  {
   "cell_type": "code",
   "execution_count": 31,
   "metadata": {},
   "outputs": [],
   "source": [
    "from textblob import TextBlob\n",
    "from textblob.sentiments import PatternAnalyzer\n",
    "from textblob.sentiments import NaiveBayesAnalyzer"
   ]
  },
  {
   "cell_type": "code",
   "execution_count": 32,
   "metadata": {},
   "outputs": [],
   "source": [
    "def calculate_subjectivity (text):\n",
    "# uses TextBlob to calculate subjectivity \n",
    "    testimonial = TextBlob(text)\n",
    "    return testimonial.sentiment.subjectivity \n",
    "\n",
    "def calculate_polarity(text):\n",
    "# uses TextBlob to calculate polarity \"\"\"\n",
    "    testimonial = TextBlob(text)\n",
    "    return testimonial.sentiment.polarity\n",
    "\n",
    "def calculate_sentiment_nb(text, attribute):\n",
    "# uses this TextBlob to calculate possibility of positive and negative \n",
    "    blob = TextBlob(text, analyzer=NaiveBayesAnalyzer())\n",
    "    return blob.sentiment[attribute]"
   ]
  },
  {
   "cell_type": "code",
   "execution_count": 33,
   "metadata": {},
   "outputs": [
    {
     "name": "stdout",
     "output_type": "stream",
     "text": [
      "(21436, 2)\n"
     ]
    },
    {
     "data": {
      "text/html": [
       "<div>\n",
       "<style scoped>\n",
       "    .dataframe tbody tr th:only-of-type {\n",
       "        vertical-align: middle;\n",
       "    }\n",
       "\n",
       "    .dataframe tbody tr th {\n",
       "        vertical-align: top;\n",
       "    }\n",
       "\n",
       "    .dataframe thead th {\n",
       "        text-align: right;\n",
       "    }\n",
       "</style>\n",
       "<table border=\"1\" class=\"dataframe\">\n",
       "  <thead>\n",
       "    <tr style=\"text-align: right;\">\n",
       "      <th></th>\n",
       "      <th>Date</th>\n",
       "      <th>clean_content</th>\n",
       "    </tr>\n",
       "    <tr>\n",
       "      <th>Message-ID</th>\n",
       "      <th></th>\n",
       "      <th></th>\n",
       "    </tr>\n",
       "  </thead>\n",
       "  <tbody>\n",
       "    <tr>\n",
       "      <th>&lt;18782981.1075855378110.JavaMail.evans@thyme&gt;</th>\n",
       "      <td>2001-05-14 16:39:00-07:00</td>\n",
       "      <td>forecast</td>\n",
       "    </tr>\n",
       "    <tr>\n",
       "      <th>&lt;15464986.1075855378456.JavaMail.evans@thyme&gt;</th>\n",
       "      <td>2001-05-04 13:51:00-07:00</td>\n",
       "      <td>travel business meet take fun trip especially ...</td>\n",
       "    </tr>\n",
       "    <tr>\n",
       "      <th>&lt;24216240.1075855687451.JavaMail.evans@thyme&gt;</th>\n",
       "      <td>2000-10-18 03:00:00-07:00</td>\n",
       "      <td>test successful way</td>\n",
       "    </tr>\n",
       "    <tr>\n",
       "      <th>&lt;13505866.1075863688222.JavaMail.evans@thyme&gt;</th>\n",
       "      <td>2000-10-23 06:13:00-07:00</td>\n",
       "      <td>randy send schedule salary level everyone sche...</td>\n",
       "    </tr>\n",
       "    <tr>\n",
       "      <th>&lt;30922949.1075863688243.JavaMail.evans@thyme&gt;</th>\n",
       "      <td>2000-08-31 05:07:00-07:00</td>\n",
       "      <td>let shoot tuesday</td>\n",
       "    </tr>\n",
       "  </tbody>\n",
       "</table>\n",
       "</div>"
      ],
      "text/plain": [
       "                                                                    Date  \\\n",
       "Message-ID                                                                 \n",
       "<18782981.1075855378110.JavaMail.evans@thyme>  2001-05-14 16:39:00-07:00   \n",
       "<15464986.1075855378456.JavaMail.evans@thyme>  2001-05-04 13:51:00-07:00   \n",
       "<24216240.1075855687451.JavaMail.evans@thyme>  2000-10-18 03:00:00-07:00   \n",
       "<13505866.1075863688222.JavaMail.evans@thyme>  2000-10-23 06:13:00-07:00   \n",
       "<30922949.1075863688243.JavaMail.evans@thyme>  2000-08-31 05:07:00-07:00   \n",
       "\n",
       "                                                                                   clean_content  \n",
       "Message-ID                                                                                        \n",
       "<18782981.1075855378110.JavaMail.evans@thyme>                                           forecast  \n",
       "<15464986.1075855378456.JavaMail.evans@thyme>  travel business meet take fun trip especially ...  \n",
       "<24216240.1075855687451.JavaMail.evans@thyme>                                test successful way  \n",
       "<13505866.1075863688222.JavaMail.evans@thyme>  randy send schedule salary level everyone sche...  \n",
       "<30922949.1075863688243.JavaMail.evans@thyme>                                  let shoot tuesday  "
      ]
     },
     "execution_count": 33,
     "metadata": {},
     "output_type": "execute_result"
    }
   ],
   "source": [
    "sentiment_df = analysis_df[['Date','clean_content']].dropna().copy()\n",
    "print(sentiment_df.shape)\n",
    "sentiment_df.head()"
   ]
  },
  {
   "cell_type": "code",
   "execution_count": 34,
   "metadata": {},
   "outputs": [],
   "source": [
    "sentiment_df['subjectivity'] = sentiment_df.clean_content.apply(lambda x: calculate_subjectivity(x))\n",
    "sentiment_df['polarity'] = sentiment_df.clean_content.apply(lambda x: calculate_polarity(x))\n",
    "#takes too long time to compute, may for feed into further maching learning model\n",
    "#sentiment_df['sentiment'] = sentiment_df.clean_content.apply(lambda x: calculate_sentiment_nb(x, attribute=0))\n",
    "#sentiment_df['p_pos'] = sentiment_df.clean_content.apply(lambda x: calculate_sentiment_nb(x, attribute=1))\n",
    "#sentiment_df['p_neg'] = sentiment_df.clean_content.apply(lambda x: calculate_sentiment_nb(x, attribute=2))"
   ]
  },
  {
   "cell_type": "code",
   "execution_count": 35,
   "metadata": {},
   "outputs": [
    {
     "name": "stdout",
     "output_type": "stream",
     "text": [
      "(21436, 4)\n"
     ]
    },
    {
     "data": {
      "text/html": [
       "<div>\n",
       "<style scoped>\n",
       "    .dataframe tbody tr th:only-of-type {\n",
       "        vertical-align: middle;\n",
       "    }\n",
       "\n",
       "    .dataframe tbody tr th {\n",
       "        vertical-align: top;\n",
       "    }\n",
       "\n",
       "    .dataframe thead th {\n",
       "        text-align: right;\n",
       "    }\n",
       "</style>\n",
       "<table border=\"1\" class=\"dataframe\">\n",
       "  <thead>\n",
       "    <tr style=\"text-align: right;\">\n",
       "      <th></th>\n",
       "      <th>Date</th>\n",
       "      <th>clean_content</th>\n",
       "      <th>subjectivity</th>\n",
       "      <th>polarity</th>\n",
       "    </tr>\n",
       "    <tr>\n",
       "      <th>Message-ID</th>\n",
       "      <th></th>\n",
       "      <th></th>\n",
       "      <th></th>\n",
       "      <th></th>\n",
       "    </tr>\n",
       "  </thead>\n",
       "  <tbody>\n",
       "    <tr>\n",
       "      <th>&lt;18782981.1075855378110.JavaMail.evans@thyme&gt;</th>\n",
       "      <td>2001-05-14 16:39:00-07:00</td>\n",
       "      <td>forecast</td>\n",
       "      <td>0.000000</td>\n",
       "      <td>0.000000</td>\n",
       "    </tr>\n",
       "    <tr>\n",
       "      <th>&lt;15464986.1075855378456.JavaMail.evans@thyme&gt;</th>\n",
       "      <td>2001-05-04 13:51:00-07:00</td>\n",
       "      <td>travel business meet take fun trip especially ...</td>\n",
       "      <td>0.639394</td>\n",
       "      <td>0.209091</td>\n",
       "    </tr>\n",
       "    <tr>\n",
       "      <th>&lt;24216240.1075855687451.JavaMail.evans@thyme&gt;</th>\n",
       "      <td>2000-10-18 03:00:00-07:00</td>\n",
       "      <td>test successful way</td>\n",
       "      <td>0.950000</td>\n",
       "      <td>0.750000</td>\n",
       "    </tr>\n",
       "    <tr>\n",
       "      <th>&lt;13505866.1075863688222.JavaMail.evans@thyme&gt;</th>\n",
       "      <td>2000-10-23 06:13:00-07:00</td>\n",
       "      <td>randy send schedule salary level everyone sche...</td>\n",
       "      <td>0.000000</td>\n",
       "      <td>0.000000</td>\n",
       "    </tr>\n",
       "    <tr>\n",
       "      <th>&lt;30922949.1075863688243.JavaMail.evans@thyme&gt;</th>\n",
       "      <td>2000-08-31 05:07:00-07:00</td>\n",
       "      <td>let shoot tuesday</td>\n",
       "      <td>0.000000</td>\n",
       "      <td>0.000000</td>\n",
       "    </tr>\n",
       "  </tbody>\n",
       "</table>\n",
       "</div>"
      ],
      "text/plain": [
       "                                                                    Date  \\\n",
       "Message-ID                                                                 \n",
       "<18782981.1075855378110.JavaMail.evans@thyme>  2001-05-14 16:39:00-07:00   \n",
       "<15464986.1075855378456.JavaMail.evans@thyme>  2001-05-04 13:51:00-07:00   \n",
       "<24216240.1075855687451.JavaMail.evans@thyme>  2000-10-18 03:00:00-07:00   \n",
       "<13505866.1075863688222.JavaMail.evans@thyme>  2000-10-23 06:13:00-07:00   \n",
       "<30922949.1075863688243.JavaMail.evans@thyme>  2000-08-31 05:07:00-07:00   \n",
       "\n",
       "                                                                                   clean_content  \\\n",
       "Message-ID                                                                                         \n",
       "<18782981.1075855378110.JavaMail.evans@thyme>                                           forecast   \n",
       "<15464986.1075855378456.JavaMail.evans@thyme>  travel business meet take fun trip especially ...   \n",
       "<24216240.1075855687451.JavaMail.evans@thyme>                                test successful way   \n",
       "<13505866.1075863688222.JavaMail.evans@thyme>  randy send schedule salary level everyone sche...   \n",
       "<30922949.1075863688243.JavaMail.evans@thyme>                                  let shoot tuesday   \n",
       "\n",
       "                                               subjectivity  polarity  \n",
       "Message-ID                                                             \n",
       "<18782981.1075855378110.JavaMail.evans@thyme>      0.000000  0.000000  \n",
       "<15464986.1075855378456.JavaMail.evans@thyme>      0.639394  0.209091  \n",
       "<24216240.1075855687451.JavaMail.evans@thyme>      0.950000  0.750000  \n",
       "<13505866.1075863688222.JavaMail.evans@thyme>      0.000000  0.000000  \n",
       "<30922949.1075863688243.JavaMail.evans@thyme>      0.000000  0.000000  "
      ]
     },
     "execution_count": 35,
     "metadata": {},
     "output_type": "execute_result"
    }
   ],
   "source": [
    "print(sentiment_df.shape)\n",
    "sentiment_df.head()"
   ]
  },
  {
   "cell_type": "code",
   "execution_count": 36,
   "metadata": {},
   "outputs": [],
   "source": [
    "# keep only subjective content\n",
    "def subject_screen (obj):\n",
    "    if obj == 0 or obj < 0:\n",
    "        return 0\n",
    "# screening time line\n",
    "def year_dec (time):\n",
    "    if time.year < 1998 or time.year > 2002:\n",
    "        return 0"
   ]
  },
  {
   "cell_type": "code",
   "execution_count": 37,
   "metadata": {},
   "outputs": [
    {
     "name": "stdout",
     "output_type": "stream",
     "text": [
      "(17171, 4)\n"
     ]
    },
    {
     "data": {
      "text/html": [
       "<div>\n",
       "<style scoped>\n",
       "    .dataframe tbody tr th:only-of-type {\n",
       "        vertical-align: middle;\n",
       "    }\n",
       "\n",
       "    .dataframe tbody tr th {\n",
       "        vertical-align: top;\n",
       "    }\n",
       "\n",
       "    .dataframe thead th {\n",
       "        text-align: right;\n",
       "    }\n",
       "</style>\n",
       "<table border=\"1\" class=\"dataframe\">\n",
       "  <thead>\n",
       "    <tr style=\"text-align: right;\">\n",
       "      <th></th>\n",
       "      <th>Date</th>\n",
       "      <th>clean_content</th>\n",
       "      <th>subjectivity</th>\n",
       "      <th>polarity</th>\n",
       "    </tr>\n",
       "    <tr>\n",
       "      <th>Message-ID</th>\n",
       "      <th></th>\n",
       "      <th></th>\n",
       "      <th></th>\n",
       "      <th></th>\n",
       "    </tr>\n",
       "  </thead>\n",
       "  <tbody>\n",
       "    <tr>\n",
       "      <th>&lt;15464986.1075855378456.JavaMail.evans@thyme&gt;</th>\n",
       "      <td>2001-05-04 13:51:00-07:00</td>\n",
       "      <td>travel business meet take fun trip especially ...</td>\n",
       "      <td>0.639394</td>\n",
       "      <td>0.209091</td>\n",
       "    </tr>\n",
       "    <tr>\n",
       "      <th>&lt;24216240.1075855687451.JavaMail.evans@thyme&gt;</th>\n",
       "      <td>2000-10-18 03:00:00-07:00</td>\n",
       "      <td>test successful way</td>\n",
       "      <td>0.950000</td>\n",
       "      <td>0.750000</td>\n",
       "    </tr>\n",
       "    <tr>\n",
       "      <th>&lt;20641191.1075855687472.JavaMail.evans@thyme&gt;</th>\n",
       "      <td>2000-10-17 02:26:00-07:00</td>\n",
       "      <td>login pallen davis think require isp static ad...</td>\n",
       "      <td>0.900000</td>\n",
       "      <td>0.500000</td>\n",
       "    </tr>\n",
       "    <tr>\n",
       "      <th>&lt;30795301.1075855687494.JavaMail.evans@thyme&gt;</th>\n",
       "      <td>2000-10-16 06:44:00-07:00</td>\n",
       "      <td>buckner buck buck buckner honeywell phillip di...</td>\n",
       "      <td>0.402857</td>\n",
       "      <td>0.066429</td>\n",
       "    </tr>\n",
       "    <tr>\n",
       "      <th>&lt;33076797.1075855687515.JavaMail.evans@thyme&gt;</th>\n",
       "      <td>2000-10-16 06:42:00-07:00</td>\n",
       "      <td>buckner deliver gas behind san diego enron ene...</td>\n",
       "      <td>0.600000</td>\n",
       "      <td>0.050000</td>\n",
       "    </tr>\n",
       "  </tbody>\n",
       "</table>\n",
       "</div>"
      ],
      "text/plain": [
       "                                                                    Date  \\\n",
       "Message-ID                                                                 \n",
       "<15464986.1075855378456.JavaMail.evans@thyme>  2001-05-04 13:51:00-07:00   \n",
       "<24216240.1075855687451.JavaMail.evans@thyme>  2000-10-18 03:00:00-07:00   \n",
       "<20641191.1075855687472.JavaMail.evans@thyme>  2000-10-17 02:26:00-07:00   \n",
       "<30795301.1075855687494.JavaMail.evans@thyme>  2000-10-16 06:44:00-07:00   \n",
       "<33076797.1075855687515.JavaMail.evans@thyme>  2000-10-16 06:42:00-07:00   \n",
       "\n",
       "                                                                                   clean_content  \\\n",
       "Message-ID                                                                                         \n",
       "<15464986.1075855378456.JavaMail.evans@thyme>  travel business meet take fun trip especially ...   \n",
       "<24216240.1075855687451.JavaMail.evans@thyme>                                test successful way   \n",
       "<20641191.1075855687472.JavaMail.evans@thyme>  login pallen davis think require isp static ad...   \n",
       "<30795301.1075855687494.JavaMail.evans@thyme>  buckner buck buck buckner honeywell phillip di...   \n",
       "<33076797.1075855687515.JavaMail.evans@thyme>  buckner deliver gas behind san diego enron ene...   \n",
       "\n",
       "                                               subjectivity  polarity  \n",
       "Message-ID                                                             \n",
       "<15464986.1075855378456.JavaMail.evans@thyme>      0.639394  0.209091  \n",
       "<24216240.1075855687451.JavaMail.evans@thyme>      0.950000  0.750000  \n",
       "<20641191.1075855687472.JavaMail.evans@thyme>      0.900000  0.500000  \n",
       "<30795301.1075855687494.JavaMail.evans@thyme>      0.402857  0.066429  \n",
       "<33076797.1075855687515.JavaMail.evans@thyme>      0.600000  0.050000  "
      ]
     },
     "execution_count": 37,
     "metadata": {},
     "output_type": "execute_result"
    }
   ],
   "source": [
    "sentiment_df = sentiment_df[sentiment_df['subjectivity'].map(subject_screen) != 0]\n",
    "print(sentiment_df.shape)\n",
    "sentiment_df.head()"
   ]
  },
  {
   "cell_type": "code",
   "execution_count": 38,
   "metadata": {},
   "outputs": [
    {
     "name": "stdout",
     "output_type": "stream",
     "text": [
      "       subjectivity      polarity\n",
      "count  17150.000000  17150.000000\n",
      "mean       0.451749      0.119275\n",
      "std        0.171952      0.208046\n",
      "min        0.017857     -1.000000\n",
      "25%        0.348030      0.000000\n",
      "50%        0.449100      0.108333\n",
      "75%        0.538095      0.220152\n",
      "max        1.000000      1.000000\n",
      "(17150, 3)\n"
     ]
    },
    {
     "name": "stderr",
     "output_type": "stream",
     "text": [
      "d:\\Anaconda3\\lib\\site-packages\\ipykernel_launcher.py:3: SettingWithCopyWarning: \n",
      "A value is trying to be set on a copy of a slice from a DataFrame.\n",
      "Try using .loc[row_indexer,col_indexer] = value instead\n",
      "\n",
      "See the caveats in the documentation: http://pandas.pydata.org/pandas-docs/stable/indexing.html#indexing-view-versus-copy\n",
      "  This is separate from the ipykernel package so we can avoid doing imports until\n"
     ]
    },
    {
     "data": {
      "text/html": [
       "<div>\n",
       "<style scoped>\n",
       "    .dataframe tbody tr th:only-of-type {\n",
       "        vertical-align: middle;\n",
       "    }\n",
       "\n",
       "    .dataframe tbody tr th {\n",
       "        vertical-align: top;\n",
       "    }\n",
       "\n",
       "    .dataframe thead th {\n",
       "        text-align: right;\n",
       "    }\n",
       "</style>\n",
       "<table border=\"1\" class=\"dataframe\">\n",
       "  <thead>\n",
       "    <tr style=\"text-align: right;\">\n",
       "      <th></th>\n",
       "      <th>clean_content</th>\n",
       "      <th>subjectivity</th>\n",
       "      <th>polarity</th>\n",
       "    </tr>\n",
       "    <tr>\n",
       "      <th>Date</th>\n",
       "      <th></th>\n",
       "      <th></th>\n",
       "      <th></th>\n",
       "    </tr>\n",
       "  </thead>\n",
       "  <tbody>\n",
       "    <tr>\n",
       "      <th>2001-05-04 20:51:00+00:00</th>\n",
       "      <td>travel business meet take fun trip especially ...</td>\n",
       "      <td>0.639394</td>\n",
       "      <td>0.209091</td>\n",
       "    </tr>\n",
       "    <tr>\n",
       "      <th>2000-10-18 10:00:00+00:00</th>\n",
       "      <td>test successful way</td>\n",
       "      <td>0.950000</td>\n",
       "      <td>0.750000</td>\n",
       "    </tr>\n",
       "    <tr>\n",
       "      <th>2000-10-17 09:26:00+00:00</th>\n",
       "      <td>login pallen davis think require isp static ad...</td>\n",
       "      <td>0.900000</td>\n",
       "      <td>0.500000</td>\n",
       "    </tr>\n",
       "    <tr>\n",
       "      <th>2000-10-16 13:44:00+00:00</th>\n",
       "      <td>buckner buck buck buckner honeywell phillip di...</td>\n",
       "      <td>0.402857</td>\n",
       "      <td>0.066429</td>\n",
       "    </tr>\n",
       "    <tr>\n",
       "      <th>2000-10-16 13:42:00+00:00</th>\n",
       "      <td>buckner deliver gas behind san diego enron ene...</td>\n",
       "      <td>0.600000</td>\n",
       "      <td>0.050000</td>\n",
       "    </tr>\n",
       "  </tbody>\n",
       "</table>\n",
       "</div>"
      ],
      "text/plain": [
       "                                                               clean_content  \\\n",
       "Date                                                                           \n",
       "2001-05-04 20:51:00+00:00  travel business meet take fun trip especially ...   \n",
       "2000-10-18 10:00:00+00:00                                test successful way   \n",
       "2000-10-17 09:26:00+00:00  login pallen davis think require isp static ad...   \n",
       "2000-10-16 13:44:00+00:00  buckner buck buck buckner honeywell phillip di...   \n",
       "2000-10-16 13:42:00+00:00  buckner deliver gas behind san diego enron ene...   \n",
       "\n",
       "                           subjectivity  polarity  \n",
       "Date                                               \n",
       "2001-05-04 20:51:00+00:00      0.639394  0.209091  \n",
       "2000-10-18 10:00:00+00:00      0.950000  0.750000  \n",
       "2000-10-17 09:26:00+00:00      0.900000  0.500000  \n",
       "2000-10-16 13:44:00+00:00      0.402857  0.066429  \n",
       "2000-10-16 13:42:00+00:00      0.600000  0.050000  "
      ]
     },
     "execution_count": 38,
     "metadata": {},
     "output_type": "execute_result"
    }
   ],
   "source": [
    "sentiment_df1 = sentiment_df[sentiment_df['Date'].map(year_dec) != 0]\n",
    "print(sentiment_df1.describe())\n",
    "sentiment_df1['Date'] = pd.to_datetime(sentiment_df1['Date'], utc='us')\n",
    "sentiment_df1 = sentiment_df1.set_index('Date')\n",
    "print(sentiment_df1.shape)\n",
    "sentiment_df1.head()"
   ]
  },
  {
   "cell_type": "code",
   "execution_count": 40,
   "metadata": {},
   "outputs": [
    {
     "name": "stdout",
     "output_type": "stream",
     "text": [
      "(17150, 3)\n"
     ]
    },
    {
     "data": {
      "text/plain": [
       "Date\n",
       "1999-12-31    10.021130\n",
       "2000-01-31    45.914981\n",
       "2000-02-29    55.994142\n",
       "2000-03-31    44.803300\n",
       "2000-04-30    53.058236\n",
       "Name: polarity, dtype: float64"
      ]
     },
     "execution_count": 40,
     "metadata": {},
     "output_type": "execute_result"
    }
   ],
   "source": [
    "sentiment_df_plot = sentiment_df1.resample('M').polarity.sum()\n",
    "sentiment_df_plot.index = sentiment_df_plot.index.astype(str).str[:10]\n",
    "print(sentiment_df1.shape)\n",
    "sentiment_df_plot.head()"
   ]
  },
  {
   "cell_type": "code",
   "execution_count": 41,
   "metadata": {},
   "outputs": [
    {
     "data": {
      "text/plain": [
       "<matplotlib.axes._subplots.AxesSubplot at 0x1c0e951dfd0>"
      ]
     },
     "execution_count": 41,
     "metadata": {},
     "output_type": "execute_result"
    },
    {
     "data": {
      "image/png": "[encoded data removed]",
      "text/plain": [
       "<Figure size 432x288 with 1 Axes>"
      ]
     },
     "metadata": {
      "needs_background": "light"
     },
     "output_type": "display_data"
    }
   ],
   "source": [
    "sentiment_df_plot.plot()"
   ]
  },
  {
   "cell_type": "code",
   "execution_count": null,
   "metadata": {},
   "outputs": [],
   "source": []
  }
 ],
 "metadata": {
  "kernelspec": {
   "display_name": "Python 3",
   "language": "python",
   "name": "python3"
  },
  "language_info": {
   "codemirror_mode": {
    "name": "ipython",
    "version": 3
   },
   "file_extension": ".py",
   "mimetype": "text/x-python",
   "name": "python",
   "nbconvert_exporter": "python",
   "pygments_lexer": "ipython3",
   "version": "3.6.8"
  },
  "varInspector": {
   "cols": {
    "lenName": 16,
    "lenType": 16,
    "lenVar": 40
   },
   "kernels_config": {
    "python": {
     "delete_cmd_postfix": "",
     "delete_cmd_prefix": "del ",
     "library": "var_list.py",
     "varRefreshCmd": "print(var_dic_list())"
    },
    "r": {
     "delete_cmd_postfix": ") ",
     "delete_cmd_prefix": "rm(",
     "library": "var_list.r",
     "varRefreshCmd": "cat(var_dic_list()) "
    }
   },
   "types_to_exclude": [
    "module",
    "function",
    "builtin_function_or_method",
    "instance",
    "_Feature"
   ],
   "window_display": false
  }
 },
 "nbformat": 4,
 "nbformat_minor": 2
}
