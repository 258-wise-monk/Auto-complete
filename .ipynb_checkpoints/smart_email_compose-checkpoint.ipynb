{
 "cells": [
  {
   "cell_type": "markdown",
   "metadata": {},
   "source": [
    "# CMPE257 Project1: E-mail Autocomplete Project"
   ]
  },
  {
   "cell_type": "markdown",
   "metadata": {},
   "source": [
    "#### Yuhua He - Data preparation, preprocessing(tf-idf), K-means algorithm, Elbow method\n",
    "#### Yuanzhe Li - Finding business model, preprocessing(stemming), Testing\n",
    "#### Samuel Yang - Data prepraration, Documentation, preprocessing(feature extraction), Testing"
   ]
  },
  {
   "cell_type": "markdown",
   "metadata": {},
   "source": [
    "### What story is the data telling us?\n",
    "\n",
    "#### In this group assignment, the business objective we are focusing on, is the \"Smart Email Compose\" project. We are using the Enron email dataset, which has the \"file\" column and \"message\" column, after servel feature extracting process, we can extract more features like \"file name\", \"message body\", from\", \"to\", \"message id\". So, the data is basically show what we need. It provides several thousands of messages body with completely different structure. For example, some of the messages greeting messgae that comes up with the \"hello\" word frequently, and some don't. In order to recognize it, we try to apply the tf-tdf technique to find out the frequency of each words. "
   ]
  },
  {
   "cell_type": "markdown",
   "metadata": {},
   "source": [
    "### What business problem can be solved using the data?\n",
    "\n",
    "#### From what we do and trying to processing the data, \"Content Discovery\" can be solved easily. After we appliedK-means cluserting algorithm, we can divided all the data into several clusters where has similar words. More importantly, by applying machine-learning algorithm, we can further categorized emails into 4 major groups, which is am essential observation for our project. We also apply the eblow method to interprete and validate the consistency within cluster analysis designed to find appropriate amount of clusters we need in this situation."
   ]
  },
  {
   "cell_type": "code",
   "execution_count": 2,
   "metadata": {},
   "outputs": [],
   "source": [
    "#import Library\n",
    "\n",
    "import email, re\n",
    "import string\n",
    "import numpy as np\n",
    "import pandas as pd\n",
    "import matplotlib.pyplot as plt\n",
    "from sklearn.feature_extraction.text import TfidfVectorizer, CountVectorizer\n",
    "from sklearn.cluster import KMeans\n",
    "from sklearn.decomposition import PCA\n",
    "from sklearn.decomposition import  LatentDirichletAllocation\n",
    "from scipy.spatial.distance import cdist\n",
    "from nltk.corpus import stopwords\n",
    "from nltk.stem.wordnet import WordNetLemmatizer\n",
    "import gensim\n",
    "from gensim import corpora\n",
    "from gensim.utils import simple_preprocess"
   ]
  },
  {
   "cell_type": "code",
   "execution_count": 6,
   "metadata": {},
   "outputs": [
    {
     "name": "stdout",
     "output_type": "stream",
     "text": [
      "(6325, 5) (10000, 2)\n"
     ]
    }
   ],
   "source": [
    "# Read the data into a DataFrame\n",
    "emails_enrich_df = pd.read_csv('rdany_conversations_2016-03-01.csv')\n",
    "emails_df = pd.read_csv('/Users/yuanzhe/emails.csv',nrows = 10000, error_bad_lines = False)\n",
    "print(emails_enrich_df.shape, emails_df.shape)"
   ]
  },
  {
   "cell_type": "code",
   "execution_count": 3,
   "metadata": {},
   "outputs": [],
   "source": [
    "#Helper functions\n",
    "\n",
    "def get_email_text(email):\n",
    "    '''To get the content from email objects'''\n",
    "    email_contents = []\n",
    "    for email_object in email.walk():\n",
    "        if email_object.get_content_type() == 'text/plain':\n",
    "            email_contents.append(email_object.get_payload())\n",
    "    return ''.join(email_contents)\n",
    "\n",
    "def split_email_addresses(line):\n",
    "    '''To separate multiple email addresses'''\n",
    "    if line:\n",
    "        addrs = line.split(',')\n",
    "        addrs = frozenset(map(lambda x: x.strip(), addrs))\n",
    "    else:\n",
    "        addrs = None\n",
    "    return addrs"
   ]
  },
  {
   "cell_type": "markdown",
   "metadata": {},
   "source": [
    "## Preprocessing:"
   ]
  },
  {
   "cell_type": "code",
   "execution_count": 4,
   "metadata": {},
   "outputs": [],
   "source": [
    "# Parse the emails into a list email objects\n",
    "messages = list(map(email.message_from_string, emails_df['message']))\n",
    "emails_df.drop('message', axis=1, inplace=True)\n",
    "\n",
    "# Get fields from parsed email objects\n",
    "keys = messages[0].keys()\n",
    "for key in keys:\n",
    "    emails_df[key] = [doc[key] for doc in messages]\n",
    "\n",
    "# Parse content from emails\n",
    "emails_df['content'] = list(map(get_email_text, messages))\n",
    "emails_df['content'].to_csv('content.csv', index = False, header = True)\n",
    "# Split multiple email addresses\n",
    "emails_df['From'] = emails_df['From'].map(split_email_addresses)\n",
    "emails_df['To'] = emails_df['To'].map(split_email_addresses)\n",
    "\n",
    "# Set index and drop columns with two few values\n",
    "emails_df = emails_df.set_index('Message-ID')\\\n",
    "    .drop(['file', 'Mime-Version', 'Content-Type', 'Content-Transfer-Encoding'], axis=1)\n",
    "\n",
    "# Parse datetime\n",
    "emails_df['Date'] = pd.to_datetime(emails_df['Date'], infer_datetime_format=True)"
   ]
  },
  {
   "cell_type": "code",
   "execution_count": 5,
   "metadata": {},
   "outputs": [
    {
     "name": "stdout",
     "output_type": "stream",
     "text": [
      "(7670, 12)\n"
     ]
    }
   ],
   "source": [
    "#Drop rows have too less words\n",
    "emails_df = emails_df[emails_df['content'].apply(lambda x: len(x.split()) > 30)]\n",
    "print(emails_df.shape)"
   ]
  },
  {
   "cell_type": "code",
   "execution_count": 6,
   "metadata": {},
   "outputs": [],
   "source": [
    "#Helper function - Removing stop words, removel unimpotant words.\n",
    "\n",
    "def clean(text):\n",
    "    stop = set(stopwords.words('english'))\n",
    "    stop.update(('fwd','RE','FW','Hello','Meeting','Ga','Access','positions','list','forward','floor','collar','fixed',\n",
    "    'enron','hou','ect','corp','please','vince','time','mail','john','kay','day','message','week','kaminski','year',\n",
    "    'meeting','enronxgate','question','group','work','call','scott','change','company','let','mann','date','number',\n",
    "    'mark','today','david','mike','issue','houston','chris','subject','way','bass','jeff','edu','office','doc','don',\n",
    "    'month','copy','name','comment','email','need','phone','point','thing','request','look','ben','michael','list',\n",
    "    'help','delainey','fax','morning','use','tomorrow','thank','phillip','hotmail','guy','robert','night','lon',\n",
    "    'part','talk','kate','home','mailto','person','address','form','jeffrey','something','end','line','hour',\n",
    "    'place','march','love','anything','paul','giron','smith','hope','darron','jim','kevin','weekend','george',\n",
    "    'north','someone','section','richard','discus','bob','jacoby','ena','room','see','demand','desk','area',\n",
    "    'everyone','greg','detail','jason','afternoon','discussion','tom','kslaw','check','basis','visit','mcconnell',\n",
    "    'miller','entity','location','peter','monday','response','show','page','jennifer','lot','meet','respond',\n",
    "    'yesterday','pdx','house','june','larry','jan','dan','city','july','judy','friday','julie','shirley','meter',\n",
    "    'level','fyi','addition','martin','anyone','generation','department','type','rick','friend','period','word',\n",
    "    'lisa','think','class','johnson','org','robin','thompson','columbiagas','didn','april','william','lee','thomas',\n",
    "    'hey','adam','stephen','man','sender','tim','taylor','organization','center','everything','ferc','notice',\n",
    "    'start','davis','york','sorry','cell','return','street','hernandez','thursday','campbell','care','content',\n",
    "    'curve','minute','floor','stinson','janet','head','move','kind','kent','tuesday','sheila','send','suzanne',\n",
    "    'brenda','kim','matter','fgt','carolyn','cindy','ccampbell','tell','fwd','crenshaw','baumbach','linda','side',\n",
    "    'clark','mind','hain','wharton','future','errol','carlos','hand','matt','bruce','gossett','brian','try',\n",
    "    'wednesday','calendar','laura','nothing','doug','llc','rebecca','rob','stephanie','austin','victor','join',\n",
    "    'joseph','couple', 'allen', 'kean', 'arnold', 'var', 'keith', 'lucy', 'grigsby','com', 'cc', 'pm', 'http',\n",
    "    'market','size', 'image', 'td', 'align', 'font','www', 'gas' ,'send', 'original', 'pt','tr','send','br','k','f','b' ))\n",
    "    exclude = set(string.punctuation) \n",
    "    lemma = WordNetLemmatizer()\n",
    "    \n",
    "    text=text.rstrip()\n",
    "    text = re.sub(r'[^a-zA-Z]', ' ', text)\n",
    "    stop_free = \" \".join([i for i in text.lower().split() if((i not in stop) and (not i.isdigit()))])\n",
    "    punc_free = ''.join(ch for ch in stop_free if ch not in exclude)\n",
    "    normalized = \" \".join(lemma.lemmatize(word, pos='v') for word in punc_free.split())\n",
    "    \n",
    "    return normalized"
   ]
  },
  {
   "cell_type": "code",
   "execution_count": 7,
   "metadata": {},
   "outputs": [
    {
     "data": {
      "text/html": [
       "<div>\n",
       "<style scoped>\n",
       "    .dataframe tbody tr th:only-of-type {\n",
       "        vertical-align: middle;\n",
       "    }\n",
       "\n",
       "    .dataframe tbody tr th {\n",
       "        vertical-align: top;\n",
       "    }\n",
       "\n",
       "    .dataframe thead th {\n",
       "        text-align: right;\n",
       "    }\n",
       "</style>\n",
       "<table border=\"1\" class=\"dataframe\">\n",
       "  <thead>\n",
       "    <tr style=\"text-align: right;\">\n",
       "      <th></th>\n",
       "      <th>From</th>\n",
       "      <th>To</th>\n",
       "      <th>Date</th>\n",
       "      <th>content</th>\n",
       "      <th>clean_content</th>\n",
       "    </tr>\n",
       "    <tr>\n",
       "      <th>Message-ID</th>\n",
       "      <th></th>\n",
       "      <th></th>\n",
       "      <th></th>\n",
       "      <th></th>\n",
       "      <th></th>\n",
       "    </tr>\n",
       "  </thead>\n",
       "  <tbody>\n",
       "    <tr>\n",
       "      <th>&lt;15464986.1075855378456.JavaMail.evans@thyme&gt;</th>\n",
       "      <td>(phillip.allen@enron.com)</td>\n",
       "      <td>(john.lavorato@enron.com)</td>\n",
       "      <td>2001-05-04 13:51:00-07:00</td>\n",
       "      <td>Traveling to have a business meeting takes the...</td>\n",
       "      <td>travel business take fun trip especially prepa...</td>\n",
       "    </tr>\n",
       "    <tr>\n",
       "      <th>&lt;13505866.1075863688222.JavaMail.evans@thyme&gt;</th>\n",
       "      <td>(phillip.allen@enron.com)</td>\n",
       "      <td>(randall.gay@enron.com)</td>\n",
       "      <td>2000-10-23 06:13:00-07:00</td>\n",
       "      <td>Randy,\\n\\n Can you send me a schedule of the s...</td>\n",
       "      <td>randy schedule salary schedule plus thoughts c...</td>\n",
       "    </tr>\n",
       "    <tr>\n",
       "      <th>&lt;20641191.1075855687472.JavaMail.evans@thyme&gt;</th>\n",
       "      <td>(phillip.allen@enron.com)</td>\n",
       "      <td>(mark.scott@enron.com)</td>\n",
       "      <td>2000-10-17 02:26:00-07:00</td>\n",
       "      <td>1. login:  pallen pw: ke9davis\\n\\n I don't thi...</td>\n",
       "      <td>login pallen pw ke require isp static ip ip su...</td>\n",
       "    </tr>\n",
       "    <tr>\n",
       "      <th>&lt;30795301.1075855687494.JavaMail.evans@thyme&gt;</th>\n",
       "      <td>(phillip.allen@enron.com)</td>\n",
       "      <td>(zimam@enron.com)</td>\n",
       "      <td>2000-10-16 06:44:00-07:00</td>\n",
       "      <td>---------------------- Forwarded by Phillip K ...</td>\n",
       "      <td>forward buckner buck buck buckner honeywell pa...</td>\n",
       "    </tr>\n",
       "    <tr>\n",
       "      <th>&lt;33076797.1075855687515.JavaMail.evans@thyme&gt;</th>\n",
       "      <td>(phillip.allen@enron.com)</td>\n",
       "      <td>(buck.buckner@honeywell.com)</td>\n",
       "      <td>2000-10-16 06:42:00-07:00</td>\n",
       "      <td>Mr. Buckner,\\n\\n For delivered gas behind San ...</td>\n",
       "      <td>mr buckner deliver behind san diego energy ser...</td>\n",
       "    </tr>\n",
       "  </tbody>\n",
       "</table>\n",
       "</div>"
      ],
      "text/plain": [
       "                                                                    From  \\\n",
       "Message-ID                                                                 \n",
       "<15464986.1075855378456.JavaMail.evans@thyme>  (phillip.allen@enron.com)   \n",
       "<13505866.1075863688222.JavaMail.evans@thyme>  (phillip.allen@enron.com)   \n",
       "<20641191.1075855687472.JavaMail.evans@thyme>  (phillip.allen@enron.com)   \n",
       "<30795301.1075855687494.JavaMail.evans@thyme>  (phillip.allen@enron.com)   \n",
       "<33076797.1075855687515.JavaMail.evans@thyme>  (phillip.allen@enron.com)   \n",
       "\n",
       "                                                                         To  \\\n",
       "Message-ID                                                                    \n",
       "<15464986.1075855378456.JavaMail.evans@thyme>     (john.lavorato@enron.com)   \n",
       "<13505866.1075863688222.JavaMail.evans@thyme>       (randall.gay@enron.com)   \n",
       "<20641191.1075855687472.JavaMail.evans@thyme>        (mark.scott@enron.com)   \n",
       "<30795301.1075855687494.JavaMail.evans@thyme>             (zimam@enron.com)   \n",
       "<33076797.1075855687515.JavaMail.evans@thyme>  (buck.buckner@honeywell.com)   \n",
       "\n",
       "                                                                    Date  \\\n",
       "Message-ID                                                                 \n",
       "<15464986.1075855378456.JavaMail.evans@thyme>  2001-05-04 13:51:00-07:00   \n",
       "<13505866.1075863688222.JavaMail.evans@thyme>  2000-10-23 06:13:00-07:00   \n",
       "<20641191.1075855687472.JavaMail.evans@thyme>  2000-10-17 02:26:00-07:00   \n",
       "<30795301.1075855687494.JavaMail.evans@thyme>  2000-10-16 06:44:00-07:00   \n",
       "<33076797.1075855687515.JavaMail.evans@thyme>  2000-10-16 06:42:00-07:00   \n",
       "\n",
       "                                                                                         content  \\\n",
       "Message-ID                                                                                         \n",
       "<15464986.1075855378456.JavaMail.evans@thyme>  Traveling to have a business meeting takes the...   \n",
       "<13505866.1075863688222.JavaMail.evans@thyme>  Randy,\\n\\n Can you send me a schedule of the s...   \n",
       "<20641191.1075855687472.JavaMail.evans@thyme>  1. login:  pallen pw: ke9davis\\n\\n I don't thi...   \n",
       "<30795301.1075855687494.JavaMail.evans@thyme>  ---------------------- Forwarded by Phillip K ...   \n",
       "<33076797.1075855687515.JavaMail.evans@thyme>  Mr. Buckner,\\n\\n For delivered gas behind San ...   \n",
       "\n",
       "                                                                                   clean_content  \n",
       "Message-ID                                                                                        \n",
       "<15464986.1075855378456.JavaMail.evans@thyme>  travel business take fun trip especially prepa...  \n",
       "<13505866.1075863688222.JavaMail.evans@thyme>  randy schedule salary schedule plus thoughts c...  \n",
       "<20641191.1075855687472.JavaMail.evans@thyme>  login pallen pw ke require isp static ip ip su...  \n",
       "<30795301.1075855687494.JavaMail.evans@thyme>  forward buckner buck buck buckner honeywell pa...  \n",
       "<33076797.1075855687515.JavaMail.evans@thyme>  mr buckner deliver behind san diego energy ser...  "
      ]
     },
     "execution_count": 7,
     "metadata": {},
     "output_type": "execute_result"
    }
   ],
   "source": [
    "#Data cleaning, removing stop words\n",
    "\n",
    "analysis_df=emails_df[['From', 'To', 'Date','content']].dropna().copy()\n",
    "analysis_df = analysis_df.loc[analysis_df['To'].map(len) == 1]\n",
    "analysis_df[\"clean_content\"]=analysis_df.content.apply(clean)\n",
    "analysis_df[\"clean_content\"].to_csv('clean_c.csv', index = False, header = True)\n",
    "analysis_df.head()"
   ]
  },
  {
   "cell_type": "markdown",
   "metadata": {},
   "source": [
    "## Comparing Data Before And After Preprocessing:"
   ]
  },
  {
   "cell_type": "markdown",
   "metadata": {},
   "source": [
    "### Original Data:"
   ]
  },
  {
   "cell_type": "code",
   "execution_count": 8,
   "metadata": {},
   "outputs": [
    {
     "name": "stdout",
     "output_type": "stream",
     "text": [
      "Traveling to have a business meeting takes the fun out of the trip.  Especially if you have to prepare a presentation.  I would suggest holding the business plan meetings here then take a trip without any formal business meetings.  I would even try and get some honest opinions on whether a trip is even desired or necessary.\n",
      "\n",
      "As far as the business meetings, I think it would be more productive to try and stimulate discussions across the different groups about what is working and what is not.  Too often the presenter speaks and the others are quiet just waiting for their turn.   The meetings might be better if held in a round table discussion format.  \n",
      "\n",
      "My suggestion for where to go is Austin.  Play golf and rent a ski boat and jet ski's.  Flying somewhere takes too much time.\n",
      "\n"
     ]
    }
   ],
   "source": [
    "content_simple = emails_df.content[0]\n",
    "print(content_simple)"
   ]
  },
  {
   "cell_type": "markdown",
   "metadata": {},
   "source": [
    "### Data After Preprocessing:"
   ]
  },
  {
   "cell_type": "code",
   "execution_count": 9,
   "metadata": {},
   "outputs": [
    {
     "name": "stdout",
     "output_type": "stream",
     "text": [
      "travel business take fun trip especially prepare presentation would suggest hold business plan meet take trip without formal business meet would even get honest opinions whether trip even desire necessary far business meet would productive stimulate discussions across different group work often presenter speak others quiet wait turn meet might better hold round table format suggestion go play golf rent ski boat jet ski fly somewhere take much\n"
     ]
    }
   ],
   "source": [
    "print(clean(emails_df.content[0]))"
   ]
  },
  {
   "cell_type": "code",
   "execution_count": 10,
   "metadata": {},
   "outputs": [],
   "source": [
    "wordvector = TfidfVectorizer(analyzer='word', stop_words='english', max_df=0.4, min_df=5)\n",
    "short_analysis=analysis_df.sample(5000)\n",
    "wordvector_fit = wordvector.fit_transform(short_analysis.clean_content)\n",
    "feature = wordvector.get_feature_names()"
   ]
  },
  {
   "cell_type": "markdown",
   "metadata": {},
   "source": [
    "## Elbow Method:"
   ]
  },
  {
   "cell_type": "code",
   "execution_count": 21,
   "metadata": {},
   "outputs": [
    {
     "data": {
      "image/png": "[encoded data removed]",
      "text/plain": [
       "<Figure size 432x288 with 1 Axes>"
      ]
     },
     "metadata": {
      "needs_background": "light"
     },
     "output_type": "display_data"
    }
   ],
   "source": [
    "# make elbow plot, find k\n",
    "distortions = []\n",
    "k_list = range(1, 5)\n",
    "for N in k_list:\n",
    "    clf = KMeans(n_clusters=N, \n",
    "            max_iter=50, \n",
    "            init='k-means++', \n",
    "            n_init=1)\n",
    "    labels = clf.fit_predict(wordvector_fit)\n",
    "    wordvector_fit_2d = wordvector_fit.todense()\n",
    "    distortions.append(sum(np.min(cdist(wordvector_fit_2d, clf.cluster_centers_, 'euclidean'), axis=1)) / wordvector_fit_2d.shape[0])\n",
    "\n",
    "# Plot the elbow\n",
    "plt.plot(k_list, distortions, 'bx-')\n",
    "plt.xlabel('k')\n",
    "plt.ylabel('Distortion')\n",
    "plt.title('The Elbow Method showing the optimal k')\n",
    "plt.show()\n"
   ]
  },
  {
   "cell_type": "markdown",
   "metadata": {},
   "source": [
    "## K-Means Clustering Algorithm:"
   ]
  },
  {
   "cell_type": "code",
   "execution_count": 24,
   "metadata": {},
   "outputs": [
    {
     "data": {
      "image/png": "[encoded data removed]",
      "text/plain": [
       "<Figure size 432x288 with 1 Axes>"
      ]
     },
     "metadata": {
      "needs_background": "light"
     },
     "output_type": "display_data"
    }
   ],
   "source": [
    "\n",
    "N = 4\n",
    "clf = KMeans(n_clusters=N, \n",
    "            max_iter=50, \n",
    "            init='k-means++', \n",
    "            n_init=1)\n",
    "labels = clf.fit_predict(wordvector_fit)\n",
    "\n",
    "wordvector_fit_2d = wordvector_fit.todense()\n",
    "pca = PCA(n_components=2).fit(wordvector_fit_2d)\n",
    "datapoint = pca.transform(wordvector_fit_2d)\n",
    "\n",
    "label = [\"#e05f14\", \"#e0dc14\", \"#2fe014\", \"#14d2e0\"]\n",
    "color = [label[i] for i in labels]\n",
    "plt.scatter(datapoint[:, 0], datapoint[:, 1], c=color)\n",
    "\n",
    "centroids = clf.cluster_centers_\n",
    "centroidpoint = pca.transform(centroids)\n",
    "plt.scatter(centroidpoint[:, 0], centroidpoint[:, 1], marker='^', s=150, c='#000000')\n",
    "plt.show()"
   ]
  },
  {
   "cell_type": "code",
   "execution_count": 23,
   "metadata": {},
   "outputs": [
    {
     "name": "stdout",
     "output_type": "stream",
     "text": [
      "[(0, '0.009*\"na\" + 0.006*\"buy\" + 0.005*\"communications\" + 0.004*\"new\" + 0.004*\"service\" + 0.004*\"report\" + 0.004*\"trade\" + 0.004*\"click\" + 0.004*\"susan\" + 0.004*\"e\"'), (1, '0.023*\"e\" + 0.009*\"ees\" + 0.008*\"active\" + 0.008*\"iso\" + 0.006*\"width\" + 0.005*\"id\" + 0.005*\"information\" + 0.005*\"zdnet\" + 0.004*\"caiso\" + 0.004*\"l\"'), (2, '0.011*\"get\" + 0.008*\"send\" + 0.008*\"would\" + 0.007*\"go\" + 0.006*\"trade\" + 0.006*\"price\" + 0.006*\"energy\" + 0.005*\"know\" + 0.005*\"say\" + 0.005*\"may\"'), (3, '0.028*\"right\" + 0.022*\"p\" + 0.021*\"span\" + 0.020*\"nbsp\" + 0.018*\"style\" + 0.011*\"leave\" + 0.007*\"text\" + 0.006*\"msonormal\" + 0.006*\"pad\" + 0.006*\"offer\"')]\n"
     ]
    }
   ],
   "source": [
    "#New LDA\n",
    "text_clean=[]\n",
    "for text in short_analysis['clean_content']:\n",
    "    text_clean.append(text.split())\n",
    "dictionary = corpora.Dictionary(text_clean)\n",
    "text_term_matrix = [dictionary.doc2bow(text) for text in text_clean]\n",
    "Lda = gensim.models.ldamodel.LdaModel\n",
    "ldamodel = Lda(text_term_matrix, num_topics=4, id2word = dictionary, passes=30)\n",
    "print(ldamodel.print_topics(num_topics=4, num_words=10))"
   ]
  },
  {
   "cell_type": "code",
   "execution_count": 15,
   "metadata": {},
   "outputs": [
    {
     "name": "stdout",
     "output_type": "stream",
     "text": [
      "Topic 0:\n",
      "know make new like price send trade energy buy right\n",
      "Topic 1:\n",
      "price make know right like buy energy trade send new\n",
      "Topic 2:\n",
      "buy right new like trade know make price energy send\n",
      "Topic 3:\n",
      "send trade like know right make new energy buy price\n",
      "Topic 4:\n",
      "send price know like new make trade buy right energy\n",
      "Topic 5:\n",
      "like know make new right send price buy trade energy\n",
      "Topic 6:\n",
      "new make know price like trade buy send energy right\n",
      "Topic 7:\n",
      "energy new like buy price make know right trade send\n",
      "Topic 8:\n",
      "trade make price new like buy know energy right send\n",
      "Topic 9:\n",
      "right make new send know like price buy energy trade\n"
     ]
    }
   ],
   "source": [
    "#Old LDA\n",
    "features = 10\n",
    "topics = 10\n",
    "tf_vectorizer = CountVectorizer(max_df=0.95, min_df=2, max_features=features, stop_words='english')\n",
    "tf = tf_vectorizer.fit_transform(analysis_df.clean_content)\n",
    "tf_feature_names = tf_vectorizer.get_feature_names()\n",
    "lda = LatentDirichletAllocation(n_components = topics, max_iter=5, learning_method='online', learning_offset=50.,random_state=0).fit(tf)\n",
    "for topic_idx, topic in enumerate(lda.components_):\n",
    "    print (\"Topic %d:\" % (topic_idx))\n",
    "    print (\" \".join([tf_feature_names[i] for i in topic.argsort()[:-10 - 1:-1]]))"
   ]
  },
  {
   "cell_type": "markdown",
   "metadata": {},
   "source": [
    "## Gaussian Mixed Model (GMM):"
   ]
  },
  {
   "cell_type": "code",
   "execution_count": 16,
   "metadata": {},
   "outputs": [
    {
     "data": {
      "image/png": "[encoded data removed]",
      "text/plain": [
       "<Figure size 432x288 with 1 Axes>"
      ]
     },
     "metadata": {
      "needs_background": "light"
     },
     "output_type": "display_data"
    }
   ],
   "source": [
    "\n",
    "from sklearn.mixture import GaussianMixture\n",
    "gmm = GaussianMixture(n_components=4).fit(datapoint)\n",
    "labels = gmm.predict(datapoint)\n",
    "plt.scatter(datapoint[:, 0], datapoint[:, 1], c=labels, s=40, cmap='viridis');"
   ]
  },
  {
   "cell_type": "code",
   "execution_count": null,
   "metadata": {},
   "outputs": [],
   "source": []
  }
 ],
 "metadata": {
  "kernelspec": {
   "display_name": "Python 3",
   "language": "python",
   "name": "python3"
  },
  "language_info": {
   "codemirror_mode": {
    "name": "ipython",
    "version": 3
   },
   "file_extension": ".py",
   "mimetype": "text/x-python",
   "name": "python",
   "nbconvert_exporter": "python",
   "pygments_lexer": "ipython3",
   "version": "3.6.8"
  },
  "varInspector": {
   "cols": {
    "lenName": 16,
    "lenType": 16,
    "lenVar": 40
   },
   "kernels_config": {
    "python": {
     "delete_cmd_postfix": "",
     "delete_cmd_prefix": "del ",
     "library": "var_list.py",
     "varRefreshCmd": "print(var_dic_list())"
    },
    "r": {
     "delete_cmd_postfix": ") ",
     "delete_cmd_prefix": "rm(",
     "library": "var_list.r",
     "varRefreshCmd": "cat(var_dic_list()) "
    }
   },
   "types_to_exclude": [
    "module",
    "function",
    "builtin_function_or_method",
    "instance",
    "_Feature"
   ],
   "window_display": false
  }
 },
 "nbformat": 4,
 "nbformat_minor": 2
}
