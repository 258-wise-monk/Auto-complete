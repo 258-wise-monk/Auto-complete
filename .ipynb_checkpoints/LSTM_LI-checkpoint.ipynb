{
 "cells": [
  {
   "cell_type": "code",
   "execution_count": 0,
   "metadata": {
    "colab": {},
    "colab_type": "code",
    "id": "XFtjc36YGj6N"
   },
   "outputs": [],
   "source": [
    "import numpy as np\n",
    "np.random.seed(42)\n",
    "import tensorflow as tf\n",
    "tf.set_random_seed(42)\n",
    "from keras.models import Sequential, load_model\n",
    "from keras.layers import Dense, Activation\n",
    "from keras.layers import LSTM, Dropout\n",
    "from keras.layers import TimeDistributed\n",
    "from keras.layers.core import Dense, Activation, Dropout, RepeatVector\n",
    "from keras.optimizers import RMSprop\n",
    "import matplotlib.pyplot as plt\n",
    "import pickle\n",
    "import sys\n",
    "import heapq\n",
    "import seaborn as sns\n",
    "from pylab import rcParams\n",
    "\n",
    "%matplotlib inline\n",
    "\n",
    "sns.set(style='whitegrid', palette='muted', font_scale=1.5)\n",
    "\n",
    "rcParams['figure.figsize'] = 12, 5"
   ]
  },
  {
   "cell_type": "code",
   "execution_count": 52,
   "metadata": {
    "colab": {
     "base_uri": "https://localhost:8080/",
     "height": 34
    },
    "colab_type": "code",
    "executionInfo": {
     "elapsed": 3200,
     "status": "ok",
     "timestamp": 1552786610645,
     "user": {
      "displayName": "Yuanzhe Li",
      "photoUrl": "",
      "userId": "02372743041431696661"
     },
     "user_tz": 420
    },
    "id": "gyY_S0CYGSMk",
    "outputId": "21112cb6-9695-40f0-d635-c3bea591fa55"
   },
   "outputs": [
    {
     "name": "stdout",
     "output_type": "stream",
     "text": [
      "corpus length: 136384254\n"
     ]
    }
   ],
   "source": [
    "path = 'train_set.txt'\n",
    "text = open(path).read().lower()\n",
    "print('corpus length:', len(text))\n",
    "text = text[:100000]"
   ]
  },
  {
   "cell_type": "code",
   "execution_count": 53,
   "metadata": {
    "colab": {
     "base_uri": "https://localhost:8080/",
     "height": 34
    },
    "colab_type": "code",
    "executionInfo": {
     "elapsed": 3190,
     "status": "ok",
     "timestamp": 1552786610646,
     "user": {
      "displayName": "Yuanzhe Li",
      "photoUrl": "",
      "userId": "02372743041431696661"
     },
     "user_tz": 420
    },
    "id": "mpUpPzY5GaV5",
    "outputId": "d44b2b40-62e2-4d1c-f0c5-df0cb7564c5a"
   },
   "outputs": [
    {
     "name": "stdout",
     "output_type": "stream",
     "text": [
      "unique chars: 65\n"
     ]
    }
   ],
   "source": [
    "chars = sorted(list(set(text)))\n",
    "char_indices = dict((c, i) for i, c in enumerate(chars))\n",
    "indices_char = dict((i, c) for i, c in enumerate(chars))\n",
    "\n",
    "print(f'unique chars: {len(chars)}')"
   ]
  },
  {
   "cell_type": "code",
   "execution_count": 54,
   "metadata": {
    "colab": {
     "base_uri": "https://localhost:8080/",
     "height": 34
    },
    "colab_type": "code",
    "executionInfo": {
     "elapsed": 3827,
     "status": "ok",
     "timestamp": 1552786611294,
     "user": {
      "displayName": "Yuanzhe Li",
      "photoUrl": "",
      "userId": "02372743041431696661"
     },
     "user_tz": 420
    },
    "id": "DfTKZ0cxGtru",
    "outputId": "04a765ab-ded7-4442-e2db-19a0f7c8f481"
   },
   "outputs": [
    {
     "name": "stdout",
     "output_type": "stream",
     "text": [
      "num training examples: 33320\n"
     ]
    }
   ],
   "source": [
    "SEQUENCE_LENGTH = 40\n",
    "step = 3\n",
    "sentences = []\n",
    "next_chars = []\n",
    "for i in range(0, len(text) - SEQUENCE_LENGTH, step):\n",
    "    sentences.append(text[i: i + SEQUENCE_LENGTH])\n",
    "    next_chars.append(text[i + SEQUENCE_LENGTH])\n",
    "print(f'num training examples: {len(sentences)}')"
   ]
  },
  {
   "cell_type": "code",
   "execution_count": 0,
   "metadata": {
    "colab": {},
    "colab_type": "code",
    "id": "4QSKtaR_Gumz"
   },
   "outputs": [],
   "source": [
    "X = np.zeros((len(sentences), SEQUENCE_LENGTH, len(chars)), dtype=np.bool)\n",
    "y = np.zeros((len(sentences), len(chars)), dtype=np.bool)\n",
    "for i, sentence in enumerate(sentences):\n",
    "    for t, char in enumerate(sentence):\n",
    "        X[i, t, char_indices[char]] = 1\n",
    "    y[i, char_indices[next_chars[i]]] = 1"
   ]
  },
  {
   "cell_type": "code",
   "execution_count": 56,
   "metadata": {
    "colab": {
     "base_uri": "https://localhost:8080/",
     "height": 34
    },
    "colab_type": "code",
    "executionInfo": {
     "elapsed": 4404,
     "status": "ok",
     "timestamp": 1552786611889,
     "user": {
      "displayName": "Yuanzhe Li",
      "photoUrl": "",
      "userId": "02372743041431696661"
     },
     "user_tz": 420
    },
    "id": "t8CvB9tHGz2n",
    "outputId": "7f5527e7-6cab-431d-c962-80716a2c1ce4"
   },
   "outputs": [
    {
     "data": {
      "text/plain": [
       "'nest opinions on whether a trip is even '"
      ]
     },
     "execution_count": 56,
     "metadata": {
      "tags": []
     },
     "output_type": "execute_result"
    }
   ],
   "source": [
    "sentences[100]"
   ]
  },
  {
   "cell_type": "code",
   "execution_count": 57,
   "metadata": {
    "colab": {
     "base_uri": "https://localhost:8080/",
     "height": 34
    },
    "colab_type": "code",
    "executionInfo": {
     "elapsed": 4393,
     "status": "ok",
     "timestamp": 1552786611889,
     "user": {
      "displayName": "Yuanzhe Li",
      "photoUrl": "",
      "userId": "02372743041431696661"
     },
     "user_tz": 420
    },
    "id": "GkrRHqO5G1JK",
    "outputId": "1876b40f-8863-4cc1-b881-8b7b4f3220bb"
   },
   "outputs": [
    {
     "data": {
      "text/plain": [
       "'d'"
      ]
     },
     "execution_count": 57,
     "metadata": {
      "tags": []
     },
     "output_type": "execute_result"
    }
   ],
   "source": [
    "next_chars[100]"
   ]
  },
  {
   "cell_type": "code",
   "execution_count": 58,
   "metadata": {
    "colab": {
     "base_uri": "https://localhost:8080/",
     "height": 153
    },
    "colab_type": "code",
    "executionInfo": {
     "elapsed": 4384,
     "status": "ok",
     "timestamp": 1552786611890,
     "user": {
      "displayName": "Yuanzhe Li",
      "photoUrl": "",
      "userId": "02372743041431696661"
     },
     "user_tz": 420
    },
    "id": "X-GhtBuzG7xV",
    "outputId": "80886efe-0152-4b7f-875c-3f197999f301"
   },
   "outputs": [
    {
     "data": {
      "text/plain": [
       "array([False, False, False, False, False, False, False, False, False,\n",
       "       False, False, False, False, False, False, False, False, False,\n",
       "       False, False, False, False, False, False, False, False, False,\n",
       "       False, False, False, False, False, False, False, False, False,\n",
       "       False, False, False, False,  True, False, False, False, False,\n",
       "       False, False, False, False, False, False, False, False, False,\n",
       "       False, False, False, False, False, False, False, False, False,\n",
       "       False, False])"
      ]
     },
     "execution_count": 58,
     "metadata": {
      "tags": []
     },
     "output_type": "execute_result"
    }
   ],
   "source": [
    "X[0][0]"
   ]
  },
  {
   "cell_type": "code",
   "execution_count": 59,
   "metadata": {
    "colab": {
     "base_uri": "https://localhost:8080/",
     "height": 153
    },
    "colab_type": "code",
    "executionInfo": {
     "elapsed": 4375,
     "status": "ok",
     "timestamp": 1552786611891,
     "user": {
      "displayName": "Yuanzhe Li",
      "photoUrl": "",
      "userId": "02372743041431696661"
     },
     "user_tz": 420
    },
    "id": "w-9oKMXqG_OE",
    "outputId": "e24d5c65-4a3f-465f-bd20-65cb2dea26e4"
   },
   "outputs": [
    {
     "data": {
      "text/plain": [
       "array([False, False, False, False, False, False, False, False, False,\n",
       "       False, False, False, False, False, False, False, False, False,\n",
       "       False, False, False, False, False, False, False, False, False,\n",
       "       False, False, False, False, False, False, False, False, False,\n",
       "       False, False, False, False, False, False,  True, False, False,\n",
       "       False, False, False, False, False, False, False, False, False,\n",
       "       False, False, False, False, False, False, False, False, False,\n",
       "       False, False])"
      ]
     },
     "execution_count": 59,
     "metadata": {
      "tags": []
     },
     "output_type": "execute_result"
    }
   ],
   "source": [
    "y[0]"
   ]
  },
  {
   "cell_type": "code",
   "execution_count": 60,
   "metadata": {
    "colab": {
     "base_uri": "https://localhost:8080/",
     "height": 34
    },
    "colab_type": "code",
    "executionInfo": {
     "elapsed": 4366,
     "status": "ok",
     "timestamp": 1552786611892,
     "user": {
      "displayName": "Yuanzhe Li",
      "photoUrl": "",
      "userId": "02372743041431696661"
     },
     "user_tz": 420
    },
    "id": "ucuClj8OHDav",
    "outputId": "f2723517-fdc8-49d2-e992-1c117a27a44e"
   },
   "outputs": [
    {
     "data": {
      "text/plain": [
       "(33320, 40, 65)"
      ]
     },
     "execution_count": 60,
     "metadata": {
      "tags": []
     },
     "output_type": "execute_result"
    }
   ],
   "source": [
    "X.shape"
   ]
  },
  {
   "cell_type": "code",
   "execution_count": 61,
   "metadata": {
    "colab": {
     "base_uri": "https://localhost:8080/",
     "height": 34
    },
    "colab_type": "code",
    "executionInfo": {
     "elapsed": 4357,
     "status": "ok",
     "timestamp": 1552786611892,
     "user": {
      "displayName": "Yuanzhe Li",
      "photoUrl": "",
      "userId": "02372743041431696661"
     },
     "user_tz": 420
    },
    "id": "03NE-yfKHG5P",
    "outputId": "caab1c72-515d-421b-e883-3ebbf9f7c1c4"
   },
   "outputs": [
    {
     "data": {
      "text/plain": [
       "(33320, 65)"
      ]
     },
     "execution_count": 61,
     "metadata": {
      "tags": []
     },
     "output_type": "execute_result"
    }
   ],
   "source": [
    "y.shape"
   ]
  },
  {
   "cell_type": "code",
   "execution_count": 0,
   "metadata": {
    "colab": {},
    "colab_type": "code",
    "id": "W15I9GiRHJeQ"
   },
   "outputs": [],
   "source": [
    "model = Sequential()\n",
    "model.add(LSTM(128, input_shape=(SEQUENCE_LENGTH, len(chars))))\n",
    "model.add(Dense(len(chars)))\n",
    "model.add(Activation('softmax'))"
   ]
  },
  {
   "cell_type": "code",
   "execution_count": 63,
   "metadata": {
    "colab": {
     "base_uri": "https://localhost:8080/",
     "height": 1020
    },
    "colab_type": "code",
    "executionInfo": {
     "elapsed": 786929,
     "status": "ok",
     "timestamp": 1552787394483,
     "user": {
      "displayName": "Yuanzhe Li",
      "photoUrl": "",
      "userId": "02372743041431696661"
     },
     "user_tz": 420
    },
    "id": "MpkVjMyKHMM5",
    "outputId": "663cb3a1-c42e-409b-8fbe-24be3a22a129"
   },
   "outputs": [
    {
     "name": "stdout",
     "output_type": "stream",
     "text": [
      "Train on 31654 samples, validate on 1666 samples\n",
      "Epoch 1/20\n",
      "31654/31654 [==============================] - 41s 1ms/step - loss: 2.6852 - acc: 0.2800 - val_loss: 2.2826 - val_acc: 0.3631\n",
      "Epoch 2/20\n",
      "31654/31654 [==============================] - 39s 1ms/step - loss: 2.1167 - acc: 0.4083 - val_loss: 1.9618 - val_acc: 0.4484\n",
      "Epoch 3/20\n",
      "31654/31654 [==============================] - 39s 1ms/step - loss: 1.8685 - acc: 0.4710 - val_loss: 1.9161 - val_acc: 0.4796\n",
      "Epoch 4/20\n",
      "31654/31654 [==============================] - 39s 1ms/step - loss: 1.6761 - acc: 0.5227 - val_loss: 1.8670 - val_acc: 0.4892\n",
      "Epoch 5/20\n",
      "31654/31654 [==============================] - 39s 1ms/step - loss: 1.5245 - acc: 0.5642 - val_loss: 1.8762 - val_acc: 0.5000\n",
      "Epoch 6/20\n",
      "31654/31654 [==============================] - 39s 1ms/step - loss: 1.3960 - acc: 0.6000 - val_loss: 1.8793 - val_acc: 0.4952\n",
      "Epoch 7/20\n",
      "31654/31654 [==============================] - 38s 1ms/step - loss: 1.3002 - acc: 0.6261 - val_loss: 1.9068 - val_acc: 0.4976\n",
      "Epoch 8/20\n",
      "31654/31654 [==============================] - 39s 1ms/step - loss: 1.2190 - acc: 0.6472 - val_loss: 1.9257 - val_acc: 0.4964\n",
      "Epoch 9/20\n",
      "31654/31654 [==============================] - 39s 1ms/step - loss: 1.1542 - acc: 0.6678 - val_loss: 1.9772 - val_acc: 0.4952\n",
      "Epoch 10/20\n",
      "31654/31654 [==============================] - 39s 1ms/step - loss: 1.1058 - acc: 0.6787 - val_loss: 2.0635 - val_acc: 0.4874\n",
      "Epoch 11/20\n",
      "31654/31654 [==============================] - 40s 1ms/step - loss: 1.0571 - acc: 0.6922 - val_loss: 2.0388 - val_acc: 0.4856\n",
      "Epoch 12/20\n",
      "31654/31654 [==============================] - 39s 1ms/step - loss: 1.0159 - acc: 0.7047 - val_loss: 2.0487 - val_acc: 0.5042\n",
      "Epoch 13/20\n",
      "31654/31654 [==============================] - 39s 1ms/step - loss: 0.9911 - acc: 0.7097 - val_loss: 2.0987 - val_acc: 0.5144\n",
      "Epoch 14/20\n",
      "31654/31654 [==============================] - 39s 1ms/step - loss: 0.9647 - acc: 0.7201 - val_loss: 2.1112 - val_acc: 0.5012\n",
      "Epoch 15/20\n",
      "31654/31654 [==============================] - 39s 1ms/step - loss: 0.9404 - acc: 0.7248 - val_loss: 2.1511 - val_acc: 0.5030\n",
      "Epoch 16/20\n",
      "31654/31654 [==============================] - 39s 1ms/step - loss: 0.9171 - acc: 0.7303 - val_loss: 2.2312 - val_acc: 0.4982\n",
      "Epoch 17/20\n",
      "31654/31654 [==============================] - 39s 1ms/step - loss: 0.8943 - acc: 0.7376 - val_loss: 2.2010 - val_acc: 0.4994\n",
      "Epoch 18/20\n",
      "31654/31654 [==============================] - 39s 1ms/step - loss: 0.8708 - acc: 0.7425 - val_loss: 2.2254 - val_acc: 0.4940\n",
      "Epoch 19/20\n",
      "31654/31654 [==============================] - 40s 1ms/step - loss: 0.8426 - acc: 0.7510 - val_loss: 2.2637 - val_acc: 0.4958\n",
      "Epoch 20/20\n",
      "31654/31654 [==============================] - 39s 1ms/step - loss: 0.8300 - acc: 0.7541 - val_loss: 2.2621 - val_acc: 0.4988\n"
     ]
    }
   ],
   "source": [
    "optimizer = RMSprop(lr=0.01)\n",
    "model.compile(loss='categorical_crossentropy', optimizer=optimizer, metrics=['accuracy'])\n",
    "history = model.fit(X, y, validation_split=0.05, batch_size=128, epochs=20, shuffle=True).history"
   ]
  },
  {
   "cell_type": "code",
   "execution_count": 0,
   "metadata": {
    "colab": {},
    "colab_type": "code",
    "id": "feaeE9tIHd6K"
   },
   "outputs": [],
   "source": [
    "model.save('keras_model.h5')\n",
    "pickle.dump(history, open(\"history.p\", \"wb\"))"
   ]
  },
  {
   "cell_type": "code",
   "execution_count": 0,
   "metadata": {
    "colab": {},
    "colab_type": "code",
    "id": "Iq6x1jfrHezO"
   },
   "outputs": [],
   "source": [
    "model = load_model('keras_model.h5')\n",
    "history = pickle.load(open(\"history.p\", \"rb\"))"
   ]
  },
  {
   "cell_type": "code",
   "execution_count": 66,
   "metadata": {
    "colab": {
     "base_uri": "https://localhost:8080/",
     "height": 362
    },
    "colab_type": "code",
    "executionInfo": {
     "elapsed": 791216,
     "status": "ok",
     "timestamp": 1552787398793,
     "user": {
      "displayName": "Yuanzhe Li",
      "photoUrl": "",
      "userId": "02372743041431696661"
     },
     "user_tz": 420
    },
    "id": "NQoeiIN6HjYP",
    "outputId": "97da5784-3c6a-4885-da2b-a53c1c91896f"
   },
   "outputs": [
    {
     "data": {
      "image/png": "[encoded data removed]",
      "text/plain": [
       "<Figure size 864x360 with 1 Axes>"
      ]
     },
     "metadata": {
      "tags": []
     },
     "output_type": "display_data"
    }
   ],
   "source": [
    "plt.plot(history['acc'])\n",
    "plt.plot(history['val_acc'])\n",
    "plt.title('model accuracy')\n",
    "plt.ylabel('accuracy')\n",
    "plt.xlabel('epoch')\n",
    "plt.legend(['train', 'test'], loc='upper left');"
   ]
  },
  {
   "cell_type": "code",
   "execution_count": 67,
   "metadata": {
    "colab": {
     "base_uri": "https://localhost:8080/",
     "height": 362
    },
    "colab_type": "code",
    "executionInfo": {
     "elapsed": 792025,
     "status": "ok",
     "timestamp": 1552787399618,
     "user": {
      "displayName": "Yuanzhe Li",
      "photoUrl": "",
      "userId": "02372743041431696661"
     },
     "user_tz": 420
    },
    "id": "1C-qFoaLHpyc",
    "outputId": "33e7360b-072c-4c0d-ac34-22aa244f6a99"
   },
   "outputs": [
    {
     "data": {
      "image/png": "[encoded data removed]",
      "text/plain": [
       "<Figure size 864x360 with 1 Axes>"
      ]
     },
     "metadata": {
      "tags": []
     },
     "output_type": "display_data"
    }
   ],
   "source": [
    "plt.plot(history['loss'])\n",
    "plt.plot(history['val_loss'])\n",
    "plt.title('model loss')\n",
    "plt.ylabel('loss')\n",
    "plt.xlabel('epoch')\n",
    "plt.legend(['train', 'test'], loc='upper left');"
   ]
  },
  {
   "cell_type": "code",
   "execution_count": 0,
   "metadata": {
    "colab": {},
    "colab_type": "code",
    "id": "idwaCzp7HqNT"
   },
   "outputs": [],
   "source": [
    "def prepare_input(text):\n",
    "    x = np.zeros((1, SEQUENCE_LENGTH, len(chars)))\n",
    "    for t, char in enumerate(text):\n",
    "        x[0, t, char_indices[char]] = 1.\n",
    "        \n",
    "    return x"
   ]
  },
  {
   "cell_type": "code",
   "execution_count": 69,
   "metadata": {
    "colab": {
     "base_uri": "https://localhost:8080/",
     "height": 136
    },
    "colab_type": "code",
    "executionInfo": {
     "elapsed": 792009,
     "status": "ok",
     "timestamp": 1552787399622,
     "user": {
      "displayName": "Yuanzhe Li",
      "photoUrl": "",
      "userId": "02372743041431696661"
     },
     "user_tz": 420
    },
    "id": "jOxlKkrPHtkX",
    "outputId": "8faeb8d9-8586-4951-f988-e15d60e0943a"
   },
   "outputs": [
    {
     "data": {
      "text/plain": [
       "array([[[0., 0., 0., ..., 0., 0., 0.],\n",
       "        [0., 0., 0., ..., 0., 0., 0.],\n",
       "        [0., 0., 0., ..., 0., 0., 0.],\n",
       "        ...,\n",
       "        [0., 0., 0., ..., 0., 0., 0.],\n",
       "        [0., 0., 0., ..., 0., 0., 0.],\n",
       "        [0., 0., 0., ..., 0., 0., 0.]]])"
      ]
     },
     "execution_count": 69,
     "metadata": {
      "tags": []
     },
     "output_type": "execute_result"
    }
   ],
   "source": [
    "prepare_input(\"This is an example of input for our LSTM\".lower())"
   ]
  },
  {
   "cell_type": "code",
   "execution_count": 0,
   "metadata": {
    "colab": {},
    "colab_type": "code",
    "id": "aeKrt_wrHwXb"
   },
   "outputs": [],
   "source": [
    "def sample(preds, top_n=3):\n",
    "    preds = np.asarray(preds).astype('float64')\n",
    "    preds = np.log(preds)\n",
    "    exp_preds = np.exp(preds)\n",
    "    preds = exp_preds / np.sum(exp_preds)\n",
    "    \n",
    "    return heapq.nlargest(top_n, range(len(preds)), preds.take)"
   ]
  },
  {
   "cell_type": "code",
   "execution_count": 0,
   "metadata": {
    "colab": {},
    "colab_type": "code",
    "id": "jq_et1jVH0qy"
   },
   "outputs": [],
   "source": [
    "def predict_completion(text):\n",
    "    original_text = text\n",
    "    generated = text\n",
    "    completion = ''\n",
    "    while True:\n",
    "        x = prepare_input(text)\n",
    "        preds = model.predict(x, verbose=0)[0]\n",
    "        next_index = sample(preds, top_n=1)[0]\n",
    "        next_char = indices_char[next_index]\n",
    "        text = text[1:] + next_char\n",
    "        completion += next_char\n",
    "        \n",
    "        if len(original_text + completion) + 2 > len(original_text) and next_char == ' ':\n",
    "            return completion"
   ]
  },
  {
   "cell_type": "code",
   "execution_count": 0,
   "metadata": {
    "colab": {},
    "colab_type": "code",
    "id": "zUQ16e6OH4Ry"
   },
   "outputs": [],
   "source": [
    "def predict_completions(text, n=3):\n",
    "    x = prepare_input(text)\n",
    "    preds = model.predict(x, verbose=0)[0]\n",
    "    next_indices = sample(preds, n)\n",
    "    return [indices_char[idx] + predict_completion(text[1:] + indices_char[idx]) for idx in next_indices]"
   ]
  },
  {
   "cell_type": "code",
   "execution_count": 0,
   "metadata": {
    "colab": {},
    "colab_type": "code",
    "id": "MGSKBtnyH7Tc"
   },
   "outputs": [],
   "source": [
    "quotes = [\n",
    "    \"gas price change.\",\n",
    "    \"That which does not kill us makes us stronger.\",\n",
    "    \"I'm not upset that you lied to me, I'm upset that from now on I can't believe you.\",\n",
    "    \"And those who were seen dancing were thought to be insane by those who could not hear the music.\",\n",
    "    \"It is hard enough to remember my opinions, without also remembering my reasons for them!\"\n",
    "]"
   ]
  },
  {
   "cell_type": "code",
   "execution_count": 76,
   "metadata": {
    "colab": {
     "base_uri": "https://localhost:8080/",
     "height": 292
    },
    "colab_type": "code",
    "executionInfo": {
     "elapsed": 5187,
     "status": "ok",
     "timestamp": 1552787779991,
     "user": {
      "displayName": "Yuanzhe Li",
      "photoUrl": "",
      "userId": "02372743041431696661"
     },
     "user_tz": 420
    },
    "id": "6QzurjYcLuyy",
    "outputId": "d7260eb5-fcad-47b1-c883-4f69f053c94b"
   },
   "outputs": [
    {
     "name": "stdout",
     "output_type": "stream",
     "text": [
      "gas price change.\n",
      "['s\\n\\nks\\n\\n\"\\n\\ny=\\n=\\n\\ni2xkk\"22kk)\\nks\\nb\\n2k)2ds2k\\n/////@///@/ar/a/a/@v//s/s//g//////v/////,\")s@s//////wrr/l/u///p,/y/,//:\"\"\"s\"\\ns))\"21dk\\n,\\nsks\\nyl222k2@c\"2)i22,:2\"))d\\nk\\ns,21.y\\n\\n2kk21)2\"l\\nk2\\n\"css/u/u/////////s//s//r//2h,//s///=p/a//ka/e:/a//@,h//@v@/:c\",k\"pk\\n\\nk2\\n\\nk2yk2\\n\\n\\nk22d@)kk\"s\\n\\n\"\\n\\nlkkk2)\"2k\\n\\ny\\ny\\n,\\n\\n\\n2/\" ', 'yysmfk\\n2\\nksimkk)2,,x,k\"\\nskk\\n2\\n\\n)\\n22\"\\ns\\n22\\n12\"2\\n\\n2\\n@\")//////c/////gk,\\n2\\n,k2\"\\ns//u////////l/,//\\na//s///a///a//s/:s/a/,.\\n\"\\ns\\n2///x/////,a/w///a//\"/,///@\"\\n,\"m2\\n\"m\\n\\nk2\\nms,2d@k,k2\"p\\n2\"=\\n2k\\nm\\n2ydwdy//////////ss//p//@ra\"-\\n\\n2\\nm2j\\nks///////////,,/,a/rt/lau/@////////\"///p=/kya\"///////\"//eaau/////////uu///////w,u/,/,/)b)///////rup,\"\"\"s/sur/////u///////\"p/l//,a//ha//-////,ea/,/\\n)u/\\n\"22\\n\\nkdl2\\n ', '\\n\\nks\\n)222\"k\\nk22k\\n@kidd\\n\\nkk\"yyl222s\\n2)\\nk\\n=\\nks12d211k\"\\ns\\n\"b\"22kk\"\\n\\nkk\\n2d\"\\ns2\\n ', '2k\\ndy\\n\\ns22)2\"kh)\\n\\nkk22,-\\n\"\\nly2@/a/@////@s///////\"x/.,s//,/)a//a//a//w,,u,-ssds2d\\ns,ts/////////-a:,a\\nv2\\n2s).\\n2\\nk2s\\n\\nd)\"k\\n\\nls\\nd2\\n)2k2@\")k ', ',sk2k2k\\n\\nk\"\\n)dy2-s,-22yk\"\\nkl\\n\\nkyy\\nyy\\nkk)\\nd2k\"\\n\",k\\n\\nk1\"\\ns)2,1\"22k\"pk\\ns/@////c////l/s/wnrunu$/a//////////////@@ja=aa\"\"2\"2\\n1k\"\\n2k\\n2\\nyk\\n\\n1k\"\\nk\\nkd2\"-p\\ny,s\\nkk2\"p22\"\\n2///a//s////p)\\n\"2,\",\"ik\\n22kk\"l\\n\\nks\\n\\n2sk)\"///s////c/a/s/////s/l//f//s//r//a//\\n@a//wp/,//u////\"//wq/s////,/\"////\\n//l@u/san///////su////a///.aa/,,/a//////p/gsu////,//\\n\\n\\ne\\n\\n2k\\nk222-22-:k\"\\n\\nyk=\"\\n\\ny=\"\\n)22\\n,),\"\\nyk\\n2\\n2\\n22k1-2u):\",k\\n\"\\ny2l222@\"2\"\\nk2\\n2\"\\nsk222k ']\n",
      "\n",
      "that which does not kill us makes us str\n",
      "['ative.d\\n\\n\\n\\n\\n\\n\\n\\n\\n\\n\\n\\n\\n\\n\\n\\nhas ', 'eekside ', 'ibcess ', 'ubcest ', 'ots.\\n\\n ']\n",
      "\n",
      "i'm not upset that you lied to me, i'm u\n",
      "['p ', 'ndet ', 'bces ', 'm ', 's ']\n",
      "\n",
      "and those who were seen dancing were tho\n",
      "['se ', 'ld ', 'ugh ', 'w. ', 're ']\n",
      "\n",
      "it is hard enough to remember my opinion\n",
      "[' fell ', ', ', '. ', 'd ', 's ']\n",
      "\n"
     ]
    }
   ],
   "source": [
    "for q in quotes:\n",
    "    seq = q[:40].lower()\n",
    "    print(seq)\n",
    "    print(predict_completions(seq, 5))\n",
    "    print()"
   ]
  },
  {
   "cell_type": "code",
   "execution_count": 0,
   "metadata": {
    "colab": {},
    "colab_type": "code",
    "id": "GtOUyfaRLwzp"
   },
   "outputs": [],
   "source": []
  }
 ],
 "metadata": {
  "colab": {
   "name": "LSTM_LI.ipynb",
   "provenance": [],
   "version": "0.3.2"
  },
  "kernelspec": {
   "display_name": "Python 3",
   "language": "python",
   "name": "python3"
  },
  "language_info": {
   "codemirror_mode": {
    "name": "ipython",
    "version": 3
   },
   "file_extension": ".py",
   "mimetype": "text/x-python",
   "name": "python",
   "nbconvert_exporter": "python",
   "pygments_lexer": "ipython3",
   "version": "3.6.8"
  },
  "varInspector": {
   "cols": {
    "lenName": 16,
    "lenType": 16,
    "lenVar": 40
   },
   "kernels_config": {
    "python": {
     "delete_cmd_postfix": "",
     "delete_cmd_prefix": "del ",
     "library": "var_list.py",
     "varRefreshCmd": "print(var_dic_list())"
    },
    "r": {
     "delete_cmd_postfix": ") ",
     "delete_cmd_prefix": "rm(",
     "library": "var_list.r",
     "varRefreshCmd": "cat(var_dic_list()) "
    }
   },
   "types_to_exclude": [
    "module",
    "function",
    "builtin_function_or_method",
    "instance",
    "_Feature"
   ],
   "window_display": false
  }
 },
 "nbformat": 4,
 "nbformat_minor": 1
}
